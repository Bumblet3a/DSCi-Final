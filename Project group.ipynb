{
 "cells": [
  {
   "cell_type": "markdown",
   "id": "360b67e6-2ee4-4aac-bb5a-02008aad03f1",
   "metadata": {},
   "source": [
    "# "
   ]
  },
  {
   "cell_type": "code",
   "execution_count": 3,
   "id": "8bf32b3d-93d0-4cc2-b597-b1d25f99a5a3",
   "metadata": {
    "vscode": {
     "languageId": "r"
    }
   },
   "outputs": [
    {
     "name": "stderr",
     "output_type": "stream",
     "text": [
      "── \u001b[1mAttaching packages\u001b[22m ────────────────────────────────────── tidymodels 1.3.0 ──\n",
      "\n",
      "\u001b[32m✔\u001b[39m \u001b[34mbroom       \u001b[39m 1.0.8     \u001b[32m✔\u001b[39m \u001b[34mrsample     \u001b[39m 1.3.0\n",
      "\u001b[32m✔\u001b[39m \u001b[34mdials       \u001b[39m 1.4.0     \u001b[32m✔\u001b[39m \u001b[34mtune        \u001b[39m 1.3.0\n",
      "\u001b[32m✔\u001b[39m \u001b[34minfer       \u001b[39m 1.0.7     \u001b[32m✔\u001b[39m \u001b[34mworkflows   \u001b[39m 1.2.0\n",
      "\u001b[32m✔\u001b[39m \u001b[34mmodeldata   \u001b[39m 1.4.0     \u001b[32m✔\u001b[39m \u001b[34mworkflowsets\u001b[39m 1.1.0\n",
      "\u001b[32m✔\u001b[39m \u001b[34mparsnip     \u001b[39m 1.3.1     \u001b[32m✔\u001b[39m \u001b[34myardstick   \u001b[39m 1.3.2\n",
      "\u001b[32m✔\u001b[39m \u001b[34mrecipes     \u001b[39m 1.2.1     \n",
      "\n",
      "── \u001b[1mConflicts\u001b[22m ───────────────────────────────────────── tidymodels_conflicts() ──\n",
      "\u001b[31m✖\u001b[39m \u001b[34mscales\u001b[39m::\u001b[32mdiscard()\u001b[39m masks \u001b[34mpurrr\u001b[39m::discard()\n",
      "\u001b[31m✖\u001b[39m \u001b[34mdplyr\u001b[39m::\u001b[32mfilter()\u001b[39m   masks \u001b[34mstats\u001b[39m::filter()\n",
      "\u001b[31m✖\u001b[39m \u001b[34mrecipes\u001b[39m::\u001b[32mfixed()\u001b[39m  masks \u001b[34mstringr\u001b[39m::fixed()\n",
      "\u001b[31m✖\u001b[39m \u001b[34mdplyr\u001b[39m::\u001b[32mlag()\u001b[39m      masks \u001b[34mstats\u001b[39m::lag()\n",
      "\u001b[31m✖\u001b[39m \u001b[34myardstick\u001b[39m::\u001b[32mspec()\u001b[39m masks \u001b[34mreadr\u001b[39m::spec()\n",
      "\u001b[31m✖\u001b[39m \u001b[34mrecipes\u001b[39m::\u001b[32mstep()\u001b[39m   masks \u001b[34mstats\u001b[39m::step()\n",
      "\n"
     ]
    }
   ],
   "source": [
    "library(tidyverse)\n",
    "library(repr)\n",
    "library(tidymodels)\n",
    "options(repr.matrix.max.rows = 6)"
   ]
  },
  {
   "cell_type": "code",
   "execution_count": 4,
   "id": "4fe51c62-7bf1-448a-ab45-09dd6b6df629",
   "metadata": {
    "vscode": {
     "languageId": "r"
    }
   },
   "outputs": [
    {
     "name": "stderr",
     "output_type": "stream",
     "text": [
      "\u001b[1mRows: \u001b[22m\u001b[34m196\u001b[39m \u001b[1mColumns: \u001b[22m\u001b[34m7\u001b[39m\n",
      "\u001b[36m──\u001b[39m \u001b[1mColumn specification\u001b[22m \u001b[36m────────────────────────────────────────────────────────\u001b[39m\n",
      "\u001b[1mDelimiter:\u001b[22m \",\"\n",
      "\u001b[31mchr\u001b[39m (4): experience, hashedEmail, name, gender\n",
      "\u001b[32mdbl\u001b[39m (2): played_hours, Age\n",
      "\u001b[33mlgl\u001b[39m (1): subscribe\n",
      "\n",
      "\u001b[36mℹ\u001b[39m Use `spec()` to retrieve the full column specification for this data.\n",
      "\u001b[36mℹ\u001b[39m Specify the column types or set `show_col_types = FALSE` to quiet this message.\n"
     ]
    },
    {
     "data": {
      "text/html": [
       "<table class=\"dataframe\">\n",
       "<caption>A tibble: 6 × 7</caption>\n",
       "<thead>\n",
       "\t<tr><th scope=col>experience</th><th scope=col>subscribe</th><th scope=col>hashedEmail</th><th scope=col>played_hours</th><th scope=col>name</th><th scope=col>gender</th><th scope=col>Age</th></tr>\n",
       "\t<tr><th scope=col>&lt;chr&gt;</th><th scope=col>&lt;lgl&gt;</th><th scope=col>&lt;chr&gt;</th><th scope=col>&lt;dbl&gt;</th><th scope=col>&lt;chr&gt;</th><th scope=col>&lt;chr&gt;</th><th scope=col>&lt;dbl&gt;</th></tr>\n",
       "</thead>\n",
       "<tbody>\n",
       "\t<tr><td>Pro    </td><td> TRUE</td><td>f6daba428a5e19a3d47574858c13550499be23603422e6a0ee9728f8b53e192d</td><td>30.3</td><td>Morgan   </td><td>Male  </td><td> 9</td></tr>\n",
       "\t<tr><td>Veteran</td><td> TRUE</td><td>f3c813577c458ba0dfef80996f8f32c93b6e8af1fa939732842f2312358a88e9</td><td> 3.8</td><td>Christian</td><td>Male  </td><td>17</td></tr>\n",
       "\t<tr><td>Veteran</td><td>FALSE</td><td>b674dd7ee0d24096d1c019615ce4d12b20fcbff12d79d3c5a9d2118eb7ccbb28</td><td> 0.0</td><td>Blake    </td><td>Male  </td><td>17</td></tr>\n",
       "\t<tr><td>Amateur</td><td> TRUE</td><td>23fe711e0e3b77f1da7aa221ab1192afe21648d47d2b4fa7a5a659ff443a0eb5</td><td> 0.7</td><td>Flora    </td><td>Female</td><td>21</td></tr>\n",
       "\t<tr><td>Regular</td><td> TRUE</td><td>7dc01f10bf20671ecfccdac23812b1b415acd42c2147cb0af4d48fcce2420f3e</td><td> 0.1</td><td>Kylie    </td><td>Male  </td><td>21</td></tr>\n",
       "\t<tr><td>Amateur</td><td> TRUE</td><td>f58aad5996a435f16b0284a3b267f973f9af99e7a89bee0430055a44fa92f977</td><td> 0.0</td><td>Adrian   </td><td>Female</td><td>17</td></tr>\n",
       "</tbody>\n",
       "</table>\n"
      ],
      "text/latex": [
       "A tibble: 6 × 7\n",
       "\\begin{tabular}{lllllll}\n",
       " experience & subscribe & hashedEmail & played\\_hours & name & gender & Age\\\\\n",
       " <chr> & <lgl> & <chr> & <dbl> & <chr> & <chr> & <dbl>\\\\\n",
       "\\hline\n",
       "\t Pro     &  TRUE & f6daba428a5e19a3d47574858c13550499be23603422e6a0ee9728f8b53e192d & 30.3 & Morgan    & Male   &  9\\\\\n",
       "\t Veteran &  TRUE & f3c813577c458ba0dfef80996f8f32c93b6e8af1fa939732842f2312358a88e9 &  3.8 & Christian & Male   & 17\\\\\n",
       "\t Veteran & FALSE & b674dd7ee0d24096d1c019615ce4d12b20fcbff12d79d3c5a9d2118eb7ccbb28 &  0.0 & Blake     & Male   & 17\\\\\n",
       "\t Amateur &  TRUE & 23fe711e0e3b77f1da7aa221ab1192afe21648d47d2b4fa7a5a659ff443a0eb5 &  0.7 & Flora     & Female & 21\\\\\n",
       "\t Regular &  TRUE & 7dc01f10bf20671ecfccdac23812b1b415acd42c2147cb0af4d48fcce2420f3e &  0.1 & Kylie     & Male   & 21\\\\\n",
       "\t Amateur &  TRUE & f58aad5996a435f16b0284a3b267f973f9af99e7a89bee0430055a44fa92f977 &  0.0 & Adrian    & Female & 17\\\\\n",
       "\\end{tabular}\n"
      ],
      "text/markdown": [
       "\n",
       "A tibble: 6 × 7\n",
       "\n",
       "| experience &lt;chr&gt; | subscribe &lt;lgl&gt; | hashedEmail &lt;chr&gt; | played_hours &lt;dbl&gt; | name &lt;chr&gt; | gender &lt;chr&gt; | Age &lt;dbl&gt; |\n",
       "|---|---|---|---|---|---|---|\n",
       "| Pro     |  TRUE | f6daba428a5e19a3d47574858c13550499be23603422e6a0ee9728f8b53e192d | 30.3 | Morgan    | Male   |  9 |\n",
       "| Veteran |  TRUE | f3c813577c458ba0dfef80996f8f32c93b6e8af1fa939732842f2312358a88e9 |  3.8 | Christian | Male   | 17 |\n",
       "| Veteran | FALSE | b674dd7ee0d24096d1c019615ce4d12b20fcbff12d79d3c5a9d2118eb7ccbb28 |  0.0 | Blake     | Male   | 17 |\n",
       "| Amateur |  TRUE | 23fe711e0e3b77f1da7aa221ab1192afe21648d47d2b4fa7a5a659ff443a0eb5 |  0.7 | Flora     | Female | 21 |\n",
       "| Regular |  TRUE | 7dc01f10bf20671ecfccdac23812b1b415acd42c2147cb0af4d48fcce2420f3e |  0.1 | Kylie     | Male   | 21 |\n",
       "| Amateur |  TRUE | f58aad5996a435f16b0284a3b267f973f9af99e7a89bee0430055a44fa92f977 |  0.0 | Adrian    | Female | 17 |\n",
       "\n"
      ],
      "text/plain": [
       "  experience subscribe\n",
       "1 Pro         TRUE    \n",
       "2 Veteran     TRUE    \n",
       "3 Veteran    FALSE    \n",
       "4 Amateur     TRUE    \n",
       "5 Regular     TRUE    \n",
       "6 Amateur     TRUE    \n",
       "  hashedEmail                                                      played_hours\n",
       "1 f6daba428a5e19a3d47574858c13550499be23603422e6a0ee9728f8b53e192d 30.3        \n",
       "2 f3c813577c458ba0dfef80996f8f32c93b6e8af1fa939732842f2312358a88e9  3.8        \n",
       "3 b674dd7ee0d24096d1c019615ce4d12b20fcbff12d79d3c5a9d2118eb7ccbb28  0.0        \n",
       "4 23fe711e0e3b77f1da7aa221ab1192afe21648d47d2b4fa7a5a659ff443a0eb5  0.7        \n",
       "5 7dc01f10bf20671ecfccdac23812b1b415acd42c2147cb0af4d48fcce2420f3e  0.1        \n",
       "6 f58aad5996a435f16b0284a3b267f973f9af99e7a89bee0430055a44fa92f977  0.0        \n",
       "  name      gender Age\n",
       "1 Morgan    Male    9 \n",
       "2 Christian Male   17 \n",
       "3 Blake     Male   17 \n",
       "4 Flora     Female 21 \n",
       "5 Kylie     Male   21 \n",
       "6 Adrian    Female 17 "
      ]
     },
     "metadata": {},
     "output_type": "display_data"
    },
    {
     "name": "stderr",
     "output_type": "stream",
     "text": [
      "\u001b[1mRows: \u001b[22m\u001b[34m1535\u001b[39m \u001b[1mColumns: \u001b[22m\u001b[34m5\u001b[39m\n",
      "\u001b[36m──\u001b[39m \u001b[1mColumn specification\u001b[22m \u001b[36m────────────────────────────────────────────────────────\u001b[39m\n",
      "\u001b[1mDelimiter:\u001b[22m \",\"\n",
      "\u001b[31mchr\u001b[39m (3): hashedEmail, start_time, end_time\n",
      "\u001b[32mdbl\u001b[39m (2): original_start_time, original_end_time\n",
      "\n",
      "\u001b[36mℹ\u001b[39m Use `spec()` to retrieve the full column specification for this data.\n",
      "\u001b[36mℹ\u001b[39m Specify the column types or set `show_col_types = FALSE` to quiet this message.\n"
     ]
    }
   ],
   "source": [
    "PLAYERS_DATA_URL = \"https://raw.githubusercontent.com/Bumblet3a/dsci-individual-project/refs/heads/main/players.csv\"\n",
    "SESSION_DATA_URL = \"https://raw.githubusercontent.com/Bumblet3a/dsci-individual-project/refs/heads/main/sessions.csv\"\n",
    "\n",
    "download.file(PLAYERS_DATA_URL, \"players.csv\")\n",
    "download.file(SESSION_DATA_URL, \"sessions.csv\")\n",
    "\n",
    "players <- read_csv(\"players.csv\")\n",
    "head(players)\n",
    "sessions <- read_csv(\"sessions.csv\")"
   ]
  },
  {
   "cell_type": "code",
   "execution_count": 5,
   "id": "bcaf93db-5a5d-4636-b73b-f1a982c44370",
   "metadata": {
    "vscode": {
     "languageId": "r"
    }
   },
   "outputs": [
    {
     "data": {
      "text/html": [
       "<table class=\"dataframe\">\n",
       "<caption>A data.frame: 1604 × 4</caption>\n",
       "<thead>\n",
       "\t<tr><th scope=col>Age</th><th scope=col>experience</th><th scope=col>subscribe</th><th scope=col>played_hours</th></tr>\n",
       "\t<tr><th scope=col>&lt;dbl&gt;</th><th scope=col>&lt;chr&gt;</th><th scope=col>&lt;lgl&gt;</th><th scope=col>&lt;dbl&gt;</th></tr>\n",
       "</thead>\n",
       "<tbody>\n",
       "\t<tr><td>20</td><td>Regular</td><td>TRUE</td><td>1.5</td></tr>\n",
       "\t<tr><td>20</td><td>Regular</td><td>TRUE</td><td>1.5</td></tr>\n",
       "\t<tr><td>17</td><td>Veteran</td><td>TRUE</td><td>0.0</td></tr>\n",
       "\t<tr><td>⋮</td><td>⋮</td><td>⋮</td><td>⋮</td></tr>\n",
       "\t<tr><td>23</td><td>Amateur </td><td>TRUE</td><td>56.1</td></tr>\n",
       "\t<tr><td>17</td><td>Amateur </td><td>TRUE</td><td> 0.1</td></tr>\n",
       "\t<tr><td>20</td><td>Beginner</td><td>TRUE</td><td> 1.1</td></tr>\n",
       "</tbody>\n",
       "</table>\n"
      ],
      "text/latex": [
       "A data.frame: 1604 × 4\n",
       "\\begin{tabular}{llll}\n",
       " Age & experience & subscribe & played\\_hours\\\\\n",
       " <dbl> & <chr> & <lgl> & <dbl>\\\\\n",
       "\\hline\n",
       "\t 20 & Regular & TRUE & 1.5\\\\\n",
       "\t 20 & Regular & TRUE & 1.5\\\\\n",
       "\t 17 & Veteran & TRUE & 0.0\\\\\n",
       "\t ⋮ & ⋮ & ⋮ & ⋮\\\\\n",
       "\t 23 & Amateur  & TRUE & 56.1\\\\\n",
       "\t 17 & Amateur  & TRUE &  0.1\\\\\n",
       "\t 20 & Beginner & TRUE &  1.1\\\\\n",
       "\\end{tabular}\n"
      ],
      "text/markdown": [
       "\n",
       "A data.frame: 1604 × 4\n",
       "\n",
       "| Age &lt;dbl&gt; | experience &lt;chr&gt; | subscribe &lt;lgl&gt; | played_hours &lt;dbl&gt; |\n",
       "|---|---|---|---|\n",
       "| 20 | Regular | TRUE | 1.5 |\n",
       "| 20 | Regular | TRUE | 1.5 |\n",
       "| 17 | Veteran | TRUE | 0.0 |\n",
       "| ⋮ | ⋮ | ⋮ | ⋮ |\n",
       "| 23 | Amateur  | TRUE | 56.1 |\n",
       "| 17 | Amateur  | TRUE |  0.1 |\n",
       "| 20 | Beginner | TRUE |  1.1 |\n",
       "\n"
      ],
      "text/plain": [
       "     Age experience subscribe played_hours\n",
       "1    20  Regular    TRUE      1.5         \n",
       "2    20  Regular    TRUE      1.5         \n",
       "3    17  Veteran    TRUE      0.0         \n",
       "⋮    ⋮   ⋮          ⋮         ⋮           \n",
       "1602 23  Amateur    TRUE      56.1        \n",
       "1603 17  Amateur    TRUE       0.1        \n",
       "1604 20  Beginner   TRUE       1.1        "
      ]
     },
     "metadata": {},
     "output_type": "display_data"
    }
   ],
   "source": [
    "player_sessions <- merge(sessions, players, all = TRUE)|>\n",
    "select(Age, experience, subscribe, played_hours)|>\n",
    "drop_na(Age:played_hours)\n",
    "player_sessions"
   ]
  },
  {
   "cell_type": "code",
   "execution_count": 6,
   "id": "ea883f69-ba6f-4718-a710-0d47b0da7ce9",
   "metadata": {
    "vscode": {
     "languageId": "r"
    }
   },
   "outputs": [
    {
     "name": "stderr",
     "output_type": "stream",
     "text": [
      "\n",
      "\n",
      "\u001b[36m──\u001b[39m \u001b[1mRecipe\u001b[22m \u001b[36m──────────────────────────────────────────────────────────────────────\u001b[39m\n",
      "\n",
      "\n",
      "\n",
      "── Inputs \n",
      "\n",
      "Number of variables by role\n",
      "\n",
      "outcome:   1\n",
      "predictor: 3\n",
      "\n",
      "\n",
      "\n",
      "── Operations \n",
      "\n",
      "\u001b[36m•\u001b[39m Scaling for: \u001b[34mAge\u001b[39m\n",
      "\n",
      "\u001b[36m•\u001b[39m Centering for: \u001b[34mAge\u001b[39m\n",
      "\n"
     ]
    },
    {
     "data": {
      "text/html": [
       "<table class=\"dataframe\">\n",
       "<caption>A tibble: 18 × 7</caption>\n",
       "<thead>\n",
       "\t<tr><th scope=col>neighbors</th><th scope=col>.metric</th><th scope=col>.estimator</th><th scope=col>mean</th><th scope=col>n</th><th scope=col>std_err</th><th scope=col>.config</th></tr>\n",
       "\t<tr><th scope=col>&lt;dbl&gt;</th><th scope=col>&lt;chr&gt;</th><th scope=col>&lt;chr&gt;</th><th scope=col>&lt;dbl&gt;</th><th scope=col>&lt;int&gt;</th><th scope=col>&lt;dbl&gt;</th><th scope=col>&lt;chr&gt;</th></tr>\n",
       "</thead>\n",
       "<tbody>\n",
       "\t<tr><td> 1</td><td>rmse</td><td>standard</td><td>109.20611</td><td>5</td><td>1.79856</td><td>Preprocessor1_Model1</td></tr>\n",
       "\t<tr><td> 1</td><td>rsq </td><td>standard</td><td>  0.09432</td><td>5</td><td>0.01801</td><td>Preprocessor1_Model1</td></tr>\n",
       "\t<tr><td>11</td><td>rmse</td><td>standard</td><td> 85.51235</td><td>5</td><td>2.49178</td><td>Preprocessor1_Model2</td></tr>\n",
       "\t<tr><td>⋮</td><td>⋮</td><td>⋮</td><td>⋮</td><td>⋮</td><td>⋮</td><td>⋮</td></tr>\n",
       "\t<tr><td>71</td><td>rsq </td><td>standard</td><td> 0.7433</td><td>5</td><td>0.02769</td><td>Preprocessor1_Model8</td></tr>\n",
       "\t<tr><td>81</td><td>rmse</td><td>standard</td><td>42.6988</td><td>5</td><td>2.34702</td><td>Preprocessor1_Model9</td></tr>\n",
       "\t<tr><td>81</td><td>rsq </td><td>standard</td><td> 0.7376</td><td>5</td><td>0.02789</td><td>Preprocessor1_Model9</td></tr>\n",
       "</tbody>\n",
       "</table>\n"
      ],
      "text/latex": [
       "A tibble: 18 × 7\n",
       "\\begin{tabular}{lllllll}\n",
       " neighbors & .metric & .estimator & mean & n & std\\_err & .config\\\\\n",
       " <dbl> & <chr> & <chr> & <dbl> & <int> & <dbl> & <chr>\\\\\n",
       "\\hline\n",
       "\t  1 & rmse & standard & 109.20611 & 5 & 1.79856 & Preprocessor1\\_Model1\\\\\n",
       "\t  1 & rsq  & standard &   0.09432 & 5 & 0.01801 & Preprocessor1\\_Model1\\\\\n",
       "\t 11 & rmse & standard &  85.51235 & 5 & 2.49178 & Preprocessor1\\_Model2\\\\\n",
       "\t ⋮ & ⋮ & ⋮ & ⋮ & ⋮ & ⋮ & ⋮\\\\\n",
       "\t 71 & rsq  & standard &  0.7433 & 5 & 0.02769 & Preprocessor1\\_Model8\\\\\n",
       "\t 81 & rmse & standard & 42.6988 & 5 & 2.34702 & Preprocessor1\\_Model9\\\\\n",
       "\t 81 & rsq  & standard &  0.7376 & 5 & 0.02789 & Preprocessor1\\_Model9\\\\\n",
       "\\end{tabular}\n"
      ],
      "text/markdown": [
       "\n",
       "A tibble: 18 × 7\n",
       "\n",
       "| neighbors &lt;dbl&gt; | .metric &lt;chr&gt; | .estimator &lt;chr&gt; | mean &lt;dbl&gt; | n &lt;int&gt; | std_err &lt;dbl&gt; | .config &lt;chr&gt; |\n",
       "|---|---|---|---|---|---|---|\n",
       "|  1 | rmse | standard | 109.20611 | 5 | 1.79856 | Preprocessor1_Model1 |\n",
       "|  1 | rsq  | standard |   0.09432 | 5 | 0.01801 | Preprocessor1_Model1 |\n",
       "| 11 | rmse | standard |  85.51235 | 5 | 2.49178 | Preprocessor1_Model2 |\n",
       "| ⋮ | ⋮ | ⋮ | ⋮ | ⋮ | ⋮ | ⋮ |\n",
       "| 71 | rsq  | standard |  0.7433 | 5 | 0.02769 | Preprocessor1_Model8 |\n",
       "| 81 | rmse | standard | 42.6988 | 5 | 2.34702 | Preprocessor1_Model9 |\n",
       "| 81 | rsq  | standard |  0.7376 | 5 | 0.02789 | Preprocessor1_Model9 |\n",
       "\n"
      ],
      "text/plain": [
       "   neighbors .metric .estimator mean      n std_err .config             \n",
       "1   1        rmse    standard   109.20611 5 1.79856 Preprocessor1_Model1\n",
       "2   1        rsq     standard     0.09432 5 0.01801 Preprocessor1_Model1\n",
       "3  11        rmse    standard    85.51235 5 2.49178 Preprocessor1_Model2\n",
       "⋮  ⋮         ⋮       ⋮          ⋮         ⋮ ⋮       ⋮                   \n",
       "16 71        rsq     standard    0.7433   5 0.02769 Preprocessor1_Model8\n",
       "17 81        rmse    standard   42.6988   5 2.34702 Preprocessor1_Model9\n",
       "18 81        rsq     standard    0.7376   5 0.02789 Preprocessor1_Model9"
      ]
     },
     "metadata": {},
     "output_type": "display_data"
    }
   ],
   "source": [
    "players_scaled <- players_filtered|>\n",
    "mutate(Age = scale(Age, center = TRUE),\n",
    "       played_hours = scale(played_hours, center = TRUE))\n",
    "players_scaled"
   ]
  },
  {
   "cell_type": "code",
   "execution_count": 5,
   "id": "ece27db2-889c-40cd-a057-fce1a18a6d44",
   "metadata": {
    "vscode": {
     "languageId": "r"
    }
   },
   "outputs": [],
   "source": [
    "\n",
    "players_split <- initial_split(players_scaled, prop = 0.75, strata = subscribe)\n",
    "players_testing <- testing(players_split)\n",
    "players_training <- training(players_split)"
   ]
  },
  {
   "cell_type": "code",
   "execution_count": 6,
   "id": "349ee930-3f7c-483d-bf8b-f04ae4584355",
   "metadata": {
    "vscode": {
     "languageId": "r"
    }
   },
   "outputs": [],
   "source": [
    "players_recipe <- recipe(subscribe ~ ., data = players_scaled)|>\n",
    "step_scale(Age, played_hours)|>\n",
    "step_center()\n",
    "\n",
    "players_model<- nearest_neighbor(weight_func = \"rectangular\", neighbors = 5)|>\n",
    "set_engine(\"kknn\")|>\n",
    "set_mode(\"regression\")\n",
    "\n",
    "play_recipe <- recipe(played_hours ~ ., data = play_sessions_training)|>\n",
    "step_scale(Age)|>\n",
    "step_center(Age)\n",
    "play_recipe\n",
    "\n",
    "play_vfold <- vfold_cv(play_sessions_training, v = 5, strata = played_hours)\n",
    "\n",
    "\n",
    "play_workflow <- workflow()|>\n",
    "add_recipe(play_recipe)|>\n",
    "add_model(play_spec)\n",
    "\n",
    "gridvals <- tibble(neighbors = seq(from = 1, to = 81, by = 10))\n",
    "\n",
    "play_results <- play_workflow|>\n",
    "tune_grid(resamples = play_vfold, grid = gridvals)|>\n",
    "collect_metrics()\n",
    "\n",
    "play_results"
   ]
  },
  {
   "cell_type": "code",
   "execution_count": 7,
   "id": "95f5b80a-a5f3-45aa-8d54-fa2f468d2512",
   "metadata": {
    "vscode": {
     "languageId": "r"
    }
   },
   "outputs": [
    {
     "data": {
      "text/html": [
       "<table class=\"dataframe\">\n",
       "<caption>A tibble: 1 × 7</caption>\n",
       "<thead>\n",
       "\t<tr><th scope=col>neighbors</th><th scope=col>.metric</th><th scope=col>.estimator</th><th scope=col>mean</th><th scope=col>n</th><th scope=col>std_err</th><th scope=col>.config</th></tr>\n",
       "\t<tr><th scope=col>&lt;dbl&gt;</th><th scope=col>&lt;chr&gt;</th><th scope=col>&lt;chr&gt;</th><th scope=col>&lt;dbl&gt;</th><th scope=col>&lt;int&gt;</th><th scope=col>&lt;dbl&gt;</th><th scope=col>&lt;chr&gt;</th></tr>\n",
       "</thead>\n",
       "<tbody>\n",
       "\t<tr><td>61</td><td>rmse</td><td>standard</td><td>41.87</td><td>5</td><td>2.184</td><td>Preprocessor1_Model7</td></tr>\n",
       "</tbody>\n",
       "</table>\n"
      ],
      "text/latex": [
       "A tibble: 1 × 7\n",
       "\\begin{tabular}{lllllll}\n",
       " neighbors & .metric & .estimator & mean & n & std\\_err & .config\\\\\n",
       " <dbl> & <chr> & <chr> & <dbl> & <int> & <dbl> & <chr>\\\\\n",
       "\\hline\n",
       "\t 61 & rmse & standard & 41.87 & 5 & 2.184 & Preprocessor1\\_Model7\\\\\n",
       "\\end{tabular}\n"
      ],
      "text/markdown": [
       "\n",
       "A tibble: 1 × 7\n",
       "\n",
       "| neighbors &lt;dbl&gt; | .metric &lt;chr&gt; | .estimator &lt;chr&gt; | mean &lt;dbl&gt; | n &lt;int&gt; | std_err &lt;dbl&gt; | .config &lt;chr&gt; |\n",
       "|---|---|---|---|---|---|---|\n",
       "| 61 | rmse | standard | 41.87 | 5 | 2.184 | Preprocessor1_Model7 |\n",
       "\n"
      ],
      "text/plain": [
       "  neighbors .metric .estimator mean  n std_err .config             \n",
       "1 61        rmse    standard   41.87 5 2.184   Preprocessor1_Model7"
      ]
     },
     "metadata": {},
     "output_type": "display_data"
    }
   ],
   "source": [
    "play_min <- play_results|>\n",
    "filter(.metric == \"rmse\")|>\n",
    "slice_min(mean, n = 1)\n",
    "play_min"
   ]
  },
  {
   "cell_type": "code",
   "execution_count": 8,
   "id": "709a759a-3575-4102-ae4e-6055209eee88",
   "metadata": {
    "vscode": {
     "languageId": "r"
    }
   },
   "outputs": [
    {
     "data": {
      "text/html": [
       "<table class=\"dataframe\">\n",
       "<caption>A tibble: 3 × 3</caption>\n",
       "<thead>\n",
       "\t<tr><th scope=col>.metric</th><th scope=col>.estimator</th><th scope=col>.estimate</th></tr>\n",
       "\t<tr><th scope=col>&lt;chr&gt;</th><th scope=col>&lt;chr&gt;</th><th scope=col>&lt;dbl&gt;</th></tr>\n",
       "</thead>\n",
       "<tbody>\n",
       "\t<tr><td>rmse</td><td>standard</td><td>35.5625</td></tr>\n",
       "\t<tr><td>rsq </td><td>standard</td><td> 0.8346</td></tr>\n",
       "\t<tr><td>mae </td><td>standard</td><td>20.2480</td></tr>\n",
       "</tbody>\n",
       "</table>\n"
      ],
      "text/latex": [
       "A tibble: 3 × 3\n",
       "\\begin{tabular}{lll}\n",
       " .metric & .estimator & .estimate\\\\\n",
       " <chr> & <chr> & <dbl>\\\\\n",
       "\\hline\n",
       "\t rmse & standard & 35.5625\\\\\n",
       "\t rsq  & standard &  0.8346\\\\\n",
       "\t mae  & standard & 20.2480\\\\\n",
       "\\end{tabular}\n"
      ],
      "text/markdown": [
       "\n",
       "A tibble: 3 × 3\n",
       "\n",
       "| .metric &lt;chr&gt; | .estimator &lt;chr&gt; | .estimate &lt;dbl&gt; |\n",
       "|---|---|---|\n",
       "| rmse | standard | 35.5625 |\n",
       "| rsq  | standard |  0.8346 |\n",
       "| mae  | standard | 20.2480 |\n",
       "\n"
      ],
      "text/plain": [
       "  .metric .estimator .estimate\n",
       "1 rmse    standard   35.5625  \n",
       "2 rsq     standard    0.8346  \n",
       "3 mae     standard   20.2480  "
      ]
     },
     "metadata": {},
     "output_type": "display_data"
    }
   ],
   "source": [
    "players_pred_accuracy <- players_prediction|>\n",
    "metrics(truth = subscribe, estimate = .pred_class)\n",
    "players_pred_accuracy"
   ]
  },
  {
   "cell_type": "code",
   "execution_count": 12,
   "id": "7253af2b-3378-4ae2-ad22-775493a71aa5",
   "metadata": {
    "vscode": {
     "languageId": "r"
    }
   },
   "outputs": [
    {
     "data": {
      "text/plain": [
       "          Truth\n",
       "Prediction FALSE TRUE\n",
       "     FALSE     2    0\n",
       "     TRUE     11   36"
      ]
     },
     "metadata": {},
     "output_type": "display_data"
    }
   ],
   "source": [
    "players_mat <- players_prediction|>\n",
    "conf_mat(truth = subscribe, estimate = .pred_class)\n",
    "players_mat"
   ]
  },
  {
   "cell_type": "code",
   "execution_count": 26,
   "id": "4232a108-17c8-4f49-8e46-23ee76c09227",
   "metadata": {
    "vscode": {
     "languageId": "r"
    }
   },
   "outputs": [
    {
     "data": {
      "text/html": [
       "<table class=\"dataframe\">\n",
       "<caption>A tibble: 2 × 6</caption>\n",
       "<thead>\n",
       "\t<tr><th scope=col>.metric</th><th scope=col>.estimator</th><th scope=col>mean</th><th scope=col>n</th><th scope=col>std_err</th><th scope=col>.config</th></tr>\n",
       "\t<tr><th scope=col>&lt;chr&gt;</th><th scope=col>&lt;chr&gt;</th><th scope=col>&lt;dbl&gt;</th><th scope=col>&lt;int&gt;</th><th scope=col>&lt;dbl&gt;</th><th scope=col>&lt;chr&gt;</th></tr>\n",
       "</thead>\n",
       "<tbody>\n",
       "\t<tr><td>accuracy</td><td>binary</td><td>0.7301970</td><td>5</td><td>0.02929188</td><td>Preprocessor1_Model1</td></tr>\n",
       "\t<tr><td>roc_auc </td><td>binary</td><td>0.6044952</td><td>5</td><td>0.06408316</td><td>Preprocessor1_Model1</td></tr>\n",
       "</tbody>\n",
       "</table>\n"
      ],
      "text/latex": [
       "A tibble: 2 × 6\n",
       "\\begin{tabular}{llllll}\n",
       " .metric & .estimator & mean & n & std\\_err & .config\\\\\n",
       " <chr> & <chr> & <dbl> & <int> & <dbl> & <chr>\\\\\n",
       "\\hline\n",
       "\t accuracy & binary & 0.7301970 & 5 & 0.02929188 & Preprocessor1\\_Model1\\\\\n",
       "\t roc\\_auc  & binary & 0.6044952 & 5 & 0.06408316 & Preprocessor1\\_Model1\\\\\n",
       "\\end{tabular}\n"
      ],
      "text/markdown": [
       "\n",
       "A tibble: 2 × 6\n",
       "\n",
       "| .metric &lt;chr&gt; | .estimator &lt;chr&gt; | mean &lt;dbl&gt; | n &lt;int&gt; | std_err &lt;dbl&gt; | .config &lt;chr&gt; |\n",
       "|---|---|---|---|---|---|\n",
       "| accuracy | binary | 0.7301970 | 5 | 0.02929188 | Preprocessor1_Model1 |\n",
       "| roc_auc  | binary | 0.6044952 | 5 | 0.06408316 | Preprocessor1_Model1 |\n",
       "\n"
      ],
      "text/plain": [
       "  .metric  .estimator mean      n std_err    .config             \n",
       "1 accuracy binary     0.7301970 5 0.02929188 Preprocessor1_Model1\n",
       "2 roc_auc  binary     0.6044952 5 0.06408316 Preprocessor1_Model1"
      ]
     },
     "metadata": {},
     "output_type": "display_data"
    }
   ],
   "source": [
    "players_vfold <- vfold_cv(players_training, v = 5, strata = subscribe)\n",
    "\n",
    "\n",
    "players_resample <- workflow()|>\n",
    "add_recipe(players_recipe)|>\n",
    "add_model(players_model)|>\n",
    "fit_resamples(resamples = players_vfold)|>\n",
    "collect_metrics()\n",
    "players_resample"
   ]
  },
  {
   "cell_type": "code",
   "execution_count": 34,
   "id": "067bd48a-ae93-4831-8b10-97922478d51d",
   "metadata": {
    "vscode": {
     "languageId": "r"
    }
   },
   "outputs": [
    {
     "data": {
      "text/html": [
       "<table class=\"dataframe\">\n",
       "<caption>A tibble: 20 × 7</caption>\n",
       "<thead>\n",
       "\t<tr><th scope=col>neighbors</th><th scope=col>.metric</th><th scope=col>.estimator</th><th scope=col>mean</th><th scope=col>n</th><th scope=col>std_err</th><th scope=col>.config</th></tr>\n",
       "\t<tr><th scope=col>&lt;dbl&gt;</th><th scope=col>&lt;chr&gt;</th><th scope=col>&lt;chr&gt;</th><th scope=col>&lt;dbl&gt;</th><th scope=col>&lt;int&gt;</th><th scope=col>&lt;dbl&gt;</th><th scope=col>&lt;chr&gt;</th></tr>\n",
       "</thead>\n",
       "<tbody>\n",
       "\t<tr><td>1</td><td>accuracy</td><td>binary</td><td>0.6055008</td><td>5</td><td>0.04521082</td><td>Preprocessor1_Model01</td></tr>\n",
       "\t<tr><td>1</td><td>roc_auc </td><td>binary</td><td>0.5507035</td><td>5</td><td>0.04927219</td><td>Preprocessor1_Model01</td></tr>\n",
       "\t<tr><td>2</td><td>accuracy</td><td>binary</td><td>0.6192939</td><td>5</td><td>0.04031851</td><td>Preprocessor1_Model02</td></tr>\n",
       "\t<tr><td>⋮</td><td>⋮</td><td>⋮</td><td>⋮</td><td>⋮</td><td>⋮</td><td>⋮</td></tr>\n",
       "\t<tr><td> 9</td><td>roc_auc </td><td>binary</td><td>0.6117308</td><td>5</td><td>0.07812870</td><td>Preprocessor1_Model09</td></tr>\n",
       "\t<tr><td>10</td><td>accuracy</td><td>binary</td><td>0.7235140</td><td>5</td><td>0.02129237</td><td>Preprocessor1_Model10</td></tr>\n",
       "\t<tr><td>10</td><td>roc_auc </td><td>binary</td><td>0.5866844</td><td>5</td><td>0.07853797</td><td>Preprocessor1_Model10</td></tr>\n",
       "</tbody>\n",
       "</table>\n"
      ],
      "text/latex": [
       "A tibble: 20 × 7\n",
       "\\begin{tabular}{lllllll}\n",
       " neighbors & .metric & .estimator & mean & n & std\\_err & .config\\\\\n",
       " <dbl> & <chr> & <chr> & <dbl> & <int> & <dbl> & <chr>\\\\\n",
       "\\hline\n",
       "\t 1 & accuracy & binary & 0.6055008 & 5 & 0.04521082 & Preprocessor1\\_Model01\\\\\n",
       "\t 1 & roc\\_auc  & binary & 0.5507035 & 5 & 0.04927219 & Preprocessor1\\_Model01\\\\\n",
       "\t 2 & accuracy & binary & 0.6192939 & 5 & 0.04031851 & Preprocessor1\\_Model02\\\\\n",
       "\t ⋮ & ⋮ & ⋮ & ⋮ & ⋮ & ⋮ & ⋮\\\\\n",
       "\t  9 & roc\\_auc  & binary & 0.6117308 & 5 & 0.07812870 & Preprocessor1\\_Model09\\\\\n",
       "\t 10 & accuracy & binary & 0.7235140 & 5 & 0.02129237 & Preprocessor1\\_Model10\\\\\n",
       "\t 10 & roc\\_auc  & binary & 0.5866844 & 5 & 0.07853797 & Preprocessor1\\_Model10\\\\\n",
       "\\end{tabular}\n"
      ],
      "text/markdown": [
       "\n",
       "A tibble: 20 × 7\n",
       "\n",
       "| neighbors &lt;dbl&gt; | .metric &lt;chr&gt; | .estimator &lt;chr&gt; | mean &lt;dbl&gt; | n &lt;int&gt; | std_err &lt;dbl&gt; | .config &lt;chr&gt; |\n",
       "|---|---|---|---|---|---|---|\n",
       "| 1 | accuracy | binary | 0.6055008 | 5 | 0.04521082 | Preprocessor1_Model01 |\n",
       "| 1 | roc_auc  | binary | 0.5507035 | 5 | 0.04927219 | Preprocessor1_Model01 |\n",
       "| 2 | accuracy | binary | 0.6192939 | 5 | 0.04031851 | Preprocessor1_Model02 |\n",
       "| ⋮ | ⋮ | ⋮ | ⋮ | ⋮ | ⋮ | ⋮ |\n",
       "|  9 | roc_auc  | binary | 0.6117308 | 5 | 0.07812870 | Preprocessor1_Model09 |\n",
       "| 10 | accuracy | binary | 0.7235140 | 5 | 0.02129237 | Preprocessor1_Model10 |\n",
       "| 10 | roc_auc  | binary | 0.5866844 | 5 | 0.07853797 | Preprocessor1_Model10 |\n",
       "\n"
      ],
      "text/plain": [
       "   neighbors .metric  .estimator mean      n std_err    .config              \n",
       "1  1         accuracy binary     0.6055008 5 0.04521082 Preprocessor1_Model01\n",
       "2  1         roc_auc  binary     0.5507035 5 0.04927219 Preprocessor1_Model01\n",
       "3  2         accuracy binary     0.6192939 5 0.04031851 Preprocessor1_Model02\n",
       "⋮  ⋮         ⋮        ⋮          ⋮         ⋮ ⋮          ⋮                    \n",
       "18  9        roc_auc  binary     0.6117308 5 0.07812870 Preprocessor1_Model09\n",
       "19 10        accuracy binary     0.7235140 5 0.02129237 Preprocessor1_Model10\n",
       "20 10        roc_auc  binary     0.5866844 5 0.07853797 Preprocessor1_Model10"
      ]
     },
     "metadata": {},
     "output_type": "display_data"
    }
   ],
   "source": [
    "players_tune <-  nearest_neighbor(weight_func = \"rectangular\", neighbors = tune())|>\n",
    "set_engine(\"kknn\")|>\n",
    "set_mode(\"regression\")\n",
    "\n",
    "play_fit <- workflow()|>\n",
    "add_recipe(play_recipe)|>\n",
    "add_model(play_spec)|>\n",
    "fit(data = play_sessions_training)\n",
    "\n",
    "players_tune_results <- workflow()|>\n",
    "add_recipe(players_recipe)|>\n",
    "add_model(players_tune)|>\n",
    "tune_grid(resamples = players_vfold, grid = players_grid)|>\n",
    "collect_metrics()\n",
    "players_tune_results"
   ]
  },
  {
   "cell_type": "code",
   "execution_count": null,
   "id": "8ab70e34-9a74-4394-86fd-bf8873b754ae",
   "metadata": {
    "vscode": {
     "languageId": "r"
    }
   },
   "outputs": [],
   "source": []
  }
 ],
 "metadata": {
  "kernelspec": {
   "display_name": "R",
   "language": "R",
   "name": "ir"
  },
  "language_info": {
   "codemirror_mode": "r",
   "file_extension": ".r",
   "mimetype": "text/x-r-source",
   "name": "R",
   "pygments_lexer": "r",
   "version": "4.4.3"
  }
 },
 "nbformat": 4,
 "nbformat_minor": 5
}
