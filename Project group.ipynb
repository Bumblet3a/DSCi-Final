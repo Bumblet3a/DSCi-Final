{
 "cells": [
  {
   "cell_type": "markdown",
   "id": "360b67e6-2ee4-4aac-bb5a-02008aad03f1",
   "metadata": {},
   "source": [
    "# "
   ]
  },
  {
   "cell_type": "code",
   "execution_count": 20,
   "id": "8bf32b3d-93d0-4cc2-b597-b1d25f99a5a3",
   "metadata": {
    "vscode": {
     "languageId": "r"
    }
   },
   "outputs": [],
   "source": [
    "library(tidyverse)\n",
    "library(repr)\n",
    "library(tidymodels)\n",
    "library(recipes)\n",
    "options(repr.matrix.max.rows = 6)"
   ]
  },
  {
   "cell_type": "code",
   "execution_count": 21,
   "id": "4fe51c62-7bf1-448a-ab45-09dd6b6df629",
   "metadata": {
    "vscode": {
     "languageId": "r"
    }
   },
   "outputs": [
    {
     "name": "stderr",
     "output_type": "stream",
     "text": [
      "\u001b[1mRows: \u001b[22m\u001b[34m196\u001b[39m \u001b[1mColumns: \u001b[22m\u001b[34m7\u001b[39m\n",
      "\u001b[36m──\u001b[39m \u001b[1mColumn specification\u001b[22m \u001b[36m────────────────────────────────────────────────────────\u001b[39m\n",
      "\u001b[1mDelimiter:\u001b[22m \",\"\n",
      "\u001b[31mchr\u001b[39m (4): experience, hashedEmail, name, gender\n",
      "\u001b[32mdbl\u001b[39m (2): played_hours, Age\n",
      "\u001b[33mlgl\u001b[39m (1): subscribe\n",
      "\n",
      "\u001b[36mℹ\u001b[39m Use `spec()` to retrieve the full column specification for this data.\n",
      "\u001b[36mℹ\u001b[39m Specify the column types or set `show_col_types = FALSE` to quiet this message.\n"
     ]
    },
    {
     "data": {
      "text/html": [
       "<table class=\"dataframe\">\n",
       "<caption>A tibble: 6 × 7</caption>\n",
       "<thead>\n",
       "\t<tr><th scope=col>experience</th><th scope=col>subscribe</th><th scope=col>hashedEmail</th><th scope=col>played_hours</th><th scope=col>name</th><th scope=col>gender</th><th scope=col>Age</th></tr>\n",
       "\t<tr><th scope=col>&lt;chr&gt;</th><th scope=col>&lt;lgl&gt;</th><th scope=col>&lt;chr&gt;</th><th scope=col>&lt;dbl&gt;</th><th scope=col>&lt;chr&gt;</th><th scope=col>&lt;chr&gt;</th><th scope=col>&lt;dbl&gt;</th></tr>\n",
       "</thead>\n",
       "<tbody>\n",
       "\t<tr><td>Pro    </td><td> TRUE</td><td>f6daba428a5e19a3d47574858c13550499be23603422e6a0ee9728f8b53e192d</td><td>30.3</td><td>Morgan   </td><td>Male  </td><td> 9</td></tr>\n",
       "\t<tr><td>Veteran</td><td> TRUE</td><td>f3c813577c458ba0dfef80996f8f32c93b6e8af1fa939732842f2312358a88e9</td><td> 3.8</td><td>Christian</td><td>Male  </td><td>17</td></tr>\n",
       "\t<tr><td>Veteran</td><td>FALSE</td><td>b674dd7ee0d24096d1c019615ce4d12b20fcbff12d79d3c5a9d2118eb7ccbb28</td><td> 0.0</td><td>Blake    </td><td>Male  </td><td>17</td></tr>\n",
       "\t<tr><td>Amateur</td><td> TRUE</td><td>23fe711e0e3b77f1da7aa221ab1192afe21648d47d2b4fa7a5a659ff443a0eb5</td><td> 0.7</td><td>Flora    </td><td>Female</td><td>21</td></tr>\n",
       "\t<tr><td>Regular</td><td> TRUE</td><td>7dc01f10bf20671ecfccdac23812b1b415acd42c2147cb0af4d48fcce2420f3e</td><td> 0.1</td><td>Kylie    </td><td>Male  </td><td>21</td></tr>\n",
       "\t<tr><td>Amateur</td><td> TRUE</td><td>f58aad5996a435f16b0284a3b267f973f9af99e7a89bee0430055a44fa92f977</td><td> 0.0</td><td>Adrian   </td><td>Female</td><td>17</td></tr>\n",
       "</tbody>\n",
       "</table>\n"
      ],
      "text/latex": [
       "A tibble: 6 × 7\n",
       "\\begin{tabular}{lllllll}\n",
       " experience & subscribe & hashedEmail & played\\_hours & name & gender & Age\\\\\n",
       " <chr> & <lgl> & <chr> & <dbl> & <chr> & <chr> & <dbl>\\\\\n",
       "\\hline\n",
       "\t Pro     &  TRUE & f6daba428a5e19a3d47574858c13550499be23603422e6a0ee9728f8b53e192d & 30.3 & Morgan    & Male   &  9\\\\\n",
       "\t Veteran &  TRUE & f3c813577c458ba0dfef80996f8f32c93b6e8af1fa939732842f2312358a88e9 &  3.8 & Christian & Male   & 17\\\\\n",
       "\t Veteran & FALSE & b674dd7ee0d24096d1c019615ce4d12b20fcbff12d79d3c5a9d2118eb7ccbb28 &  0.0 & Blake     & Male   & 17\\\\\n",
       "\t Amateur &  TRUE & 23fe711e0e3b77f1da7aa221ab1192afe21648d47d2b4fa7a5a659ff443a0eb5 &  0.7 & Flora     & Female & 21\\\\\n",
       "\t Regular &  TRUE & 7dc01f10bf20671ecfccdac23812b1b415acd42c2147cb0af4d48fcce2420f3e &  0.1 & Kylie     & Male   & 21\\\\\n",
       "\t Amateur &  TRUE & f58aad5996a435f16b0284a3b267f973f9af99e7a89bee0430055a44fa92f977 &  0.0 & Adrian    & Female & 17\\\\\n",
       "\\end{tabular}\n"
      ],
      "text/markdown": [
       "\n",
       "A tibble: 6 × 7\n",
       "\n",
       "| experience &lt;chr&gt; | subscribe &lt;lgl&gt; | hashedEmail &lt;chr&gt; | played_hours &lt;dbl&gt; | name &lt;chr&gt; | gender &lt;chr&gt; | Age &lt;dbl&gt; |\n",
       "|---|---|---|---|---|---|---|\n",
       "| Pro     |  TRUE | f6daba428a5e19a3d47574858c13550499be23603422e6a0ee9728f8b53e192d | 30.3 | Morgan    | Male   |  9 |\n",
       "| Veteran |  TRUE | f3c813577c458ba0dfef80996f8f32c93b6e8af1fa939732842f2312358a88e9 |  3.8 | Christian | Male   | 17 |\n",
       "| Veteran | FALSE | b674dd7ee0d24096d1c019615ce4d12b20fcbff12d79d3c5a9d2118eb7ccbb28 |  0.0 | Blake     | Male   | 17 |\n",
       "| Amateur |  TRUE | 23fe711e0e3b77f1da7aa221ab1192afe21648d47d2b4fa7a5a659ff443a0eb5 |  0.7 | Flora     | Female | 21 |\n",
       "| Regular |  TRUE | 7dc01f10bf20671ecfccdac23812b1b415acd42c2147cb0af4d48fcce2420f3e |  0.1 | Kylie     | Male   | 21 |\n",
       "| Amateur |  TRUE | f58aad5996a435f16b0284a3b267f973f9af99e7a89bee0430055a44fa92f977 |  0.0 | Adrian    | Female | 17 |\n",
       "\n"
      ],
      "text/plain": [
       "  experience subscribe\n",
       "1 Pro         TRUE    \n",
       "2 Veteran     TRUE    \n",
       "3 Veteran    FALSE    \n",
       "4 Amateur     TRUE    \n",
       "5 Regular     TRUE    \n",
       "6 Amateur     TRUE    \n",
       "  hashedEmail                                                      played_hours\n",
       "1 f6daba428a5e19a3d47574858c13550499be23603422e6a0ee9728f8b53e192d 30.3        \n",
       "2 f3c813577c458ba0dfef80996f8f32c93b6e8af1fa939732842f2312358a88e9  3.8        \n",
       "3 b674dd7ee0d24096d1c019615ce4d12b20fcbff12d79d3c5a9d2118eb7ccbb28  0.0        \n",
       "4 23fe711e0e3b77f1da7aa221ab1192afe21648d47d2b4fa7a5a659ff443a0eb5  0.7        \n",
       "5 7dc01f10bf20671ecfccdac23812b1b415acd42c2147cb0af4d48fcce2420f3e  0.1        \n",
       "6 f58aad5996a435f16b0284a3b267f973f9af99e7a89bee0430055a44fa92f977  0.0        \n",
       "  name      gender Age\n",
       "1 Morgan    Male    9 \n",
       "2 Christian Male   17 \n",
       "3 Blake     Male   17 \n",
       "4 Flora     Female 21 \n",
       "5 Kylie     Male   21 \n",
       "6 Adrian    Female 17 "
      ]
     },
     "metadata": {},
     "output_type": "display_data"
    },
    {
     "name": "stderr",
     "output_type": "stream",
     "text": [
      "\u001b[1mRows: \u001b[22m\u001b[34m1535\u001b[39m \u001b[1mColumns: \u001b[22m\u001b[34m5\u001b[39m\n",
      "\u001b[36m──\u001b[39m \u001b[1mColumn specification\u001b[22m \u001b[36m────────────────────────────────────────────────────────\u001b[39m\n",
      "\u001b[1mDelimiter:\u001b[22m \",\"\n",
      "\u001b[31mchr\u001b[39m (3): hashedEmail, start_time, end_time\n",
      "\u001b[32mdbl\u001b[39m (2): original_start_time, original_end_time\n",
      "\n",
      "\u001b[36mℹ\u001b[39m Use `spec()` to retrieve the full column specification for this data.\n",
      "\u001b[36mℹ\u001b[39m Specify the column types or set `show_col_types = FALSE` to quiet this message.\n"
     ]
    }
   ],
   "source": [
    "PLAYERS_DATA_URL = \"https://raw.githubusercontent.com/Bumblet3a/dsci-individual-project/refs/heads/main/players.csv\"\n",
    "SESSION_DATA_URL = \"https://raw.githubusercontent.com/Bumblet3a/dsci-individual-project/refs/heads/main/sessions.csv\"\n",
    "\n",
    "download.file(PLAYERS_DATA_URL, \"players.csv\")\n",
    "download.file(SESSION_DATA_URL, \"sessions.csv\")\n",
    "\n",
    "players <- read_csv(\"players.csv\")\n",
    "head(players)\n",
    "sessions_data <- read_csv(\"sessions.csv\")"
   ]
  },
  {
   "cell_type": "code",
   "execution_count": 50,
   "id": "bcaf93db-5a5d-4636-b73b-f1a982c44370",
   "metadata": {
    "vscode": {
     "languageId": "r"
    }
   },
   "outputs": [
    {
     "data": {
      "text/html": [
       "<table class=\"dataframe\">\n",
       "<caption>A data.frame: 1604 × 4</caption>\n",
       "<thead>\n",
       "\t<tr><th scope=col>Age</th><th scope=col>experience</th><th scope=col>subscribe</th><th scope=col>played_hours</th></tr>\n",
       "\t<tr><th scope=col>&lt;dbl&gt;</th><th scope=col>&lt;chr&gt;</th><th scope=col>&lt;lgl&gt;</th><th scope=col>&lt;dbl&gt;</th></tr>\n",
       "</thead>\n",
       "<tbody>\n",
       "\t<tr><td>20</td><td>Regular</td><td>TRUE</td><td>1.5</td></tr>\n",
       "\t<tr><td>20</td><td>Regular</td><td>TRUE</td><td>1.5</td></tr>\n",
       "\t<tr><td>17</td><td>Veteran</td><td>TRUE</td><td>0.0</td></tr>\n",
       "\t<tr><td>⋮</td><td>⋮</td><td>⋮</td><td>⋮</td></tr>\n",
       "\t<tr><td>23</td><td>Amateur </td><td>TRUE</td><td>56.1</td></tr>\n",
       "\t<tr><td>17</td><td>Amateur </td><td>TRUE</td><td> 0.1</td></tr>\n",
       "\t<tr><td>20</td><td>Beginner</td><td>TRUE</td><td> 1.1</td></tr>\n",
       "</tbody>\n",
       "</table>\n"
      ],
      "text/latex": [
       "A data.frame: 1604 × 4\n",
       "\\begin{tabular}{llll}\n",
       " Age & experience & subscribe & played\\_hours\\\\\n",
       " <dbl> & <chr> & <lgl> & <dbl>\\\\\n",
       "\\hline\n",
       "\t 20 & Regular & TRUE & 1.5\\\\\n",
       "\t 20 & Regular & TRUE & 1.5\\\\\n",
       "\t 17 & Veteran & TRUE & 0.0\\\\\n",
       "\t ⋮ & ⋮ & ⋮ & ⋮\\\\\n",
       "\t 23 & Amateur  & TRUE & 56.1\\\\\n",
       "\t 17 & Amateur  & TRUE &  0.1\\\\\n",
       "\t 20 & Beginner & TRUE &  1.1\\\\\n",
       "\\end{tabular}\n"
      ],
      "text/markdown": [
       "\n",
       "A data.frame: 1604 × 4\n",
       "\n",
       "| Age &lt;dbl&gt; | experience &lt;chr&gt; | subscribe &lt;lgl&gt; | played_hours &lt;dbl&gt; |\n",
       "|---|---|---|---|\n",
       "| 20 | Regular | TRUE | 1.5 |\n",
       "| 20 | Regular | TRUE | 1.5 |\n",
       "| 17 | Veteran | TRUE | 0.0 |\n",
       "| ⋮ | ⋮ | ⋮ | ⋮ |\n",
       "| 23 | Amateur  | TRUE | 56.1 |\n",
       "| 17 | Amateur  | TRUE |  0.1 |\n",
       "| 20 | Beginner | TRUE |  1.1 |\n",
       "\n"
      ],
      "text/plain": [
       "     Age experience subscribe played_hours\n",
       "1    20  Regular    TRUE      1.5         \n",
       "2    20  Regular    TRUE      1.5         \n",
       "3    17  Veteran    TRUE      0.0         \n",
       "⋮    ⋮   ⋮          ⋮         ⋮           \n",
       "1602 23  Amateur    TRUE      56.1        \n",
       "1603 17  Amateur    TRUE       0.1        \n",
       "1604 20  Beginner   TRUE       1.1        "
      ]
     },
     "metadata": {},
     "output_type": "display_data"
    }
   ],
   "source": [
    "player_sessions <- merge(sessions_data, players, all = TRUE)|>\n",
    "select(Age, experience, subscribe, played_hours)|>\n",
    "drop_na(Age:played_hours)\n",
    "\n",
    "player_sessions"
   ]
  },
  {
   "cell_type": "code",
   "execution_count": 51,
   "id": "ea883f69-ba6f-4718-a710-0d47b0da7ce9",
   "metadata": {
    "vscode": {
     "languageId": "r"
    }
   },
   "outputs": [
    {
     "data": {
      "text/html": [
       "<table class=\"dataframe\">\n",
       "<caption>A data.frame: 1604 × 4</caption>\n",
       "<thead>\n",
       "\t<tr><th scope=col>Age</th><th scope=col>experience</th><th scope=col>subscribe</th><th scope=col>played_hours</th></tr>\n",
       "\t<tr><th scope=col>&lt;dbl[,1]&gt;</th><th scope=col>&lt;chr&gt;</th><th scope=col>&lt;lgl&gt;</th><th scope=col>&lt;dbl[,1]&gt;</th></tr>\n",
       "</thead>\n",
       "<tbody>\n",
       "\t<tr><td> 0.1270154</td><td>Regular</td><td>TRUE</td><td>-1.122151</td></tr>\n",
       "\t<tr><td> 0.1270154</td><td>Regular</td><td>TRUE</td><td>-1.122151</td></tr>\n",
       "\t<tr><td>-0.5043878</td><td>Veteran</td><td>TRUE</td><td>-1.140283</td></tr>\n",
       "\t<tr><td>⋮</td><td>⋮</td><td>⋮</td><td>⋮</td></tr>\n",
       "\t<tr><td> 0.7584187</td><td>Amateur </td><td>TRUE</td><td>-0.4621379</td></tr>\n",
       "\t<tr><td>-0.5043878</td><td>Amateur </td><td>TRUE</td><td>-1.1390740</td></tr>\n",
       "\t<tr><td> 0.1270154</td><td>Beginner</td><td>TRUE</td><td>-1.1269858</td></tr>\n",
       "</tbody>\n",
       "</table>\n"
      ],
      "text/latex": [
       "A data.frame: 1604 × 4\n",
       "\\begin{tabular}{llll}\n",
       " Age & experience & subscribe & played\\_hours\\\\\n",
       " <dbl{[},1{]}> & <chr> & <lgl> & <dbl{[},1{]}>\\\\\n",
       "\\hline\n",
       "\t  0.1270154 & Regular & TRUE & -1.122151\\\\\n",
       "\t  0.1270154 & Regular & TRUE & -1.122151\\\\\n",
       "\t -0.5043878 & Veteran & TRUE & -1.140283\\\\\n",
       "\t ⋮ & ⋮ & ⋮ & ⋮\\\\\n",
       "\t  0.7584187 & Amateur  & TRUE & -0.4621379\\\\\n",
       "\t -0.5043878 & Amateur  & TRUE & -1.1390740\\\\\n",
       "\t  0.1270154 & Beginner & TRUE & -1.1269858\\\\\n",
       "\\end{tabular}\n"
      ],
      "text/markdown": [
       "\n",
       "A data.frame: 1604 × 4\n",
       "\n",
       "| Age &lt;dbl[,1]&gt; | experience &lt;chr&gt; | subscribe &lt;lgl&gt; | played_hours &lt;dbl[,1]&gt; |\n",
       "|---|---|---|---|\n",
       "|  0.1270154 | Regular | TRUE | -1.122151 |\n",
       "|  0.1270154 | Regular | TRUE | -1.122151 |\n",
       "| -0.5043878 | Veteran | TRUE | -1.140283 |\n",
       "| ⋮ | ⋮ | ⋮ | ⋮ |\n",
       "|  0.7584187 | Amateur  | TRUE | -0.4621379 |\n",
       "| -0.5043878 | Amateur  | TRUE | -1.1390740 |\n",
       "|  0.1270154 | Beginner | TRUE | -1.1269858 |\n",
       "\n"
      ],
      "text/plain": [
       "     Age        experience subscribe played_hours\n",
       "1     0.1270154 Regular    TRUE      -1.122151   \n",
       "2     0.1270154 Regular    TRUE      -1.122151   \n",
       "3    -0.5043878 Veteran    TRUE      -1.140283   \n",
       "⋮    ⋮          ⋮          ⋮         ⋮           \n",
       "1602  0.7584187 Amateur    TRUE      -0.4621379  \n",
       "1603 -0.5043878 Amateur    TRUE      -1.1390740  \n",
       "1604  0.1270154 Beginner   TRUE      -1.1269858  "
      ]
     },
     "metadata": {},
     "output_type": "display_data"
    }
   ],
   "source": [
    "players_scaled <- player_sessions|>\n",
    "mutate(Age = scale(Age, center = TRUE),\n",
    "       played_hours = scale(played_hours, center = TRUE))\n",
    "players_scaled"
   ]
  },
  {
   "cell_type": "code",
   "execution_count": 52,
   "id": "ece27db2-889c-40cd-a057-fce1a18a6d44",
   "metadata": {
    "vscode": {
     "languageId": "r"
    }
   },
   "outputs": [],
   "source": [
    "players_split <- initial_split(players_scaled, prop = 0.75, strata = subscribe)\n",
    "players_testing <- testing(players_split)\n",
    "players_training <- training(players_split)"
   ]
  },
  {
   "cell_type": "code",
   "execution_count": 53,
   "id": "349ee930-3f7c-483d-bf8b-f04ae4584355",
   "metadata": {
    "vscode": {
     "languageId": "r"
    }
   },
   "outputs": [],
   "source": [
    "\n",
    "#players_model <- nearest_neighbor(weight_func = \"rectangular\",\n",
    "    #              neighbors = tune()) |>\n",
    "   #             set_engine(\"kknn\") |>\n",
    "  #              set_mode(\"regression\")\n",
    "\n",
    "#play_recipe <- recipe(played_hours ~ ., data = players_training) |>\n",
    " #step_scale(Age) |>\n",
    " #step_center(Age)\n",
    "\n",
    "#play_vfold <- vfold_cv(players_training, v = 5, strata = played_hours)\n",
    "\n",
    "#play_workflow <- workflow() |>\n",
    "#add_recipe(play_recipe) |>\n",
    "#add_model(players_model)\n",
    "\n",
    "#gridvals <- tibble(neighbors = seq(from = 1, to = 81, by = 10))\n",
    "\n",
    "#play_results <- tune_grid(\n",
    "  #play_workflow,\n",
    "  #resamples = play_vfold,\n",
    "  #grid = gridvals) |>\n",
    "  #collect_metrics()\n",
    "\n",
    "#play_results\n"
   ]
  },
  {
   "cell_type": "code",
   "execution_count": 56,
   "id": "b0ec4124-4888-45b4-9bc5-373f36db758b",
   "metadata": {},
   "outputs": [
    {
     "data": {
      "text/plain": [
       "══ Workflow ════════════════════════════════════════════════════════════════════\n",
       "\u001b[3mPreprocessor:\u001b[23m Recipe\n",
       "\u001b[3mModel:\u001b[23m nearest_neighbor()\n",
       "\n",
       "── Preprocessor ────────────────────────────────────────────────────────────────\n",
       "4 Recipe Steps\n",
       "\n",
       "• step_dummy()\n",
       "• step_mutate()\n",
       "• step_scale()\n",
       "• step_center()\n",
       "\n",
       "── Model ───────────────────────────────────────────────────────────────────────\n",
       "K-Nearest Neighbor Model Specification (regression)\n",
       "\n",
       "Main Arguments:\n",
       "  neighbors = tune()\n",
       "  weight_func = rectangular\n",
       "\n",
       "Computational engine: kknn \n"
      ]
     },
     "metadata": {},
     "output_type": "display_data"
    }
   ],
   "source": [
    "#azumi testing code cell \n",
    "#works\n",
    "players_training <- players_training |>\n",
    "  mutate(played_hours = as.numeric(played_hours))\n",
    "\n",
    "players_recipe <- recipe(played_hours ~ Age + experience + subscribe, data = players_training) |>\n",
    "  step_dummy(experience) |>\n",
    "  step_mutate(subscribe = as.numeric(subscribe)) |>\n",
    "  step_scale(all_numeric_predictors()) |>\n",
    "  step_center(all_numeric_predictors())\n",
    "\n",
    "\n",
    "players_spec <- nearest_neighbor(weight_func = \"rectangular\",\n",
    "                                 neighbors = tune())|>\n",
    "                set_engine(\"kknn\")|>\n",
    "                set_mode(\"regression\")\n",
    "\n",
    "players_vfold <- vfold_cv(players_training, v = 5, strata = subscribe)\n",
    "\n",
    "players_wf <- workflow()|>\n",
    "add_recipe(players_recipe)|>\n",
    "add_model(players_spec)\n",
    "players_wf\n"
   ]
  },
  {
   "cell_type": "code",
   "execution_count": 57,
   "id": "16a2fc3f-38d1-42e5-a1e3-7a814ab2a552",
   "metadata": {},
   "outputs": [
    {
     "data": {
      "text/html": [
       "36"
      ],
      "text/latex": [
       "36"
      ],
      "text/markdown": [
       "36"
      ],
      "text/plain": [
       "[1] 36"
      ]
     },
     "metadata": {},
     "output_type": "display_data"
    }
   ],
   "source": [
    "#azumi testing code cell\n",
    "#works\n",
    "players_gridvals <- tibble (neighbors = seq(1, 81))\n",
    "\n",
    "players_multi <- players_wf|>\n",
    "tune_grid(players_vfold, grid = players_gridvals)|>\n",
    "collect_metrics()|>\n",
    "filter(.metric == \"rmse\")|>\n",
    "filter(mean == min(mean))\n",
    "\n",
    "players_k <- players_multi|>\n",
    "pull(neighbors)\n",
    "players_k\n",
    "# number returned is 36?               "
   ]
  },
  {
   "cell_type": "code",
   "execution_count": 60,
   "id": "f1e34429-8250-4b61-bf46-8893731ac0ee",
   "metadata": {},
   "outputs": [
    {
     "data": {
      "text/html": [
       "<table class=\"dataframe\">\n",
       "<caption>A tibble: 1 × 3</caption>\n",
       "<thead>\n",
       "\t<tr><th scope=col>.metric</th><th scope=col>.estimator</th><th scope=col>.estimate</th></tr>\n",
       "\t<tr><th scope=col>&lt;chr&gt;</th><th scope=col>&lt;chr&gt;</th><th scope=col>&lt;dbl&gt;</th></tr>\n",
       "</thead>\n",
       "<tbody>\n",
       "\t<tr><td>rmse</td><td>standard</td><td>0.4371096</td></tr>\n",
       "</tbody>\n",
       "</table>\n"
      ],
      "text/latex": [
       "A tibble: 1 × 3\n",
       "\\begin{tabular}{lll}\n",
       " .metric & .estimator & .estimate\\\\\n",
       " <chr> & <chr> & <dbl>\\\\\n",
       "\\hline\n",
       "\t rmse & standard & 0.4371096\\\\\n",
       "\\end{tabular}\n"
      ],
      "text/markdown": [
       "\n",
       "A tibble: 1 × 3\n",
       "\n",
       "| .metric &lt;chr&gt; | .estimator &lt;chr&gt; | .estimate &lt;dbl&gt; |\n",
       "|---|---|---|\n",
       "| rmse | standard | 0.4371096 |\n",
       "\n"
      ],
      "text/plain": [
       "  .metric .estimator .estimate\n",
       "1 rmse    standard   0.4371096"
      ]
     },
     "metadata": {},
     "output_type": "display_data"
    }
   ],
   "source": [
    "#azumi testing code cell\n",
    "#works\n",
    "players_spec <- nearest_neighbor(weight_func = \"rectangular\",\n",
    "                                 neighbors = players_k)|>\n",
    "set_engine(\"kknn\")|>\n",
    "set_mode(\"regression\")\n",
    "\n",
    "knn_players_fit <- workflow()|>\n",
    "add_recipe(players_recipe)|>\n",
    "add_model(players_spec)|>\n",
    "fit(data = players_training)|>\n",
    "predict(players_training)|>\n",
    "bind_cols(players_training)\n",
    "\n",
    "knn_players_met <- metrics(knn_players_fit, truth = played_hours, \n",
    "                           estimate = .pred)|>\n",
    "                    filter(.metric == \"rmse\")\n",
    "knn_players_met"
   ]
  },
  {
   "cell_type": "code",
   "execution_count": 64,
   "id": "95f5b80a-a5f3-45aa-8d54-fa2f468d2512",
   "metadata": {
    "vscode": {
     "languageId": "r"
    }
   },
   "outputs": [
    {
     "ename": "ERROR",
     "evalue": "\u001b[1m\u001b[33mError\u001b[39m in `filter()`:\u001b[22m\n\u001b[1m\u001b[22m\u001b[36mℹ\u001b[39m In argument: `.metric == \"rmse\"`.\n\u001b[1mCaused by error:\u001b[22m\n\u001b[33m!\u001b[39m object '.metric' not found\n",
     "output_type": "error",
     "traceback": [
      "\u001b[1m\u001b[33mError\u001b[39m in `filter()`:\u001b[22m\n\u001b[1m\u001b[22m\u001b[36mℹ\u001b[39m In argument: `.metric == \"rmse\"`.\n\u001b[1mCaused by error:\u001b[22m\n\u001b[33m!\u001b[39m object '.metric' not found\nTraceback:\n",
      "1. slice_min(filter(knn_players_fit, .metric == \"rmse\"), mean, n = 1)",
      "2. filter(knn_players_fit, .metric == \"rmse\")",
      "3. filter.data.frame(knn_players_fit, .metric == \"rmse\")",
      "4. filter_rows(.data, dots, by)",
      "5. filter_eval(dots, mask = mask, error_call = error_call, user_env = user_env)",
      "6. withCallingHandlers(mask$eval_all_filter(dots, env_filter), error = dplyr_error_handler(dots = dots, \n .     mask = mask, bullets = filter_bullets, error_call = error_call), \n .     warning = function(cnd) {\n .         local_error_context(dots, i, mask)\n .         warning_handler(cnd)\n .     }, `dplyr:::signal_filter_one_column_matrix` = function(e) {\n .         warn_filter_one_column_matrix(env = error_call, user_env = user_env)\n .     }, `dplyr:::signal_filter_across` = function(e) {\n .         warn_filter_across(env = error_call, user_env = user_env)\n .     }, `dplyr:::signal_filter_data_frame` = function(e) {\n .         warn_filter_data_frame(env = error_call, user_env = user_env)\n .     })",
      "7. mask$eval_all_filter(dots, env_filter)",
      "8. eval()",
      "9. .handleSimpleError(function (cnd) \n . {\n .     local_error_context(dots, i = frame[[i_sym]], mask = mask)\n .     if (inherits(cnd, \"dplyr:::internal_error\")) {\n .         parent <- error_cnd(message = bullets(cnd))\n .     }\n .     else {\n .         parent <- cnd\n .     }\n .     message <- c(cnd_bullet_header(action), i = if (has_active_group_context(mask)) cnd_bullet_cur_group_label())\n .     abort(message, class = error_class, parent = parent, call = error_call)\n . }, \"object '.metric' not found\", base::quote(NULL))",
      "10. h(simpleError(msg, call))",
      "11. abort(message, class = error_class, parent = parent, call = error_call)",
      "12. signal_abort(cnd, .file)"
     ]
    }
   ],
   "source": [
    "play_min <- play_results|>\n",
    "filter(.metric == \"rmse\")|>\n",
    "slice_min(mean, n = 1)\n",
    "play_min"
   ]
  },
  {
   "cell_type": "code",
   "execution_count": 38,
   "id": "709a759a-3575-4102-ae4e-6055209eee88",
   "metadata": {
    "vscode": {
     "languageId": "r"
    }
   },
   "outputs": [
    {
     "ename": "ERROR",
     "evalue": "Error in eval(expr, envir, enclos): object 'players_prediction' not found\n",
     "output_type": "error",
     "traceback": [
      "Error in eval(expr, envir, enclos): object 'players_prediction' not found\nTraceback:\n",
      "1. metrics(players_prediction, truth = subscribe, estimate = .pred_class)"
     ]
    }
   ],
   "source": [
    "players_pred_accuracy <- players_prediction|>\n",
    "metrics(truth = subscribe, estimate = .pred_class)\n",
    "players_pred_accuracy"
   ]
  },
  {
   "cell_type": "code",
   "execution_count": 39,
   "id": "7253af2b-3378-4ae2-ad22-775493a71aa5",
   "metadata": {
    "vscode": {
     "languageId": "r"
    }
   },
   "outputs": [
    {
     "ename": "ERROR",
     "evalue": "Error in eval(expr, envir, enclos): object 'players_prediction' not found\n",
     "output_type": "error",
     "traceback": [
      "Error in eval(expr, envir, enclos): object 'players_prediction' not found\nTraceback:\n",
      "1. conf_mat(players_prediction, truth = subscribe, estimate = .pred_class)"
     ]
    }
   ],
   "source": [
    "players_mat <- players_prediction|>\n",
    "conf_mat(truth = subscribe, estimate = .pred_class)\n",
    "players_mat"
   ]
  },
  {
   "cell_type": "code",
   "execution_count": 40,
   "id": "4232a108-17c8-4f49-8e46-23ee76c09227",
   "metadata": {
    "vscode": {
     "languageId": "r"
    }
   },
   "outputs": [
    {
     "ename": "ERROR",
     "evalue": "\u001b[1m\u001b[33mError\u001b[39m:\u001b[22m\n\u001b[33m!\u001b[39m 1 argument has been tagged for tuning in this component: model_spec. \nPlease use one of the tuning functions (e.g. `tune_grid()`) to optimize them.\n",
     "output_type": "error",
     "traceback": [
      "\u001b[1m\u001b[33mError\u001b[39m:\u001b[22m\n\u001b[33m!\u001b[39m 1 argument has been tagged for tuning in this component: model_spec. \nPlease use one of the tuning functions (e.g. `tune_grid()`) to optimize them.\nTraceback:\n",
      "1. collect_metrics(fit_resamples(add_model(add_recipe(workflow(), \n .     players_recipe), players_model), resamples = players_vfold))",
      "2. fit_resamples(add_model(add_recipe(workflow(), players_recipe), \n .     players_model), resamples = players_vfold)",
      "3. fit_resamples.workflow(add_model(add_recipe(workflow(), players_recipe), \n .     players_model), resamples = players_vfold)",
      "4. resample_workflow(workflow = object, resamples = resamples, metrics = metrics, \n .     control = control, rng = TRUE)",
      "5. check_no_tuning(workflow)",
      "6. rlang::abort(msg, call = NULL)",
      "7. signal_abort(cnd, .file)"
     ]
    }
   ],
   "source": [
    "players_vfold <- vfold_cv(players_training, v = 5, strata = subscribe)\n",
    "\n",
    "\n",
    "players_resample <- workflow()|>\n",
    "add_recipe(players_recipe)|>\n",
    "add_model(players_model)|>\n",
    "fit_resamples(resamples = players_vfold)|>\n",
    "collect_metrics()\n",
    "players_resample"
   ]
  },
  {
   "cell_type": "code",
   "execution_count": 59,
   "id": "067bd48a-ae93-4831-8b10-97922478d51d",
   "metadata": {
    "vscode": {
     "languageId": "r"
    }
   },
   "outputs": [
    {
     "ename": "ERROR",
     "evalue": "Error in eval(expr, envir, enclos): object 'play_spec' not found\n",
     "output_type": "error",
     "traceback": [
      "Error in eval(expr, envir, enclos): object 'play_spec' not found\nTraceback:\n",
      "1. fit(add_model(add_recipe(workflow(), play_recipe), play_spec), \n .     data = play_sessions_training)",
      "2. add_model(add_recipe(workflow(), play_recipe), play_spec)",
      "3. new_action_model(spec, formula)",
      "4. is_model_spec(spec)"
     ]
    }
   ],
   "source": [
    "players_tune <-  nearest_neighbor(weight_func = \"rectangular\", neighbors = tune())|>\n",
    "set_engine(\"kknn\")|>\n",
    "set_mode(\"regression\")\n",
    "\n",
    "play_fit <- workflow()|>\n",
    "add_recipe(play_recipe)|>\n",
    "add_model(play_spec)|>\n",
    "fit(data = play_sessions_training)\n",
    "\n",
    "players_tune_results <- workflow()|>\n",
    "add_recipe(players_recipe)|>\n",
    "add_model(players_tune)|>\n",
    "tune_grid(resamples = players_vfold, grid = players_grid)|>\n",
    "collect_metrics()\n",
    "players_tune_results"
   ]
  },
  {
   "cell_type": "code",
   "execution_count": 42,
   "id": "8ab70e34-9a74-4394-86fd-bf8873b754ae",
   "metadata": {
    "vscode": {
     "languageId": "r"
    }
   },
   "outputs": [
    {
     "data": {
      "text/html": [
       "<table class=\"dataframe\">\n",
       "<caption>A tibble: 1441 × 13</caption>\n",
       "<thead>\n",
       "\t<tr><th scope=col>hashedEmail</th><th scope=col>Day</th><th scope=col>Month</th><th scope=col>Year</th><th scope=col>Hour</th><th scope=col>Minute</th><th scope=col>EDay</th><th scope=col>EMonth</th><th scope=col>EYear</th><th scope=col>EHour</th><th scope=col>EMinute</th><th scope=col>original_start_time</th><th scope=col>original_end_time</th></tr>\n",
       "\t<tr><th scope=col>&lt;chr&gt;</th><th scope=col>&lt;dbl&gt;</th><th scope=col>&lt;dbl&gt;</th><th scope=col>&lt;dbl&gt;</th><th scope=col>&lt;dbl&gt;</th><th scope=col>&lt;dbl&gt;</th><th scope=col>&lt;dbl&gt;</th><th scope=col>&lt;dbl&gt;</th><th scope=col>&lt;dbl&gt;</th><th scope=col>&lt;dbl&gt;</th><th scope=col>&lt;dbl&gt;</th><th scope=col>&lt;dbl&gt;</th><th scope=col>&lt;dbl&gt;</th></tr>\n",
       "</thead>\n",
       "<tbody>\n",
       "\t<tr><td>bfce39c89d6549f2bb94d8064d3ce69dc3d7e72b38f431d8aa0c4bf95ccee6bf</td><td>30</td><td>6</td><td>2024</td><td>18</td><td>12</td><td>30</td><td>6</td><td>2024</td><td>18</td><td>24</td><td>1.71977e+12</td><td>1.71977e+12</td></tr>\n",
       "\t<tr><td>36d9cbb4c6bc0c1a6911436d2da0d09ec625e43e6552f575d4acc9cf487c4686</td><td>17</td><td>6</td><td>2024</td><td>23</td><td>33</td><td>17</td><td>6</td><td>2024</td><td>23</td><td>46</td><td>1.71867e+12</td><td>1.71867e+12</td></tr>\n",
       "\t<tr><td>f8f5477f5a2e53616ae37421b1c660b971192bd8ff77e3398304c7ae42581fdc</td><td>25</td><td>7</td><td>2024</td><td>17</td><td>34</td><td>25</td><td>7</td><td>2024</td><td>17</td><td>57</td><td>1.72193e+12</td><td>1.72193e+12</td></tr>\n",
       "\t<tr><td>⋮</td><td>⋮</td><td>⋮</td><td>⋮</td><td>⋮</td><td>⋮</td><td>⋮</td><td>⋮</td><td>⋮</td><td>⋮</td><td>⋮</td><td>⋮</td><td>⋮</td></tr>\n",
       "\t<tr><td>fd6563a4e0f6f4273580e5fedbd8dda64990447aea5a33cbb5e894a3867ca44d</td><td>28</td><td>7</td><td>2024</td><td>15</td><td>36</td><td>28</td><td>7</td><td>2024</td><td>15</td><td>57</td><td>1.72218e+12</td><td>1.72218e+12</td></tr>\n",
       "\t<tr><td>fd6563a4e0f6f4273580e5fedbd8dda64990447aea5a33cbb5e894a3867ca44d</td><td>25</td><td>7</td><td>2024</td><td> 6</td><td>15</td><td>25</td><td>7</td><td>2024</td><td> 6</td><td>22</td><td>1.72189e+12</td><td>1.72189e+12</td></tr>\n",
       "\t<tr><td>36d9cbb4c6bc0c1a6911436d2da0d09ec625e43e6552f575d4acc9cf487c4686</td><td>20</td><td>5</td><td>2024</td><td> 2</td><td>26</td><td>20</td><td>5</td><td>2024</td><td> 2</td><td>45</td><td>1.71617e+12</td><td>1.71617e+12</td></tr>\n",
       "</tbody>\n",
       "</table>\n"
      ],
      "text/latex": [
       "A tibble: 1441 × 13\n",
       "\\begin{tabular}{lllllllllllll}\n",
       " hashedEmail & Day & Month & Year & Hour & Minute & EDay & EMonth & EYear & EHour & EMinute & original\\_start\\_time & original\\_end\\_time\\\\\n",
       " <chr> & <dbl> & <dbl> & <dbl> & <dbl> & <dbl> & <dbl> & <dbl> & <dbl> & <dbl> & <dbl> & <dbl> & <dbl>\\\\\n",
       "\\hline\n",
       "\t bfce39c89d6549f2bb94d8064d3ce69dc3d7e72b38f431d8aa0c4bf95ccee6bf & 30 & 6 & 2024 & 18 & 12 & 30 & 6 & 2024 & 18 & 24 & 1.71977e+12 & 1.71977e+12\\\\\n",
       "\t 36d9cbb4c6bc0c1a6911436d2da0d09ec625e43e6552f575d4acc9cf487c4686 & 17 & 6 & 2024 & 23 & 33 & 17 & 6 & 2024 & 23 & 46 & 1.71867e+12 & 1.71867e+12\\\\\n",
       "\t f8f5477f5a2e53616ae37421b1c660b971192bd8ff77e3398304c7ae42581fdc & 25 & 7 & 2024 & 17 & 34 & 25 & 7 & 2024 & 17 & 57 & 1.72193e+12 & 1.72193e+12\\\\\n",
       "\t ⋮ & ⋮ & ⋮ & ⋮ & ⋮ & ⋮ & ⋮ & ⋮ & ⋮ & ⋮ & ⋮ & ⋮ & ⋮\\\\\n",
       "\t fd6563a4e0f6f4273580e5fedbd8dda64990447aea5a33cbb5e894a3867ca44d & 28 & 7 & 2024 & 15 & 36 & 28 & 7 & 2024 & 15 & 57 & 1.72218e+12 & 1.72218e+12\\\\\n",
       "\t fd6563a4e0f6f4273580e5fedbd8dda64990447aea5a33cbb5e894a3867ca44d & 25 & 7 & 2024 &  6 & 15 & 25 & 7 & 2024 &  6 & 22 & 1.72189e+12 & 1.72189e+12\\\\\n",
       "\t 36d9cbb4c6bc0c1a6911436d2da0d09ec625e43e6552f575d4acc9cf487c4686 & 20 & 5 & 2024 &  2 & 26 & 20 & 5 & 2024 &  2 & 45 & 1.71617e+12 & 1.71617e+12\\\\\n",
       "\\end{tabular}\n"
      ],
      "text/markdown": [
       "\n",
       "A tibble: 1441 × 13\n",
       "\n",
       "| hashedEmail &lt;chr&gt; | Day &lt;dbl&gt; | Month &lt;dbl&gt; | Year &lt;dbl&gt; | Hour &lt;dbl&gt; | Minute &lt;dbl&gt; | EDay &lt;dbl&gt; | EMonth &lt;dbl&gt; | EYear &lt;dbl&gt; | EHour &lt;dbl&gt; | EMinute &lt;dbl&gt; | original_start_time &lt;dbl&gt; | original_end_time &lt;dbl&gt; |\n",
       "|---|---|---|---|---|---|---|---|---|---|---|---|---|\n",
       "| bfce39c89d6549f2bb94d8064d3ce69dc3d7e72b38f431d8aa0c4bf95ccee6bf | 30 | 6 | 2024 | 18 | 12 | 30 | 6 | 2024 | 18 | 24 | 1.71977e+12 | 1.71977e+12 |\n",
       "| 36d9cbb4c6bc0c1a6911436d2da0d09ec625e43e6552f575d4acc9cf487c4686 | 17 | 6 | 2024 | 23 | 33 | 17 | 6 | 2024 | 23 | 46 | 1.71867e+12 | 1.71867e+12 |\n",
       "| f8f5477f5a2e53616ae37421b1c660b971192bd8ff77e3398304c7ae42581fdc | 25 | 7 | 2024 | 17 | 34 | 25 | 7 | 2024 | 17 | 57 | 1.72193e+12 | 1.72193e+12 |\n",
       "| ⋮ | ⋮ | ⋮ | ⋮ | ⋮ | ⋮ | ⋮ | ⋮ | ⋮ | ⋮ | ⋮ | ⋮ | ⋮ |\n",
       "| fd6563a4e0f6f4273580e5fedbd8dda64990447aea5a33cbb5e894a3867ca44d | 28 | 7 | 2024 | 15 | 36 | 28 | 7 | 2024 | 15 | 57 | 1.72218e+12 | 1.72218e+12 |\n",
       "| fd6563a4e0f6f4273580e5fedbd8dda64990447aea5a33cbb5e894a3867ca44d | 25 | 7 | 2024 |  6 | 15 | 25 | 7 | 2024 |  6 | 22 | 1.72189e+12 | 1.72189e+12 |\n",
       "| 36d9cbb4c6bc0c1a6911436d2da0d09ec625e43e6552f575d4acc9cf487c4686 | 20 | 5 | 2024 |  2 | 26 | 20 | 5 | 2024 |  2 | 45 | 1.71617e+12 | 1.71617e+12 |\n",
       "\n"
      ],
      "text/plain": [
       "     hashedEmail                                                      Day Month\n",
       "1    bfce39c89d6549f2bb94d8064d3ce69dc3d7e72b38f431d8aa0c4bf95ccee6bf 30  6    \n",
       "2    36d9cbb4c6bc0c1a6911436d2da0d09ec625e43e6552f575d4acc9cf487c4686 17  6    \n",
       "3    f8f5477f5a2e53616ae37421b1c660b971192bd8ff77e3398304c7ae42581fdc 25  7    \n",
       "⋮    ⋮                                                                ⋮   ⋮    \n",
       "1439 fd6563a4e0f6f4273580e5fedbd8dda64990447aea5a33cbb5e894a3867ca44d 28  7    \n",
       "1440 fd6563a4e0f6f4273580e5fedbd8dda64990447aea5a33cbb5e894a3867ca44d 25  7    \n",
       "1441 36d9cbb4c6bc0c1a6911436d2da0d09ec625e43e6552f575d4acc9cf487c4686 20  5    \n",
       "     Year Hour Minute EDay EMonth EYear EHour EMinute original_start_time\n",
       "1    2024 18   12     30   6      2024  18    24      1.71977e+12        \n",
       "2    2024 23   33     17   6      2024  23    46      1.71867e+12        \n",
       "3    2024 17   34     25   7      2024  17    57      1.72193e+12        \n",
       "⋮    ⋮    ⋮    ⋮      ⋮    ⋮      ⋮     ⋮     ⋮       ⋮                  \n",
       "1439 2024 15   36     28   7      2024  15    57      1.72218e+12        \n",
       "1440 2024  6   15     25   7      2024   6    22      1.72189e+12        \n",
       "1441 2024  2   26     20   5      2024   2    45      1.71617e+12        \n",
       "     original_end_time\n",
       "1    1.71977e+12      \n",
       "2    1.71867e+12      \n",
       "3    1.72193e+12      \n",
       "⋮    ⋮                \n",
       "1439 1.72218e+12      \n",
       "1440 1.72189e+12      \n",
       "1441 1.71617e+12      "
      ]
     },
     "metadata": {},
     "output_type": "display_data"
    }
   ],
   "source": [
    "sessions <- sessions_data |>\n",
    "    separate(start_time, into = c(\"Date\", \"Time\"), sep = \" \") |>\n",
    "    separate(Date, into = c(\"Day\", \"Month\", \"Year\"), sep = \"/\") |>\n",
    "    separate(end_time, into = c(\"EDate\", \"ETime\"), sep = \" \") |>\n",
    "    separate(EDate, into = c(\"EDay\", \"EMonth\", \"EYear\"), sep = \"/\") |>\n",
    "    mutate(Day = as.numeric(Day), EDay = as.numeric(EDay),\n",
    "           Month = as.numeric(Month), EMonth = as.numeric(EMonth), \n",
    "           Year = as.numeric(Year), EYear = as.numeric(EYear)) |>\n",
    "    separate(Time, into = c(\"Hour\", \"Minute\"), sep = \":\") |>\n",
    "    separate(ETime, into = c(\"EHour\", \"EMinute\"), sep = \":\") |>\n",
    "    mutate(Hour = as.numeric(Hour), EHour = as.numeric(EHour),\n",
    "           Minute = as.numeric(Minute), EMinute = as.numeric(EMinute)) |>\n",
    "\n",
    "    #Filter out rows that contain sessions that lasted more than a day(these data points are probably outliers)\n",
    "\n",
    "    filter(Day==EDay & Month==EMonth & Year==EYear)\n",
    "\n",
    "\n",
    "\n",
    "sessions"
   ]
  },
  {
   "cell_type": "code",
   "execution_count": 28,
   "id": "7b7e5870",
   "metadata": {
    "vscode": {
     "languageId": "r"
    }
   },
   "outputs": [
    {
     "data": {
      "text/html": [
       "<table class=\"dataframe\">\n",
       "<caption>A tibble: 1 × 3</caption>\n",
       "<thead>\n",
       "\t<tr><th scope=col>average_time</th><th scope=col>median_time</th><th scope=col>sd_time</th></tr>\n",
       "\t<tr><th scope=col>&lt;dbl&gt;</th><th scope=col>&lt;dbl&gt;</th><th scope=col>&lt;dbl&gt;</th></tr>\n",
       "</thead>\n",
       "<tbody>\n",
       "\t<tr><td>46.85982</td><td>26</td><td>51.73255</td></tr>\n",
       "</tbody>\n",
       "</table>\n"
      ],
      "text/latex": [
       "A tibble: 1 × 3\n",
       "\\begin{tabular}{lll}\n",
       " average\\_time & median\\_time & sd\\_time\\\\\n",
       " <dbl> & <dbl> & <dbl>\\\\\n",
       "\\hline\n",
       "\t 46.85982 & 26 & 51.73255\\\\\n",
       "\\end{tabular}\n"
      ],
      "text/markdown": [
       "\n",
       "A tibble: 1 × 3\n",
       "\n",
       "| average_time &lt;dbl&gt; | median_time &lt;dbl&gt; | sd_time &lt;dbl&gt; |\n",
       "|---|---|---|\n",
       "| 46.85982 | 26 | 51.73255 |\n",
       "\n"
      ],
      "text/plain": [
       "  average_time median_time sd_time \n",
       "1 46.85982     26          51.73255"
      ]
     },
     "metadata": {},
     "output_type": "display_data"
    },
    {
     "data": {
      "application/pdf": "[encoded data removed]",
      "image/jpeg": "[encoded data removed]",
      "image/png": "[encoded data removed]",
      "image/svg+xml": [
       "<?xml version=\"1.0\" encoding=\"UTF-8\"?>\n",
       "<svg xmlns=\"http://www.w3.org/2000/svg\" xmlns:xlink=\"http://www.w3.org/1999/xlink\" width=\"504\" height=\"504\" viewBox=\"0 0 504 504\">\n",
       "<defs>\n",
       "<g>\n",
       "<g id=\"glyph-0-0\">\n",
       "<path d=\"M 4.546875 -3.03125 C 4.546875 -2.445312 4.488281 -1.957031 4.375 -1.5625 C 4.269531 -1.164062 4.117188 -0.84375 3.921875 -0.59375 C 3.734375 -0.351562 3.507812 -0.179688 3.25 -0.078125 C 3 0.0234375 2.726562 0.078125 2.4375 0.078125 C 2.144531 0.078125 1.867188 0.0234375 1.609375 -0.078125 C 1.359375 -0.179688 1.140625 -0.351562 0.953125 -0.59375 C 0.765625 -0.84375 0.613281 -1.164062 0.5 -1.5625 C 0.394531 -1.957031 0.34375 -2.445312 0.34375 -3.03125 C 0.34375 -3.632812 0.394531 -4.132812 0.5 -4.53125 C 0.613281 -4.9375 0.765625 -5.257812 0.953125 -5.5 C 1.140625 -5.738281 1.359375 -5.90625 1.609375 -6 C 1.867188 -6.09375 2.15625 -6.140625 2.46875 -6.140625 C 2.75 -6.140625 3.015625 -6.09375 3.265625 -6 C 3.523438 -5.90625 3.75 -5.738281 3.9375 -5.5 C 4.125 -5.257812 4.269531 -4.9375 4.375 -4.53125 C 4.488281 -4.132812 4.546875 -3.632812 4.546875 -3.03125 Z M 3.765625 -3.03125 C 3.765625 -3.507812 3.734375 -3.90625 3.671875 -4.21875 C 3.617188 -4.539062 3.535156 -4.796875 3.421875 -4.984375 C 3.304688 -5.179688 3.164062 -5.316406 3 -5.390625 C 2.84375 -5.472656 2.664062 -5.515625 2.46875 -5.515625 C 2.25 -5.515625 2.054688 -5.472656 1.890625 -5.390625 C 1.722656 -5.316406 1.582031 -5.179688 1.46875 -4.984375 C 1.351562 -4.796875 1.265625 -4.539062 1.203125 -4.21875 C 1.148438 -3.90625 1.125 -3.507812 1.125 -3.03125 C 1.125 -2.5625 1.148438 -2.164062 1.203125 -1.84375 C 1.265625 -1.53125 1.351562 -1.273438 1.46875 -1.078125 C 1.582031 -0.890625 1.71875 -0.753906 1.875 -0.671875 C 2.039062 -0.585938 2.226562 -0.546875 2.4375 -0.546875 C 2.644531 -0.546875 2.828125 -0.585938 2.984375 -0.671875 C 3.148438 -0.753906 3.289062 -0.890625 3.40625 -1.078125 C 3.519531 -1.273438 3.609375 -1.53125 3.671875 -1.84375 C 3.734375 -2.164062 3.765625 -2.5625 3.765625 -3.03125 Z M 3.765625 -3.03125 \"/>\n",
       "</g>\n",
       "<g id=\"glyph-0-1\">\n",
       "<path d=\"M 0.671875 0 L 0.671875 -0.65625 L 2.21875 -0.65625 L 2.21875 -5.3125 L 0.84375 -4.34375 L 0.84375 -5.0625 L 2.28125 -6.046875 L 2.984375 -6.046875 L 2.984375 -0.65625 L 4.46875 -0.65625 L 4.46875 0 Z M 0.671875 0 \"/>\n",
       "</g>\n",
       "<g id=\"glyph-0-2\">\n",
       "<path d=\"M 0.4375 0 L 0.4375 -0.546875 C 0.582031 -0.878906 0.757812 -1.171875 0.96875 -1.421875 C 1.1875 -1.679688 1.410156 -1.914062 1.640625 -2.125 C 1.867188 -2.332031 2.097656 -2.523438 2.328125 -2.703125 C 2.554688 -2.878906 2.757812 -3.054688 2.9375 -3.234375 C 3.125 -3.410156 3.273438 -3.597656 3.390625 -3.796875 C 3.503906 -3.992188 3.5625 -4.210938 3.5625 -4.453125 C 3.5625 -4.628906 3.535156 -4.78125 3.484375 -4.90625 C 3.429688 -5.039062 3.351562 -5.148438 3.25 -5.234375 C 3.15625 -5.328125 3.039062 -5.394531 2.90625 -5.4375 C 2.769531 -5.476562 2.617188 -5.5 2.453125 -5.5 C 2.296875 -5.5 2.148438 -5.476562 2.015625 -5.4375 C 1.878906 -5.394531 1.757812 -5.332031 1.65625 -5.25 C 1.550781 -5.164062 1.460938 -5.054688 1.390625 -4.921875 C 1.328125 -4.796875 1.285156 -4.648438 1.265625 -4.484375 L 0.484375 -4.5625 C 0.503906 -4.78125 0.5625 -4.984375 0.65625 -5.171875 C 0.75 -5.359375 0.878906 -5.523438 1.046875 -5.671875 C 1.210938 -5.816406 1.410156 -5.929688 1.640625 -6.015625 C 1.878906 -6.097656 2.148438 -6.140625 2.453125 -6.140625 C 2.753906 -6.140625 3.019531 -6.101562 3.25 -6.03125 C 3.488281 -5.957031 3.6875 -5.847656 3.84375 -5.703125 C 4.007812 -5.566406 4.132812 -5.394531 4.21875 -5.1875 C 4.3125 -4.988281 4.359375 -4.753906 4.359375 -4.484375 C 4.359375 -4.273438 4.320312 -4.078125 4.25 -3.890625 C 4.175781 -3.710938 4.078125 -3.539062 3.953125 -3.375 C 3.828125 -3.207031 3.6875 -3.046875 3.53125 -2.890625 C 3.375 -2.742188 3.207031 -2.59375 3.03125 -2.4375 C 2.851562 -2.289062 2.675781 -2.144531 2.5 -2 C 2.320312 -1.863281 2.15625 -1.722656 2 -1.578125 C 1.84375 -1.429688 1.703125 -1.28125 1.578125 -1.125 C 1.453125 -0.976562 1.359375 -0.820312 1.296875 -0.65625 L 4.453125 -0.65625 L 4.453125 0 Z M 0.4375 0 \"/>\n",
       "</g>\n",
       "<g id=\"glyph-0-3\">\n",
       "<path d=\"M 4.5 -1.671875 C 4.5 -1.390625 4.453125 -1.140625 4.359375 -0.921875 C 4.273438 -0.703125 4.144531 -0.519531 3.96875 -0.375 C 3.800781 -0.226562 3.585938 -0.113281 3.328125 -0.03125 C 3.078125 0.0390625 2.785156 0.078125 2.453125 0.078125 C 2.078125 0.078125 1.757812 0.0351562 1.5 -0.046875 C 1.25 -0.140625 1.039062 -0.265625 0.875 -0.421875 C 0.707031 -0.578125 0.582031 -0.75 0.5 -0.9375 C 0.414062 -1.132812 0.359375 -1.34375 0.328125 -1.5625 L 1.140625 -1.625 C 1.160156 -1.46875 1.203125 -1.320312 1.265625 -1.1875 C 1.328125 -1.0625 1.410156 -0.945312 1.515625 -0.84375 C 1.617188 -0.75 1.75 -0.675781 1.90625 -0.625 C 2.0625 -0.570312 2.242188 -0.546875 2.453125 -0.546875 C 2.835938 -0.546875 3.140625 -0.640625 3.359375 -0.828125 C 3.585938 -1.023438 3.703125 -1.316406 3.703125 -1.703125 C 3.703125 -1.921875 3.648438 -2.097656 3.546875 -2.234375 C 3.453125 -2.367188 3.332031 -2.472656 3.1875 -2.546875 C 3.039062 -2.628906 2.878906 -2.679688 2.703125 -2.703125 C 2.523438 -2.734375 2.363281 -2.75 2.21875 -2.75 L 1.78125 -2.75 L 1.78125 -3.421875 L 2.203125 -3.421875 C 2.347656 -3.421875 2.5 -3.429688 2.65625 -3.453125 C 2.820312 -3.484375 2.96875 -3.535156 3.09375 -3.609375 C 3.226562 -3.691406 3.335938 -3.800781 3.421875 -3.9375 C 3.503906 -4.070312 3.546875 -4.242188 3.546875 -4.453125 C 3.546875 -4.773438 3.445312 -5.03125 3.25 -5.21875 C 3.0625 -5.40625 2.78125 -5.5 2.40625 -5.5 C 2.070312 -5.5 1.796875 -5.410156 1.578125 -5.234375 C 1.367188 -5.066406 1.25 -4.820312 1.21875 -4.5 L 0.4375 -4.5625 C 0.46875 -4.832031 0.539062 -5.066406 0.65625 -5.265625 C 0.769531 -5.460938 0.914062 -5.625 1.09375 -5.75 C 1.269531 -5.882812 1.46875 -5.984375 1.6875 -6.046875 C 1.914062 -6.109375 2.160156 -6.140625 2.421875 -6.140625 C 2.753906 -6.140625 3.039062 -6.097656 3.28125 -6.015625 C 3.53125 -5.929688 3.734375 -5.816406 3.890625 -5.671875 C 4.046875 -5.523438 4.160156 -5.351562 4.234375 -5.15625 C 4.304688 -4.96875 4.34375 -4.765625 4.34375 -4.546875 C 4.34375 -4.367188 4.316406 -4.203125 4.265625 -4.046875 C 4.210938 -3.890625 4.132812 -3.75 4.03125 -3.625 C 3.9375 -3.5 3.804688 -3.390625 3.640625 -3.296875 C 3.484375 -3.210938 3.296875 -3.148438 3.078125 -3.109375 L 3.078125 -3.09375 C 3.316406 -3.0625 3.523438 -3.003906 3.703125 -2.921875 C 3.890625 -2.835938 4.039062 -2.734375 4.15625 -2.609375 C 4.269531 -2.484375 4.351562 -2.335938 4.40625 -2.171875 C 4.46875 -2.015625 4.5 -1.847656 4.5 -1.671875 Z M 4.5 -1.671875 \"/>\n",
       "</g>\n",
       "<g id=\"glyph-0-4\">\n",
       "<path d=\"M 3.78125 -1.375 L 3.78125 0 L 3.046875 0 L 3.046875 -1.375 L 0.203125 -1.375 L 0.203125 -1.96875 L 2.96875 -6.046875 L 3.78125 -6.046875 L 3.78125 -1.984375 L 4.640625 -1.984375 L 4.640625 -1.375 Z M 3.046875 -5.1875 C 3.046875 -5.164062 3.035156 -5.132812 3.015625 -5.09375 C 2.992188 -5.050781 2.96875 -5.003906 2.9375 -4.953125 C 2.90625 -4.898438 2.875 -4.847656 2.84375 -4.796875 C 2.8125 -4.742188 2.785156 -4.703125 2.765625 -4.671875 L 1.21875 -2.390625 C 1.195312 -2.359375 1.171875 -2.320312 1.140625 -2.28125 C 1.117188 -2.25 1.09375 -2.210938 1.0625 -2.171875 C 1.039062 -2.140625 1.015625 -2.101562 0.984375 -2.0625 C 0.953125 -2.03125 0.929688 -2.003906 0.921875 -1.984375 L 3.046875 -1.984375 Z M 3.046875 -5.1875 \"/>\n",
       "</g>\n",
       "<g id=\"glyph-1-0\">\n",
       "<path d=\"M 3.875 -6.734375 L 3.875 0 L 2.84375 0 L 2.84375 -6.734375 L 0.25 -6.734375 L 0.25 -7.5625 L 6.46875 -7.5625 L 6.46875 -6.734375 Z M 3.875 -6.734375 \"/>\n",
       "</g>\n",
       "<g id=\"glyph-1-1\">\n",
       "<path d=\"M 0.734375 -7.046875 L 0.734375 -7.96875 L 1.703125 -7.96875 L 1.703125 -7.046875 Z M 0.734375 0 L 0.734375 -5.8125 L 1.703125 -5.8125 L 1.703125 0 Z M 0.734375 0 \"/>\n",
       "</g>\n",
       "<g id=\"glyph-1-2\">\n",
       "<path d=\"M 4.125 0 L 4.125 -3.6875 C 4.125 -3.96875 4.101562 -4.203125 4.0625 -4.390625 C 4.03125 -4.578125 3.972656 -4.726562 3.890625 -4.84375 C 3.804688 -4.96875 3.695312 -5.050781 3.5625 -5.09375 C 3.425781 -5.144531 3.257812 -5.171875 3.0625 -5.171875 C 2.851562 -5.171875 2.664062 -5.128906 2.5 -5.046875 C 2.34375 -4.972656 2.203125 -4.859375 2.078125 -4.703125 C 1.960938 -4.546875 1.875 -4.351562 1.8125 -4.125 C 1.75 -3.90625 1.71875 -3.65625 1.71875 -3.375 L 1.71875 0 L 0.765625 0 L 0.765625 -4.578125 C 0.765625 -4.691406 0.757812 -4.816406 0.75 -4.953125 C 0.75 -5.085938 0.75 -5.210938 0.75 -5.328125 C 0.75 -5.453125 0.742188 -5.554688 0.734375 -5.640625 C 0.734375 -5.734375 0.734375 -5.789062 0.734375 -5.8125 L 1.640625 -5.8125 C 1.648438 -5.789062 1.65625 -5.738281 1.65625 -5.65625 C 1.65625 -5.582031 1.65625 -5.492188 1.65625 -5.390625 C 1.664062 -5.296875 1.671875 -5.191406 1.671875 -5.078125 C 1.679688 -4.972656 1.6875 -4.882812 1.6875 -4.8125 L 1.703125 -4.8125 C 1.785156 -4.988281 1.875 -5.144531 1.96875 -5.28125 C 2.070312 -5.414062 2.191406 -5.53125 2.328125 -5.625 C 2.460938 -5.71875 2.617188 -5.789062 2.796875 -5.84375 C 2.972656 -5.894531 3.175781 -5.921875 3.40625 -5.921875 C 3.84375 -5.921875 4.1875 -5.832031 4.4375 -5.65625 C 4.695312 -5.476562 4.878906 -5.195312 4.984375 -4.8125 L 5 -4.8125 C 5.082031 -4.988281 5.175781 -5.144531 5.28125 -5.28125 C 5.394531 -5.414062 5.519531 -5.53125 5.65625 -5.625 C 5.800781 -5.71875 5.960938 -5.789062 6.140625 -5.84375 C 6.316406 -5.894531 6.519531 -5.921875 6.75 -5.921875 C 7.050781 -5.921875 7.304688 -5.878906 7.515625 -5.796875 C 7.734375 -5.722656 7.910156 -5.601562 8.046875 -5.4375 C 8.179688 -5.269531 8.28125 -5.054688 8.34375 -4.796875 C 8.40625 -4.535156 8.4375 -4.226562 8.4375 -3.875 L 8.4375 0 L 7.484375 0 L 7.484375 -3.6875 C 7.484375 -3.96875 7.460938 -4.203125 7.421875 -4.390625 C 7.390625 -4.578125 7.332031 -4.726562 7.25 -4.84375 C 7.164062 -4.96875 7.054688 -5.050781 6.921875 -5.09375 C 6.785156 -5.144531 6.617188 -5.171875 6.421875 -5.171875 C 6.210938 -5.171875 6.023438 -5.128906 5.859375 -5.046875 C 5.703125 -4.972656 5.5625 -4.859375 5.4375 -4.703125 C 5.320312 -4.554688 5.234375 -4.367188 5.171875 -4.140625 C 5.109375 -3.921875 5.078125 -3.664062 5.078125 -3.375 L 5.078125 0 Z M 4.125 0 \"/>\n",
       "</g>\n",
       "<g id=\"glyph-1-3\">\n",
       "<path d=\"M 1.484375 -2.703125 C 1.484375 -2.398438 1.515625 -2.117188 1.578125 -1.859375 C 1.640625 -1.609375 1.734375 -1.390625 1.859375 -1.203125 C 1.992188 -1.015625 2.160156 -0.867188 2.359375 -0.765625 C 2.566406 -0.671875 2.816406 -0.625 3.109375 -0.625 C 3.523438 -0.625 3.859375 -0.707031 4.109375 -0.875 C 4.359375 -1.039062 4.53125 -1.253906 4.625 -1.515625 L 5.46875 -1.265625 C 5.40625 -1.109375 5.316406 -0.945312 5.203125 -0.78125 C 5.097656 -0.613281 4.953125 -0.460938 4.765625 -0.328125 C 4.585938 -0.203125 4.363281 -0.0976562 4.09375 -0.015625 C 3.820312 0.0664062 3.492188 0.109375 3.109375 0.109375 C 2.242188 0.109375 1.585938 -0.144531 1.140625 -0.65625 C 0.691406 -1.164062 0.46875 -1.925781 0.46875 -2.9375 C 0.46875 -3.488281 0.535156 -3.953125 0.671875 -4.328125 C 0.804688 -4.703125 0.988281 -5.007812 1.21875 -5.25 C 1.457031 -5.488281 1.734375 -5.660156 2.046875 -5.765625 C 2.367188 -5.867188 2.707031 -5.921875 3.0625 -5.921875 C 3.550781 -5.921875 3.957031 -5.84375 4.28125 -5.6875 C 4.613281 -5.53125 4.878906 -5.3125 5.078125 -5.03125 C 5.273438 -4.75 5.414062 -4.421875 5.5 -4.046875 C 5.582031 -3.671875 5.625 -3.265625 5.625 -2.828125 L 5.625 -2.703125 Z M 4.625 -3.4375 C 4.570312 -4.050781 4.414062 -4.5 4.15625 -4.78125 C 3.90625 -5.0625 3.535156 -5.203125 3.046875 -5.203125 C 2.890625 -5.203125 2.722656 -5.175781 2.546875 -5.125 C 2.367188 -5.070312 2.203125 -4.976562 2.046875 -4.84375 C 1.898438 -4.71875 1.773438 -4.539062 1.671875 -4.3125 C 1.566406 -4.082031 1.507812 -3.789062 1.5 -3.4375 Z M 4.625 -3.4375 \"/>\n",
       "</g>\n",
       "<g id=\"glyph-1-4\">\n",
       "</g>\n",
       "<g id=\"glyph-1-5\">\n",
       "<path d=\"M 7.421875 -3.859375 C 7.421875 -3.234375 7.320312 -2.675781 7.125 -2.1875 C 6.9375 -1.707031 6.675781 -1.304688 6.34375 -0.984375 C 6.019531 -0.660156 5.632812 -0.414062 5.1875 -0.25 C 4.738281 -0.0820312 4.253906 0 3.734375 0 L 0.90625 0 L 0.90625 -7.5625 L 3.40625 -7.5625 C 3.988281 -7.5625 4.523438 -7.488281 5.015625 -7.34375 C 5.515625 -7.207031 5.941406 -6.984375 6.296875 -6.671875 C 6.648438 -6.367188 6.925781 -5.984375 7.125 -5.515625 C 7.320312 -5.054688 7.421875 -4.503906 7.421875 -3.859375 Z M 6.390625 -3.859375 C 6.390625 -4.367188 6.316406 -4.804688 6.171875 -5.171875 C 6.023438 -5.535156 5.816406 -5.832031 5.546875 -6.0625 C 5.285156 -6.300781 4.96875 -6.472656 4.59375 -6.578125 C 4.226562 -6.691406 3.828125 -6.75 3.390625 -6.75 L 1.921875 -6.75 L 1.921875 -0.828125 L 3.609375 -0.828125 C 4.015625 -0.828125 4.382812 -0.890625 4.71875 -1.015625 C 5.050781 -1.140625 5.34375 -1.328125 5.59375 -1.578125 C 5.84375 -1.835938 6.035156 -2.15625 6.171875 -2.53125 C 6.316406 -2.914062 6.390625 -3.359375 6.390625 -3.859375 Z M 6.390625 -3.859375 \"/>\n",
       "</g>\n",
       "<g id=\"glyph-1-6\">\n",
       "<path d=\"M 1.9375 -5.109375 L 1.9375 0 L 0.96875 0 L 0.96875 -5.109375 L 0.15625 -5.109375 L 0.15625 -5.8125 L 0.96875 -5.8125 L 0.96875 -6.46875 C 0.96875 -6.675781 0.988281 -6.867188 1.03125 -7.046875 C 1.070312 -7.234375 1.144531 -7.394531 1.25 -7.53125 C 1.351562 -7.664062 1.492188 -7.769531 1.671875 -7.84375 C 1.859375 -7.914062 2.097656 -7.953125 2.390625 -7.953125 C 2.503906 -7.953125 2.625 -7.945312 2.75 -7.9375 C 2.875 -7.925781 2.984375 -7.910156 3.078125 -7.890625 L 3.078125 -7.15625 C 3.015625 -7.164062 2.941406 -7.175781 2.859375 -7.1875 C 2.773438 -7.195312 2.703125 -7.203125 2.640625 -7.203125 C 2.492188 -7.203125 2.375 -7.179688 2.28125 -7.140625 C 2.195312 -7.097656 2.128906 -7.039062 2.078125 -6.96875 C 2.023438 -6.894531 1.988281 -6.804688 1.96875 -6.703125 C 1.945312 -6.597656 1.9375 -6.472656 1.9375 -6.328125 L 1.9375 -5.8125 L 3.078125 -5.8125 L 3.078125 -5.109375 Z M 1.9375 -5.109375 \"/>\n",
       "</g>\n",
       "<g id=\"glyph-1-7\">\n",
       "<path d=\"M 0.765625 0 L 0.765625 -4.453125 C 0.765625 -4.578125 0.757812 -4.703125 0.75 -4.828125 C 0.75 -4.953125 0.75 -5.070312 0.75 -5.1875 C 0.75 -5.3125 0.742188 -5.425781 0.734375 -5.53125 C 0.734375 -5.632812 0.734375 -5.726562 0.734375 -5.8125 L 1.640625 -5.8125 C 1.648438 -5.726562 1.65625 -5.632812 1.65625 -5.53125 C 1.664062 -5.425781 1.671875 -5.316406 1.671875 -5.203125 C 1.679688 -5.085938 1.6875 -4.976562 1.6875 -4.875 C 1.6875 -4.78125 1.6875 -4.695312 1.6875 -4.625 L 1.703125 -4.625 C 1.773438 -4.84375 1.847656 -5.035156 1.921875 -5.203125 C 2.003906 -5.367188 2.097656 -5.503906 2.203125 -5.609375 C 2.304688 -5.710938 2.425781 -5.789062 2.5625 -5.84375 C 2.707031 -5.894531 2.882812 -5.921875 3.09375 -5.921875 C 3.164062 -5.921875 3.238281 -5.910156 3.3125 -5.890625 C 3.382812 -5.878906 3.441406 -5.867188 3.484375 -5.859375 L 3.484375 -4.984375 C 3.421875 -4.992188 3.34375 -5.003906 3.25 -5.015625 C 3.164062 -5.023438 3.070312 -5.03125 2.96875 -5.03125 C 2.738281 -5.03125 2.546875 -4.976562 2.390625 -4.875 C 2.242188 -4.78125 2.117188 -4.644531 2.015625 -4.46875 C 1.921875 -4.289062 1.847656 -4.078125 1.796875 -3.828125 C 1.753906 -3.585938 1.734375 -3.320312 1.734375 -3.03125 L 1.734375 0 Z M 0.765625 0 \"/>\n",
       "</g>\n",
       "<g id=\"glyph-1-8\">\n",
       "<path d=\"M 4.4375 0 L 4.4375 -3.6875 C 4.4375 -3.96875 4.414062 -4.203125 4.375 -4.390625 C 4.332031 -4.578125 4.265625 -4.726562 4.171875 -4.84375 C 4.078125 -4.96875 3.953125 -5.050781 3.796875 -5.09375 C 3.648438 -5.144531 3.460938 -5.171875 3.234375 -5.171875 C 3.003906 -5.171875 2.796875 -5.128906 2.609375 -5.046875 C 2.429688 -4.972656 2.273438 -4.859375 2.140625 -4.703125 C 2.003906 -4.546875 1.898438 -4.351562 1.828125 -4.125 C 1.765625 -3.90625 1.734375 -3.65625 1.734375 -3.375 L 1.734375 0 L 0.765625 0 L 0.765625 -4.578125 C 0.765625 -4.691406 0.757812 -4.816406 0.75 -4.953125 C 0.75 -5.085938 0.75 -5.210938 0.75 -5.328125 C 0.75 -5.453125 0.742188 -5.554688 0.734375 -5.640625 C 0.734375 -5.734375 0.734375 -5.789062 0.734375 -5.8125 L 1.640625 -5.8125 C 1.648438 -5.789062 1.65625 -5.738281 1.65625 -5.65625 C 1.65625 -5.582031 1.65625 -5.492188 1.65625 -5.390625 C 1.664062 -5.296875 1.671875 -5.191406 1.671875 -5.078125 C 1.679688 -4.972656 1.6875 -4.882812 1.6875 -4.8125 L 1.703125 -4.8125 C 1.796875 -4.988281 1.894531 -5.144531 2 -5.28125 C 2.113281 -5.414062 2.242188 -5.53125 2.390625 -5.625 C 2.535156 -5.71875 2.703125 -5.789062 2.890625 -5.84375 C 3.085938 -5.894531 3.3125 -5.921875 3.5625 -5.921875 C 3.882812 -5.921875 4.160156 -5.878906 4.390625 -5.796875 C 4.628906 -5.722656 4.820312 -5.601562 4.96875 -5.4375 C 5.113281 -5.269531 5.222656 -5.054688 5.296875 -4.796875 C 5.367188 -4.535156 5.40625 -4.226562 5.40625 -3.875 L 5.40625 0 Z M 4.4375 0 \"/>\n",
       "</g>\n",
       "<g id=\"glyph-1-9\">\n",
       "<path d=\"M 1.484375 -2.9375 C 1.484375 -2.601562 1.503906 -2.296875 1.546875 -2.015625 C 1.597656 -1.734375 1.679688 -1.488281 1.796875 -1.28125 C 1.910156 -1.082031 2.0625 -0.925781 2.25 -0.8125 C 2.4375 -0.707031 2.664062 -0.65625 2.9375 -0.65625 C 3.28125 -0.65625 3.566406 -0.75 3.796875 -0.9375 C 4.035156 -1.125 4.179688 -1.410156 4.234375 -1.796875 L 5.203125 -1.734375 C 5.171875 -1.492188 5.101562 -1.257812 5 -1.03125 C 4.894531 -0.8125 4.75 -0.617188 4.5625 -0.453125 C 4.375 -0.285156 4.144531 -0.148438 3.875 -0.046875 C 3.613281 0.0546875 3.3125 0.109375 2.96875 0.109375 C 2.507812 0.109375 2.117188 0.03125 1.796875 -0.125 C 1.484375 -0.28125 1.226562 -0.492188 1.03125 -0.765625 C 0.832031 -1.035156 0.6875 -1.351562 0.59375 -1.71875 C 0.507812 -2.082031 0.46875 -2.476562 0.46875 -2.90625 C 0.46875 -3.300781 0.5 -3.644531 0.5625 -3.9375 C 0.625 -4.238281 0.710938 -4.5 0.828125 -4.71875 C 0.953125 -4.945312 1.09375 -5.132812 1.25 -5.28125 C 1.40625 -5.4375 1.570312 -5.5625 1.75 -5.65625 C 1.9375 -5.75 2.128906 -5.816406 2.328125 -5.859375 C 2.535156 -5.898438 2.742188 -5.921875 2.953125 -5.921875 C 3.285156 -5.921875 3.578125 -5.875 3.828125 -5.78125 C 4.085938 -5.695312 4.304688 -5.578125 4.484375 -5.421875 C 4.671875 -5.265625 4.820312 -5.078125 4.9375 -4.859375 C 5.050781 -4.648438 5.128906 -4.425781 5.171875 -4.1875 L 4.1875 -4.109375 C 4.132812 -4.429688 4.003906 -4.6875 3.796875 -4.875 C 3.597656 -5.0625 3.3125 -5.15625 2.9375 -5.15625 C 2.65625 -5.15625 2.421875 -5.109375 2.234375 -5.015625 C 2.054688 -4.929688 1.910156 -4.796875 1.796875 -4.609375 C 1.679688 -4.421875 1.597656 -4.1875 1.546875 -3.90625 C 1.503906 -3.632812 1.484375 -3.3125 1.484375 -2.9375 Z M 1.484375 -2.9375 \"/>\n",
       "</g>\n",
       "<g id=\"glyph-1-10\">\n",
       "<path d=\"M 0.6875 -2.859375 C 0.6875 -3.359375 0.722656 -3.832031 0.796875 -4.28125 C 0.867188 -4.738281 0.984375 -5.175781 1.140625 -5.59375 C 1.304688 -6.007812 1.515625 -6.414062 1.765625 -6.8125 C 2.015625 -7.207031 2.316406 -7.59375 2.671875 -7.96875 L 3.59375 -7.96875 C 3.257812 -7.59375 2.96875 -7.207031 2.71875 -6.8125 C 2.476562 -6.414062 2.28125 -6.003906 2.125 -5.578125 C 1.96875 -5.160156 1.847656 -4.722656 1.765625 -4.265625 C 1.691406 -3.816406 1.65625 -3.34375 1.65625 -2.84375 C 1.65625 -2.34375 1.691406 -1.863281 1.765625 -1.40625 C 1.847656 -0.957031 1.96875 -0.519531 2.125 -0.09375 C 2.28125 0.320312 2.476562 0.726562 2.71875 1.125 C 2.96875 1.519531 3.257812 1.90625 3.59375 2.28125 L 2.671875 2.28125 C 2.316406 1.90625 2.015625 1.519531 1.765625 1.125 C 1.515625 0.726562 1.304688 0.320312 1.140625 -0.09375 C 0.984375 -0.507812 0.867188 -0.941406 0.796875 -1.390625 C 0.722656 -1.847656 0.6875 -2.332031 0.6875 -2.84375 Z M 0.6875 -2.859375 \"/>\n",
       "</g>\n",
       "<g id=\"glyph-1-11\">\n",
       "<path d=\"M 1.6875 -5.8125 L 1.6875 -2.125 C 1.6875 -1.84375 1.707031 -1.609375 1.75 -1.421875 C 1.789062 -1.234375 1.859375 -1.078125 1.953125 -0.953125 C 2.046875 -0.835938 2.164062 -0.753906 2.3125 -0.703125 C 2.46875 -0.660156 2.660156 -0.640625 2.890625 -0.640625 C 3.117188 -0.640625 3.320312 -0.675781 3.5 -0.75 C 3.6875 -0.832031 3.84375 -0.953125 3.96875 -1.109375 C 4.101562 -1.265625 4.207031 -1.453125 4.28125 -1.671875 C 4.351562 -1.898438 4.390625 -2.15625 4.390625 -2.4375 L 4.390625 -5.8125 L 5.359375 -5.8125 L 5.359375 -1.234375 C 5.359375 -1.117188 5.359375 -0.992188 5.359375 -0.859375 C 5.359375 -0.722656 5.359375 -0.59375 5.359375 -0.46875 C 5.367188 -0.351562 5.375 -0.25 5.375 -0.15625 C 5.375 -0.0703125 5.378906 -0.0195312 5.390625 0 L 4.46875 0 C 4.46875 -0.0195312 4.460938 -0.0664062 4.453125 -0.140625 C 4.453125 -0.222656 4.445312 -0.3125 4.4375 -0.40625 C 4.4375 -0.507812 4.4375 -0.613281 4.4375 -0.71875 C 4.4375 -0.832031 4.4375 -0.925781 4.4375 -1 L 4.421875 -1 C 4.328125 -0.820312 4.222656 -0.664062 4.109375 -0.53125 C 3.992188 -0.394531 3.863281 -0.28125 3.71875 -0.1875 C 3.570312 -0.09375 3.40625 -0.0195312 3.21875 0.03125 C 3.03125 0.0820312 2.8125 0.109375 2.5625 0.109375 C 2.238281 0.109375 1.957031 0.0703125 1.71875 0 C 1.488281 -0.0820312 1.296875 -0.207031 1.140625 -0.375 C 0.992188 -0.539062 0.882812 -0.75 0.8125 -1 C 0.75 -1.257812 0.71875 -1.570312 0.71875 -1.9375 L 0.71875 -5.8125 Z M 1.6875 -5.8125 \"/>\n",
       "</g>\n",
       "<g id=\"glyph-1-12\">\n",
       "<path d=\"M 2.96875 -0.046875 C 2.820312 -0.00390625 2.671875 0.0234375 2.515625 0.046875 C 2.367188 0.078125 2.195312 0.09375 2 0.09375 C 1.226562 0.09375 0.84375 -0.347656 0.84375 -1.234375 L 0.84375 -5.109375 L 0.171875 -5.109375 L 0.171875 -5.8125 L 0.875 -5.8125 L 1.15625 -7.109375 L 1.8125 -7.109375 L 1.8125 -5.8125 L 2.875 -5.8125 L 2.875 -5.109375 L 1.8125 -5.109375 L 1.8125 -1.4375 C 1.8125 -1.15625 1.851562 -0.957031 1.9375 -0.84375 C 2.03125 -0.738281 2.191406 -0.6875 2.421875 -0.6875 C 2.515625 -0.6875 2.601562 -0.691406 2.6875 -0.703125 C 2.769531 -0.710938 2.863281 -0.726562 2.96875 -0.75 Z M 2.96875 -0.046875 \"/>\n",
       "</g>\n",
       "<g id=\"glyph-1-13\">\n",
       "<path d=\"M 5.109375 -1.609375 C 5.109375 -1.335938 5.050781 -1.09375 4.9375 -0.875 C 4.832031 -0.664062 4.679688 -0.488281 4.484375 -0.34375 C 4.285156 -0.195312 4.039062 -0.0820312 3.75 0 C 3.457031 0.0703125 3.125 0.109375 2.75 0.109375 C 2.40625 0.109375 2.097656 0.0820312 1.828125 0.03125 C 1.554688 -0.0195312 1.316406 -0.101562 1.109375 -0.21875 C 0.910156 -0.332031 0.742188 -0.484375 0.609375 -0.671875 C 0.472656 -0.859375 0.375 -1.085938 0.3125 -1.359375 L 1.15625 -1.53125 C 1.238281 -1.21875 1.410156 -0.988281 1.671875 -0.84375 C 1.929688 -0.695312 2.289062 -0.625 2.75 -0.625 C 2.957031 -0.625 3.144531 -0.640625 3.3125 -0.671875 C 3.488281 -0.703125 3.640625 -0.75 3.765625 -0.8125 C 3.890625 -0.882812 3.984375 -0.976562 4.046875 -1.09375 C 4.117188 -1.207031 4.15625 -1.351562 4.15625 -1.53125 C 4.15625 -1.707031 4.113281 -1.847656 4.03125 -1.953125 C 3.957031 -2.066406 3.84375 -2.160156 3.6875 -2.234375 C 3.539062 -2.316406 3.363281 -2.382812 3.15625 -2.4375 C 2.945312 -2.5 2.71875 -2.5625 2.46875 -2.625 C 2.238281 -2.6875 2.007812 -2.753906 1.78125 -2.828125 C 1.550781 -2.898438 1.34375 -3 1.15625 -3.125 C 0.96875 -3.25 0.816406 -3.398438 0.703125 -3.578125 C 0.585938 -3.765625 0.53125 -4 0.53125 -4.28125 C 0.53125 -4.8125 0.71875 -5.210938 1.09375 -5.484375 C 1.476562 -5.765625 2.03125 -5.90625 2.75 -5.90625 C 3.394531 -5.90625 3.90625 -5.789062 4.28125 -5.5625 C 4.65625 -5.332031 4.894531 -4.972656 5 -4.484375 L 4.125 -4.375 C 4.09375 -4.519531 4.035156 -4.644531 3.953125 -4.75 C 3.867188 -4.851562 3.765625 -4.9375 3.640625 -5 C 3.515625 -5.0625 3.375 -5.101562 3.21875 -5.125 C 3.070312 -5.15625 2.914062 -5.171875 2.75 -5.171875 C 2.3125 -5.171875 1.988281 -5.101562 1.78125 -4.96875 C 1.582031 -4.84375 1.484375 -4.644531 1.484375 -4.375 C 1.484375 -4.21875 1.519531 -4.085938 1.59375 -3.984375 C 1.664062 -3.878906 1.769531 -3.789062 1.90625 -3.71875 C 2.050781 -3.65625 2.21875 -3.597656 2.40625 -3.546875 C 2.601562 -3.492188 2.816406 -3.4375 3.046875 -3.375 C 3.203125 -3.332031 3.359375 -3.289062 3.515625 -3.25 C 3.679688 -3.207031 3.835938 -3.15625 3.984375 -3.09375 C 4.140625 -3.03125 4.285156 -2.957031 4.421875 -2.875 C 4.554688 -2.789062 4.671875 -2.6875 4.765625 -2.5625 C 4.867188 -2.445312 4.953125 -2.3125 5.015625 -2.15625 C 5.078125 -2 5.109375 -1.816406 5.109375 -1.609375 Z M 5.109375 -1.609375 \"/>\n",
       "</g>\n",
       "<g id=\"glyph-1-14\">\n",
       "<path d=\"M 2.984375 -2.84375 C 2.984375 -2.332031 2.941406 -1.847656 2.859375 -1.390625 C 2.785156 -0.941406 2.664062 -0.507812 2.5 -0.09375 C 2.34375 0.320312 2.140625 0.726562 1.890625 1.125 C 1.640625 1.519531 1.34375 1.90625 1 2.28125 L 0.0625 2.28125 C 0.394531 1.90625 0.6875 1.519531 0.9375 1.125 C 1.1875 0.726562 1.390625 0.320312 1.546875 -0.09375 C 1.703125 -0.519531 1.816406 -0.957031 1.890625 -1.40625 C 1.972656 -1.863281 2.015625 -2.34375 2.015625 -2.84375 C 2.015625 -3.34375 1.972656 -3.816406 1.890625 -4.265625 C 1.816406 -4.722656 1.703125 -5.160156 1.546875 -5.578125 C 1.390625 -6.003906 1.1875 -6.414062 0.9375 -6.8125 C 0.6875 -7.207031 0.394531 -7.59375 0.0625 -7.96875 L 1 -7.96875 C 1.34375 -7.59375 1.640625 -7.207031 1.890625 -6.8125 C 2.140625 -6.414062 2.34375 -6.007812 2.5 -5.59375 C 2.664062 -5.175781 2.785156 -4.738281 2.859375 -4.28125 C 2.941406 -3.832031 2.984375 -3.359375 2.984375 -2.859375 Z M 2.984375 -2.84375 \"/>\n",
       "</g>\n",
       "<g id=\"glyph-2-0\">\n",
       "<path d=\"M -6.84375 -4.25 C -6.84375 -3.820312 -6.769531 -3.441406 -6.625 -3.109375 C -6.476562 -2.773438 -6.273438 -2.492188 -6.015625 -2.265625 C -5.753906 -2.046875 -5.4375 -1.878906 -5.0625 -1.765625 C -4.6875 -1.648438 -4.269531 -1.59375 -3.8125 -1.59375 C -3.363281 -1.59375 -2.945312 -1.65625 -2.5625 -1.78125 C -2.1875 -1.90625 -1.863281 -2.082031 -1.59375 -2.3125 C -1.320312 -2.550781 -1.109375 -2.835938 -0.953125 -3.171875 C -0.804688 -3.503906 -0.734375 -3.878906 -0.734375 -4.296875 C -0.734375 -4.585938 -0.769531 -4.851562 -0.84375 -5.09375 C -0.925781 -5.34375 -1.035156 -5.5625 -1.171875 -5.75 C -1.316406 -5.945312 -1.484375 -6.125 -1.671875 -6.28125 C -1.859375 -6.4375 -2.070312 -6.570312 -2.3125 -6.6875 L -1.890625 -7.53125 C -1.609375 -7.394531 -1.34375 -7.222656 -1.09375 -7.015625 C -0.851562 -6.816406 -0.644531 -6.582031 -0.46875 -6.3125 C -0.289062 -6.039062 -0.148438 -5.734375 -0.046875 -5.390625 C 0.0546875 -5.046875 0.109375 -4.664062 0.109375 -4.25 C 0.109375 -3.632812 0.0078125 -3.097656 -0.1875 -2.640625 C -0.382812 -2.179688 -0.65625 -1.796875 -1 -1.484375 C -1.351562 -1.171875 -1.769531 -0.9375 -2.25 -0.78125 C -2.726562 -0.632812 -3.25 -0.5625 -3.8125 -0.5625 C -4.40625 -0.5625 -4.941406 -0.640625 -5.421875 -0.796875 C -5.898438 -0.960938 -6.304688 -1.203125 -6.640625 -1.515625 C -6.972656 -1.828125 -7.226562 -2.210938 -7.40625 -2.671875 C -7.59375 -3.128906 -7.6875 -3.65625 -7.6875 -4.25 C -7.6875 -5.050781 -7.523438 -5.722656 -7.203125 -6.265625 C -6.890625 -6.804688 -6.425781 -7.203125 -5.8125 -7.453125 L -5.484375 -6.484375 C -5.660156 -6.410156 -5.828125 -6.3125 -5.984375 -6.1875 C -6.148438 -6.070312 -6.296875 -5.921875 -6.421875 -5.734375 C -6.554688 -5.554688 -6.660156 -5.34375 -6.734375 -5.09375 C -6.804688 -4.851562 -6.84375 -4.570312 -6.84375 -4.25 Z M -6.84375 -4.25 \"/>\n",
       "</g>\n",
       "<g id=\"glyph-2-1\">\n",
       "<path d=\"M -2.90625 -5.65625 C -1.894531 -5.65625 -1.140625 -5.429688 -0.640625 -4.984375 C -0.140625 -4.535156 0.109375 -3.882812 0.109375 -3.03125 C 0.109375 -2.625 0.046875 -2.257812 -0.078125 -1.9375 C -0.203125 -1.625 -0.390625 -1.359375 -0.640625 -1.140625 C -0.890625 -0.921875 -1.203125 -0.753906 -1.578125 -0.640625 C -1.953125 -0.523438 -2.394531 -0.46875 -2.90625 -0.46875 C -4.914062 -0.46875 -5.921875 -1.332031 -5.921875 -3.0625 C -5.921875 -3.519531 -5.859375 -3.910156 -5.734375 -4.234375 C -5.609375 -4.566406 -5.421875 -4.835938 -5.171875 -5.046875 C -4.921875 -5.253906 -4.601562 -5.40625 -4.21875 -5.5 C -3.84375 -5.601562 -3.40625 -5.65625 -2.90625 -5.65625 Z M -2.90625 -4.640625 C -3.363281 -4.640625 -3.738281 -4.601562 -4.03125 -4.53125 C -4.320312 -4.46875 -4.554688 -4.367188 -4.734375 -4.234375 C -4.910156 -4.097656 -5.03125 -3.929688 -5.09375 -3.734375 C -5.164062 -3.546875 -5.203125 -3.328125 -5.203125 -3.078125 C -5.203125 -2.835938 -5.164062 -2.613281 -5.09375 -2.40625 C -5.019531 -2.207031 -4.894531 -2.039062 -4.71875 -1.90625 C -4.539062 -1.769531 -4.304688 -1.664062 -4.015625 -1.59375 C -3.722656 -1.519531 -3.351562 -1.484375 -2.90625 -1.484375 C -2.457031 -1.484375 -2.082031 -1.519531 -1.78125 -1.59375 C -1.488281 -1.675781 -1.253906 -1.785156 -1.078125 -1.921875 C -0.910156 -2.054688 -0.789062 -2.21875 -0.71875 -2.40625 C -0.644531 -2.59375 -0.609375 -2.800781 -0.609375 -3.03125 C -0.609375 -3.269531 -0.640625 -3.488281 -0.703125 -3.6875 C -0.773438 -3.894531 -0.898438 -4.066406 -1.078125 -4.203125 C -1.253906 -4.347656 -1.488281 -4.457031 -1.78125 -4.53125 C -2.082031 -4.601562 -2.457031 -4.640625 -2.90625 -4.640625 Z M -2.90625 -4.640625 \"/>\n",
       "</g>\n",
       "<g id=\"glyph-2-2\">\n",
       "<path d=\"M -5.8125 -1.6875 L -2.125 -1.6875 C -1.84375 -1.6875 -1.609375 -1.707031 -1.421875 -1.75 C -1.234375 -1.789062 -1.078125 -1.859375 -0.953125 -1.953125 C -0.835938 -2.046875 -0.753906 -2.164062 -0.703125 -2.3125 C -0.660156 -2.46875 -0.640625 -2.660156 -0.640625 -2.890625 C -0.640625 -3.117188 -0.675781 -3.320312 -0.75 -3.5 C -0.832031 -3.6875 -0.953125 -3.84375 -1.109375 -3.96875 C -1.265625 -4.101562 -1.453125 -4.207031 -1.671875 -4.28125 C -1.898438 -4.351562 -2.15625 -4.390625 -2.4375 -4.390625 L -5.8125 -4.390625 L -5.8125 -5.359375 L -1.234375 -5.359375 C -1.117188 -5.359375 -0.992188 -5.359375 -0.859375 -5.359375 C -0.722656 -5.359375 -0.59375 -5.359375 -0.46875 -5.359375 C -0.351562 -5.367188 -0.25 -5.375 -0.15625 -5.375 C -0.0703125 -5.375 -0.0195312 -5.378906 0 -5.390625 L 0 -4.46875 C -0.0195312 -4.46875 -0.0664062 -4.460938 -0.140625 -4.453125 C -0.222656 -4.453125 -0.3125 -4.445312 -0.40625 -4.4375 C -0.507812 -4.4375 -0.613281 -4.4375 -0.71875 -4.4375 C -0.832031 -4.4375 -0.925781 -4.4375 -1 -4.4375 L -1 -4.421875 C -0.820312 -4.328125 -0.664062 -4.222656 -0.53125 -4.109375 C -0.394531 -3.992188 -0.28125 -3.863281 -0.1875 -3.71875 C -0.09375 -3.570312 -0.0195312 -3.40625 0.03125 -3.21875 C 0.0820312 -3.03125 0.109375 -2.8125 0.109375 -2.5625 C 0.109375 -2.238281 0.0703125 -1.957031 0 -1.71875 C -0.0820312 -1.488281 -0.207031 -1.296875 -0.375 -1.140625 C -0.539062 -0.992188 -0.75 -0.882812 -1 -0.8125 C -1.257812 -0.75 -1.570312 -0.71875 -1.9375 -0.71875 L -5.8125 -0.71875 Z M -5.8125 -1.6875 \"/>\n",
       "</g>\n",
       "<g id=\"glyph-2-3\">\n",
       "<path d=\"M 0 -4.4375 L -3.6875 -4.4375 C -3.96875 -4.4375 -4.203125 -4.414062 -4.390625 -4.375 C -4.578125 -4.332031 -4.726562 -4.265625 -4.84375 -4.171875 C -4.96875 -4.078125 -5.050781 -3.953125 -5.09375 -3.796875 C -5.144531 -3.648438 -5.171875 -3.460938 -5.171875 -3.234375 C -5.171875 -3.003906 -5.128906 -2.796875 -5.046875 -2.609375 C -4.972656 -2.429688 -4.859375 -2.273438 -4.703125 -2.140625 C -4.546875 -2.003906 -4.351562 -1.898438 -4.125 -1.828125 C -3.90625 -1.765625 -3.65625 -1.734375 -3.375 -1.734375 L 0 -1.734375 L 0 -0.765625 L -4.578125 -0.765625 C -4.691406 -0.765625 -4.816406 -0.757812 -4.953125 -0.75 C -5.085938 -0.75 -5.210938 -0.75 -5.328125 -0.75 C -5.453125 -0.75 -5.554688 -0.742188 -5.640625 -0.734375 C -5.734375 -0.734375 -5.789062 -0.734375 -5.8125 -0.734375 L -5.8125 -1.640625 C -5.789062 -1.648438 -5.738281 -1.65625 -5.65625 -1.65625 C -5.582031 -1.65625 -5.492188 -1.65625 -5.390625 -1.65625 C -5.296875 -1.664062 -5.191406 -1.671875 -5.078125 -1.671875 C -4.972656 -1.679688 -4.882812 -1.6875 -4.8125 -1.6875 L -4.8125 -1.703125 C -4.988281 -1.796875 -5.144531 -1.894531 -5.28125 -2 C -5.414062 -2.113281 -5.53125 -2.242188 -5.625 -2.390625 C -5.71875 -2.535156 -5.789062 -2.703125 -5.84375 -2.890625 C -5.894531 -3.085938 -5.921875 -3.3125 -5.921875 -3.5625 C -5.921875 -3.882812 -5.878906 -4.160156 -5.796875 -4.390625 C -5.722656 -4.628906 -5.601562 -4.820312 -5.4375 -4.96875 C -5.269531 -5.113281 -5.054688 -5.222656 -4.796875 -5.296875 C -4.535156 -5.367188 -4.226562 -5.40625 -3.875 -5.40625 L 0 -5.40625 Z M 0 -4.4375 \"/>\n",
       "</g>\n",
       "<g id=\"glyph-2-4\">\n",
       "<path d=\"M -0.046875 -2.96875 C -0.00390625 -2.820312 0.0234375 -2.671875 0.046875 -2.515625 C 0.078125 -2.367188 0.09375 -2.195312 0.09375 -2 C 0.09375 -1.226562 -0.347656 -0.84375 -1.234375 -0.84375 L -5.109375 -0.84375 L -5.109375 -0.171875 L -5.8125 -0.171875 L -5.8125 -0.875 L -7.109375 -1.15625 L -7.109375 -1.8125 L -5.8125 -1.8125 L -5.8125 -2.875 L -5.109375 -2.875 L -5.109375 -1.8125 L -1.4375 -1.8125 C -1.15625 -1.8125 -0.957031 -1.851562 -0.84375 -1.9375 C -0.738281 -2.03125 -0.6875 -2.191406 -0.6875 -2.421875 C -0.6875 -2.515625 -0.691406 -2.601562 -0.703125 -2.6875 C -0.710938 -2.769531 -0.726562 -2.863281 -0.75 -2.96875 Z M -0.046875 -2.96875 \"/>\n",
       "</g>\n",
       "<g id=\"glyph-3-0\">\n",
       "<path d=\"M 8.90625 -4.640625 C 8.90625 -3.878906 8.789062 -3.207031 8.5625 -2.625 C 8.332031 -2.050781 8.019531 -1.566406 7.625 -1.171875 C 7.226562 -0.785156 6.757812 -0.492188 6.21875 -0.296875 C 5.6875 -0.0976562 5.109375 0 4.484375 0 L 1.078125 0 L 1.078125 -9.078125 L 4.09375 -9.078125 C 4.789062 -9.078125 5.429688 -8.988281 6.015625 -8.8125 C 6.609375 -8.644531 7.117188 -8.378906 7.546875 -8.015625 C 7.972656 -7.648438 8.304688 -7.1875 8.546875 -6.625 C 8.785156 -6.070312 8.90625 -5.410156 8.90625 -4.640625 Z M 7.671875 -4.640625 C 7.671875 -5.253906 7.582031 -5.773438 7.40625 -6.203125 C 7.226562 -6.640625 6.976562 -7 6.65625 -7.28125 C 6.34375 -7.5625 5.960938 -7.765625 5.515625 -7.890625 C 5.078125 -8.023438 4.59375 -8.09375 4.0625 -8.09375 L 2.3125 -8.09375 L 2.3125 -0.984375 L 4.34375 -0.984375 C 4.8125 -0.984375 5.25 -1.0625 5.65625 -1.21875 C 6.0625 -1.375 6.410156 -1.601562 6.703125 -1.90625 C 7.003906 -2.207031 7.238281 -2.585938 7.40625 -3.046875 C 7.582031 -3.503906 7.671875 -4.035156 7.671875 -4.640625 Z M 7.671875 -4.640625 \"/>\n",
       "</g>\n",
       "<g id=\"glyph-3-1\">\n",
       "<path d=\"M 0.890625 -8.453125 L 0.890625 -9.5625 L 2.046875 -9.5625 L 2.046875 -8.453125 Z M 0.890625 0 L 0.890625 -6.96875 L 2.046875 -6.96875 L 2.046875 0 Z M 0.890625 0 \"/>\n",
       "</g>\n",
       "<g id=\"glyph-3-2\">\n",
       "<path d=\"M 6.125 -1.921875 C 6.125 -1.597656 6.0625 -1.304688 5.9375 -1.046875 C 5.8125 -0.796875 5.625 -0.582031 5.375 -0.40625 C 5.132812 -0.226562 4.835938 -0.09375 4.484375 0 C 4.140625 0.0820312 3.742188 0.125 3.296875 0.125 C 2.890625 0.125 2.523438 0.09375 2.203125 0.03125 C 1.878906 -0.03125 1.59375 -0.128906 1.34375 -0.265625 C 1.101562 -0.398438 0.898438 -0.578125 0.734375 -0.796875 C 0.566406 -1.023438 0.445312 -1.304688 0.375 -1.640625 L 1.390625 -1.84375 C 1.492188 -1.46875 1.695312 -1.191406 2 -1.015625 C 2.3125 -0.835938 2.742188 -0.75 3.296875 -0.75 C 3.546875 -0.75 3.773438 -0.765625 3.984375 -0.796875 C 4.191406 -0.835938 4.367188 -0.898438 4.515625 -0.984375 C 4.671875 -1.066406 4.789062 -1.175781 4.875 -1.3125 C 4.957031 -1.457031 5 -1.632812 5 -1.84375 C 5 -2.050781 4.945312 -2.222656 4.84375 -2.359375 C 4.75 -2.492188 4.613281 -2.601562 4.4375 -2.6875 C 4.257812 -2.78125 4.046875 -2.859375 3.796875 -2.921875 C 3.546875 -2.992188 3.269531 -3.070312 2.96875 -3.15625 C 2.6875 -3.226562 2.40625 -3.304688 2.125 -3.390625 C 1.851562 -3.484375 1.609375 -3.601562 1.390625 -3.75 C 1.171875 -3.90625 0.988281 -4.09375 0.84375 -4.3125 C 0.707031 -4.53125 0.640625 -4.800781 0.640625 -5.125 C 0.640625 -5.757812 0.863281 -6.242188 1.3125 -6.578125 C 1.769531 -6.910156 2.4375 -7.078125 3.3125 -7.078125 C 4.082031 -7.078125 4.691406 -6.941406 5.140625 -6.671875 C 5.597656 -6.398438 5.882812 -5.96875 6 -5.375 L 4.953125 -5.25 C 4.921875 -5.425781 4.851562 -5.578125 4.75 -5.703125 C 4.644531 -5.828125 4.519531 -5.925781 4.375 -6 C 4.226562 -6.070312 4.0625 -6.125 3.875 -6.15625 C 3.695312 -6.1875 3.507812 -6.203125 3.3125 -6.203125 C 2.78125 -6.203125 2.390625 -6.125 2.140625 -5.96875 C 1.890625 -5.8125 1.765625 -5.570312 1.765625 -5.25 C 1.765625 -5.0625 1.8125 -4.90625 1.90625 -4.78125 C 2 -4.65625 2.128906 -4.550781 2.296875 -4.46875 C 2.460938 -4.382812 2.660156 -4.3125 2.890625 -4.25 C 3.128906 -4.1875 3.382812 -4.125 3.65625 -4.0625 C 3.84375 -4.007812 4.03125 -3.957031 4.21875 -3.90625 C 4.414062 -3.851562 4.601562 -3.785156 4.78125 -3.703125 C 4.96875 -3.628906 5.140625 -3.539062 5.296875 -3.4375 C 5.460938 -3.34375 5.601562 -3.222656 5.71875 -3.078125 C 5.84375 -2.941406 5.941406 -2.773438 6.015625 -2.578125 C 6.085938 -2.390625 6.125 -2.171875 6.125 -1.921875 Z M 6.125 -1.921875 \"/>\n",
       "</g>\n",
       "<g id=\"glyph-3-3\">\n",
       "<path d=\"M 3.578125 -0.046875 C 3.398438 -0.00390625 3.21875 0.03125 3.03125 0.0625 C 2.851562 0.09375 2.640625 0.109375 2.390625 0.109375 C 1.460938 0.109375 1 -0.414062 1 -1.46875 L 1 -6.125 L 0.203125 -6.125 L 0.203125 -6.96875 L 1.046875 -6.96875 L 1.390625 -8.53125 L 2.171875 -8.53125 L 2.171875 -6.96875 L 3.453125 -6.96875 L 3.453125 -6.125 L 2.171875 -6.125 L 2.171875 -1.734375 C 2.171875 -1.390625 2.222656 -1.148438 2.328125 -1.015625 C 2.441406 -0.878906 2.632812 -0.8125 2.90625 -0.8125 C 3.007812 -0.8125 3.113281 -0.820312 3.21875 -0.84375 C 3.332031 -0.863281 3.453125 -0.882812 3.578125 -0.90625 Z M 3.578125 -0.046875 \"/>\n",
       "</g>\n",
       "<g id=\"glyph-3-4\">\n",
       "<path d=\"M 0.921875 0 L 0.921875 -5.34375 C 0.921875 -5.488281 0.914062 -5.640625 0.90625 -5.796875 C 0.90625 -5.953125 0.898438 -6.097656 0.890625 -6.234375 C 0.890625 -6.378906 0.890625 -6.515625 0.890625 -6.640625 C 0.890625 -6.765625 0.882812 -6.875 0.875 -6.96875 L 1.96875 -6.96875 C 1.976562 -6.875 1.984375 -6.765625 1.984375 -6.640625 C 1.992188 -6.515625 2 -6.382812 2 -6.25 C 2.007812 -6.113281 2.015625 -5.984375 2.015625 -5.859375 C 2.023438 -5.734375 2.03125 -5.628906 2.03125 -5.546875 L 2.046875 -5.546875 C 2.128906 -5.816406 2.21875 -6.046875 2.3125 -6.234375 C 2.40625 -6.429688 2.515625 -6.59375 2.640625 -6.71875 C 2.765625 -6.851562 2.910156 -6.953125 3.078125 -7.015625 C 3.253906 -7.078125 3.460938 -7.109375 3.703125 -7.109375 C 3.796875 -7.109375 3.882812 -7.097656 3.96875 -7.078125 C 4.0625 -7.066406 4.128906 -7.054688 4.171875 -7.046875 L 4.171875 -5.96875 C 4.097656 -6 4.007812 -6.019531 3.90625 -6.03125 C 3.800781 -6.039062 3.6875 -6.046875 3.5625 -6.046875 C 3.289062 -6.046875 3.0625 -5.984375 2.875 -5.859375 C 2.6875 -5.734375 2.535156 -5.566406 2.421875 -5.359375 C 2.304688 -5.148438 2.21875 -4.894531 2.15625 -4.59375 C 2.101562 -4.300781 2.078125 -3.984375 2.078125 -3.640625 L 2.078125 0 Z M 0.921875 0 \"/>\n",
       "</g>\n",
       "<g id=\"glyph-3-5\">\n",
       "<path d=\"M 6.78125 -3.515625 C 6.78125 -1.085938 5.925781 0.125 4.21875 0.125 C 3.695312 0.125 3.257812 0.03125 2.90625 -0.15625 C 2.550781 -0.34375 2.265625 -0.648438 2.046875 -1.078125 L 2.03125 -1.078125 C 2.03125 -0.972656 2.023438 -0.859375 2.015625 -0.734375 C 2.015625 -0.609375 2.007812 -0.492188 2 -0.390625 C 2 -0.296875 1.992188 -0.210938 1.984375 -0.140625 C 1.984375 -0.0664062 1.976562 -0.0195312 1.96875 0 L 0.84375 0 C 0.851562 -0.0390625 0.859375 -0.101562 0.859375 -0.1875 C 0.867188 -0.28125 0.875 -0.390625 0.875 -0.515625 C 0.882812 -0.648438 0.890625 -0.796875 0.890625 -0.953125 C 0.890625 -1.109375 0.890625 -1.269531 0.890625 -1.4375 L 0.890625 -9.5625 L 2.046875 -9.5625 L 2.046875 -6.84375 C 2.046875 -6.707031 2.046875 -6.582031 2.046875 -6.46875 C 2.046875 -6.351562 2.039062 -6.25 2.03125 -6.15625 C 2.03125 -6.050781 2.03125 -5.953125 2.03125 -5.859375 L 2.046875 -5.859375 C 2.265625 -6.304688 2.550781 -6.625 2.90625 -6.8125 C 3.257812 -7.007812 3.695312 -7.109375 4.21875 -7.109375 C 5.101562 -7.109375 5.75 -6.8125 6.15625 -6.21875 C 6.570312 -5.625 6.78125 -4.722656 6.78125 -3.515625 Z M 5.5625 -3.484375 C 5.5625 -3.960938 5.53125 -4.375 5.46875 -4.71875 C 5.414062 -5.0625 5.320312 -5.34375 5.1875 -5.5625 C 5.050781 -5.789062 4.878906 -5.953125 4.671875 -6.046875 C 4.472656 -6.148438 4.222656 -6.203125 3.921875 -6.203125 C 3.617188 -6.203125 3.347656 -6.148438 3.109375 -6.046875 C 2.878906 -5.953125 2.6875 -5.796875 2.53125 -5.578125 C 2.375 -5.359375 2.253906 -5.070312 2.171875 -4.71875 C 2.085938 -4.363281 2.046875 -3.925781 2.046875 -3.40625 C 2.046875 -2.90625 2.085938 -2.484375 2.171875 -2.140625 C 2.253906 -1.804688 2.375 -1.53125 2.53125 -1.3125 C 2.6875 -1.101562 2.878906 -0.953125 3.109375 -0.859375 C 3.347656 -0.773438 3.613281 -0.734375 3.90625 -0.734375 C 4.195312 -0.734375 4.441406 -0.78125 4.640625 -0.875 C 4.847656 -0.976562 5.019531 -1.140625 5.15625 -1.359375 C 5.300781 -1.578125 5.40625 -1.859375 5.46875 -2.203125 C 5.53125 -2.554688 5.5625 -2.984375 5.5625 -3.484375 Z M 5.5625 -3.484375 \"/>\n",
       "</g>\n",
       "<g id=\"glyph-3-6\">\n",
       "<path d=\"M 2.03125 -6.96875 L 2.03125 -2.546875 C 2.03125 -2.210938 2.050781 -1.929688 2.09375 -1.703125 C 2.144531 -1.472656 2.226562 -1.285156 2.34375 -1.140625 C 2.457031 -1.003906 2.601562 -0.90625 2.78125 -0.84375 C 2.96875 -0.789062 3.195312 -0.765625 3.46875 -0.765625 C 3.738281 -0.765625 3.984375 -0.8125 4.203125 -0.90625 C 4.421875 -1.007812 4.609375 -1.148438 4.765625 -1.328125 C 4.929688 -1.515625 5.054688 -1.738281 5.140625 -2 C 5.222656 -2.269531 5.265625 -2.582031 5.265625 -2.9375 L 5.265625 -6.96875 L 6.421875 -6.96875 L 6.421875 -1.484375 C 6.421875 -1.335938 6.421875 -1.179688 6.421875 -1.015625 C 6.429688 -0.859375 6.4375 -0.707031 6.4375 -0.5625 C 6.445312 -0.425781 6.453125 -0.304688 6.453125 -0.203125 C 6.453125 -0.0976562 6.457031 -0.03125 6.46875 0 L 5.375 0 C 5.363281 -0.0195312 5.351562 -0.078125 5.34375 -0.171875 C 5.34375 -0.265625 5.335938 -0.375 5.328125 -0.5 C 5.328125 -0.625 5.320312 -0.75 5.3125 -0.875 C 5.3125 -1 5.3125 -1.101562 5.3125 -1.1875 L 5.296875 -1.1875 C 5.179688 -0.988281 5.054688 -0.804688 4.921875 -0.640625 C 4.796875 -0.484375 4.644531 -0.347656 4.46875 -0.234375 C 4.289062 -0.117188 4.085938 -0.03125 3.859375 0.03125 C 3.628906 0.09375 3.363281 0.125 3.0625 0.125 C 2.675781 0.125 2.34375 0.078125 2.0625 -0.015625 C 1.789062 -0.109375 1.5625 -0.253906 1.375 -0.453125 C 1.195312 -0.648438 1.066406 -0.898438 0.984375 -1.203125 C 0.898438 -1.515625 0.859375 -1.890625 0.859375 -2.328125 L 0.859375 -6.96875 Z M 2.03125 -6.96875 \"/>\n",
       "</g>\n",
       "<g id=\"glyph-3-7\">\n",
       "<path d=\"M 6.78125 -3.5 C 6.78125 -2.269531 6.507812 -1.359375 5.96875 -0.765625 C 5.4375 -0.171875 4.660156 0.125 3.640625 0.125 C 3.148438 0.125 2.710938 0.0507812 2.328125 -0.09375 C 1.953125 -0.238281 1.628906 -0.460938 1.359375 -0.765625 C 1.097656 -1.066406 0.894531 -1.441406 0.75 -1.890625 C 0.613281 -2.347656 0.546875 -2.882812 0.546875 -3.5 C 0.546875 -5.90625 1.59375 -7.109375 3.6875 -7.109375 C 4.226562 -7.109375 4.691406 -7.03125 5.078125 -6.875 C 5.472656 -6.726562 5.796875 -6.503906 6.046875 -6.203125 C 6.296875 -5.898438 6.476562 -5.519531 6.59375 -5.0625 C 6.71875 -4.613281 6.78125 -4.09375 6.78125 -3.5 Z M 5.5625 -3.5 C 5.5625 -4.039062 5.519531 -4.484375 5.4375 -4.828125 C 5.351562 -5.179688 5.226562 -5.460938 5.0625 -5.671875 C 4.90625 -5.890625 4.710938 -6.039062 4.484375 -6.125 C 4.253906 -6.207031 3.992188 -6.25 3.703125 -6.25 C 3.398438 -6.25 3.128906 -6.203125 2.890625 -6.109375 C 2.660156 -6.023438 2.457031 -5.875 2.28125 -5.65625 C 2.113281 -5.445312 1.984375 -5.164062 1.890625 -4.8125 C 1.804688 -4.457031 1.765625 -4.019531 1.765625 -3.5 C 1.765625 -2.957031 1.8125 -2.507812 1.90625 -2.15625 C 2.007812 -1.800781 2.140625 -1.515625 2.296875 -1.296875 C 2.460938 -1.085938 2.660156 -0.941406 2.890625 -0.859375 C 3.117188 -0.773438 3.363281 -0.734375 3.625 -0.734375 C 3.925781 -0.734375 4.195312 -0.773438 4.4375 -0.859375 C 4.675781 -0.941406 4.878906 -1.085938 5.046875 -1.296875 C 5.210938 -1.503906 5.335938 -1.785156 5.421875 -2.140625 C 5.515625 -2.503906 5.5625 -2.957031 5.5625 -3.5 Z M 5.5625 -3.5 \"/>\n",
       "</g>\n",
       "<g id=\"glyph-3-8\">\n",
       "<path d=\"M 5.3125 0 L 5.3125 -4.421875 C 5.3125 -4.765625 5.285156 -5.046875 5.234375 -5.265625 C 5.191406 -5.492188 5.113281 -5.675781 5 -5.8125 C 4.882812 -5.957031 4.734375 -6.054688 4.546875 -6.109375 C 4.367188 -6.171875 4.144531 -6.203125 3.875 -6.203125 C 3.601562 -6.203125 3.351562 -6.15625 3.125 -6.0625 C 2.90625 -5.96875 2.71875 -5.828125 2.5625 -5.640625 C 2.40625 -5.460938 2.285156 -5.238281 2.203125 -4.96875 C 2.117188 -4.695312 2.078125 -4.390625 2.078125 -4.046875 L 2.078125 0 L 0.921875 0 L 0.921875 -5.484375 C 0.921875 -5.628906 0.914062 -5.78125 0.90625 -5.9375 C 0.90625 -6.101562 0.898438 -6.257812 0.890625 -6.40625 C 0.890625 -6.550781 0.890625 -6.675781 0.890625 -6.78125 C 0.890625 -6.882812 0.882812 -6.945312 0.875 -6.96875 L 1.96875 -6.96875 C 1.976562 -6.945312 1.984375 -6.890625 1.984375 -6.796875 C 1.984375 -6.703125 1.988281 -6.59375 2 -6.46875 C 2.007812 -6.351562 2.015625 -6.226562 2.015625 -6.09375 C 2.023438 -5.96875 2.03125 -5.863281 2.03125 -5.78125 L 2.046875 -5.78125 C 2.160156 -5.976562 2.28125 -6.160156 2.40625 -6.328125 C 2.539062 -6.492188 2.695312 -6.632812 2.875 -6.75 C 3.050781 -6.863281 3.253906 -6.953125 3.484375 -7.015625 C 3.710938 -7.078125 3.976562 -7.109375 4.28125 -7.109375 C 4.664062 -7.109375 4.992188 -7.0625 5.265625 -6.96875 C 5.546875 -6.875 5.773438 -6.726562 5.953125 -6.53125 C 6.140625 -6.332031 6.273438 -6.078125 6.359375 -5.765625 C 6.441406 -5.453125 6.484375 -5.078125 6.484375 -4.640625 L 6.484375 0 Z M 5.3125 0 \"/>\n",
       "</g>\n",
       "<g id=\"glyph-3-9\">\n",
       "</g>\n",
       "<g id=\"glyph-3-10\">\n",
       "<path d=\"M 2.328125 -6.125 L 2.328125 0 L 1.171875 0 L 1.171875 -6.125 L 0.1875 -6.125 L 0.1875 -6.96875 L 1.171875 -6.96875 L 1.171875 -7.765625 C 1.171875 -8.015625 1.191406 -8.25 1.234375 -8.46875 C 1.285156 -8.6875 1.375 -8.875 1.5 -9.03125 C 1.625 -9.195312 1.796875 -9.320312 2.015625 -9.40625 C 2.234375 -9.5 2.519531 -9.546875 2.875 -9.546875 C 3.007812 -9.546875 3.148438 -9.539062 3.296875 -9.53125 C 3.441406 -9.519531 3.570312 -9.503906 3.6875 -9.484375 L 3.6875 -8.59375 C 3.613281 -8.601562 3.523438 -8.613281 3.421875 -8.625 C 3.328125 -8.632812 3.242188 -8.640625 3.171875 -8.640625 C 2.992188 -8.640625 2.847656 -8.613281 2.734375 -8.5625 C 2.628906 -8.519531 2.546875 -8.453125 2.484375 -8.359375 C 2.421875 -8.273438 2.378906 -8.171875 2.359375 -8.046875 C 2.335938 -7.921875 2.328125 -7.769531 2.328125 -7.59375 L 2.328125 -6.96875 L 3.6875 -6.96875 L 3.6875 -6.125 Z M 2.328125 -6.125 \"/>\n",
       "</g>\n",
       "<g id=\"glyph-3-11\">\n",
       "<path d=\"M 8.203125 -2.515625 C 8.203125 -2.128906 8.125 -1.773438 7.96875 -1.453125 C 7.820312 -1.128906 7.59375 -0.847656 7.28125 -0.609375 C 6.976562 -0.378906 6.59375 -0.195312 6.125 -0.0625 C 5.65625 0.0625 5.097656 0.125 4.453125 0.125 C 3.316406 0.125 2.429688 -0.0703125 1.796875 -0.46875 C 1.171875 -0.863281 0.769531 -1.429688 0.59375 -2.171875 L 1.796875 -2.421875 C 1.847656 -2.179688 1.9375 -1.960938 2.0625 -1.765625 C 2.1875 -1.578125 2.351562 -1.410156 2.5625 -1.265625 C 2.78125 -1.128906 3.046875 -1.019531 3.359375 -0.9375 C 3.671875 -0.863281 4.050781 -0.828125 4.5 -0.828125 C 4.863281 -0.828125 5.195312 -0.859375 5.5 -0.921875 C 5.800781 -0.984375 6.0625 -1.078125 6.28125 -1.203125 C 6.5 -1.335938 6.671875 -1.503906 6.796875 -1.703125 C 6.921875 -1.910156 6.984375 -2.15625 6.984375 -2.4375 C 6.984375 -2.738281 6.914062 -2.976562 6.78125 -3.15625 C 6.644531 -3.34375 6.453125 -3.492188 6.203125 -3.609375 C 5.960938 -3.734375 5.671875 -3.835938 5.328125 -3.921875 C 4.992188 -4.003906 4.617188 -4.09375 4.203125 -4.1875 C 3.953125 -4.25 3.695312 -4.3125 3.4375 -4.375 C 3.1875 -4.4375 2.941406 -4.515625 2.703125 -4.609375 C 2.472656 -4.703125 2.253906 -4.8125 2.046875 -4.9375 C 1.835938 -5.0625 1.65625 -5.207031 1.5 -5.375 C 1.351562 -5.550781 1.238281 -5.753906 1.15625 -5.984375 C 1.070312 -6.222656 1.03125 -6.488281 1.03125 -6.78125 C 1.03125 -7.21875 1.113281 -7.585938 1.28125 -7.890625 C 1.457031 -8.203125 1.695312 -8.457031 2 -8.65625 C 2.3125 -8.851562 2.675781 -8.992188 3.09375 -9.078125 C 3.519531 -9.171875 3.976562 -9.21875 4.46875 -9.21875 C 5.03125 -9.21875 5.507812 -9.171875 5.90625 -9.078125 C 6.3125 -8.992188 6.648438 -8.863281 6.921875 -8.6875 C 7.203125 -8.507812 7.425781 -8.289062 7.59375 -8.03125 C 7.757812 -7.769531 7.890625 -7.46875 7.984375 -7.125 L 6.78125 -6.921875 C 6.71875 -7.140625 6.628906 -7.332031 6.515625 -7.5 C 6.398438 -7.675781 6.25 -7.820312 6.0625 -7.9375 C 5.882812 -8.050781 5.660156 -8.140625 5.390625 -8.203125 C 5.128906 -8.265625 4.820312 -8.296875 4.46875 -8.296875 C 4.039062 -8.296875 3.679688 -8.253906 3.390625 -8.171875 C 3.109375 -8.097656 2.878906 -7.992188 2.703125 -7.859375 C 2.535156 -7.734375 2.410156 -7.582031 2.328125 -7.40625 C 2.253906 -7.238281 2.21875 -7.054688 2.21875 -6.859375 C 2.21875 -6.585938 2.285156 -6.363281 2.421875 -6.1875 C 2.554688 -6.007812 2.738281 -5.863281 2.96875 -5.75 C 3.207031 -5.632812 3.476562 -5.535156 3.78125 -5.453125 C 4.082031 -5.378906 4.40625 -5.304688 4.75 -5.234375 C 5.03125 -5.160156 5.3125 -5.09375 5.59375 -5.03125 C 5.875 -4.96875 6.140625 -4.890625 6.390625 -4.796875 C 6.640625 -4.703125 6.875 -4.59375 7.09375 -4.46875 C 7.320312 -4.34375 7.515625 -4.1875 7.671875 -4 C 7.835938 -3.820312 7.96875 -3.609375 8.0625 -3.359375 C 8.15625 -3.117188 8.203125 -2.835938 8.203125 -2.515625 Z M 8.203125 -2.515625 \"/>\n",
       "</g>\n",
       "<g id=\"glyph-3-12\">\n",
       "<path d=\"M 1.78125 -3.25 C 1.78125 -2.875 1.816406 -2.53125 1.890625 -2.21875 C 1.960938 -1.914062 2.078125 -1.65625 2.234375 -1.4375 C 2.390625 -1.21875 2.585938 -1.046875 2.828125 -0.921875 C 3.078125 -0.796875 3.375 -0.734375 3.71875 -0.734375 C 4.226562 -0.734375 4.632812 -0.832031 4.9375 -1.03125 C 5.238281 -1.238281 5.441406 -1.5 5.546875 -1.8125 L 6.5625 -1.515625 C 6.488281 -1.328125 6.382812 -1.132812 6.25 -0.9375 C 6.125 -0.738281 5.953125 -0.5625 5.734375 -0.40625 C 5.515625 -0.25 5.238281 -0.117188 4.90625 -0.015625 C 4.582031 0.078125 4.1875 0.125 3.71875 0.125 C 2.6875 0.125 1.898438 -0.179688 1.359375 -0.796875 C 0.828125 -1.410156 0.5625 -2.320312 0.5625 -3.53125 C 0.5625 -4.1875 0.640625 -4.738281 0.796875 -5.1875 C 0.960938 -5.644531 1.1875 -6.015625 1.46875 -6.296875 C 1.757812 -6.578125 2.09375 -6.78125 2.46875 -6.90625 C 2.84375 -7.039062 3.25 -7.109375 3.6875 -7.109375 C 4.269531 -7.109375 4.753906 -7.007812 5.140625 -6.8125 C 5.535156 -6.625 5.851562 -6.363281 6.09375 -6.03125 C 6.332031 -5.695312 6.5 -5.304688 6.59375 -4.859375 C 6.695312 -4.410156 6.75 -3.921875 6.75 -3.390625 L 6.75 -3.25 Z M 5.5625 -4.125 C 5.488281 -4.863281 5.296875 -5.398438 4.984375 -5.734375 C 4.679688 -6.078125 4.238281 -6.25 3.65625 -6.25 C 3.46875 -6.25 3.265625 -6.21875 3.046875 -6.15625 C 2.835938 -6.09375 2.640625 -5.976562 2.453125 -5.8125 C 2.273438 -5.65625 2.125 -5.441406 2 -5.171875 C 1.875 -4.898438 1.804688 -4.550781 1.796875 -4.125 Z M 5.5625 -4.125 \"/>\n",
       "</g>\n",
       "<g id=\"glyph-3-13\">\n",
       "<path d=\"M 4.640625 -8.078125 L 4.640625 0 L 3.421875 0 L 3.421875 -8.078125 L 0.296875 -8.078125 L 0.296875 -9.078125 L 7.765625 -9.078125 L 7.765625 -8.078125 Z M 4.640625 -8.078125 \"/>\n",
       "</g>\n",
       "<g id=\"glyph-3-14\">\n",
       "<path d=\"M 4.953125 0 L 4.953125 -4.421875 C 4.953125 -4.765625 4.929688 -5.046875 4.890625 -5.265625 C 4.847656 -5.492188 4.773438 -5.675781 4.671875 -5.8125 C 4.566406 -5.957031 4.429688 -6.054688 4.265625 -6.109375 C 4.109375 -6.171875 3.910156 -6.203125 3.671875 -6.203125 C 3.429688 -6.203125 3.210938 -6.15625 3.015625 -6.0625 C 2.816406 -5.96875 2.644531 -5.828125 2.5 -5.640625 C 2.363281 -5.460938 2.253906 -5.238281 2.171875 -4.96875 C 2.097656 -4.695312 2.0625 -4.390625 2.0625 -4.046875 L 2.0625 0 L 0.921875 0 L 0.921875 -5.484375 C 0.921875 -5.628906 0.914062 -5.78125 0.90625 -5.9375 C 0.90625 -6.101562 0.898438 -6.257812 0.890625 -6.40625 C 0.890625 -6.550781 0.890625 -6.675781 0.890625 -6.78125 C 0.890625 -6.882812 0.882812 -6.945312 0.875 -6.96875 L 1.96875 -6.96875 C 1.976562 -6.945312 1.984375 -6.890625 1.984375 -6.796875 C 1.984375 -6.703125 1.988281 -6.59375 2 -6.46875 C 2.007812 -6.351562 2.015625 -6.226562 2.015625 -6.09375 C 2.023438 -5.96875 2.03125 -5.863281 2.03125 -5.78125 L 2.046875 -5.78125 C 2.148438 -5.976562 2.257812 -6.160156 2.375 -6.328125 C 2.5 -6.492188 2.640625 -6.632812 2.796875 -6.75 C 2.960938 -6.863281 3.148438 -6.953125 3.359375 -7.015625 C 3.566406 -7.078125 3.804688 -7.109375 4.078125 -7.109375 C 4.609375 -7.109375 5.023438 -7 5.328125 -6.78125 C 5.640625 -6.570312 5.851562 -6.238281 5.96875 -5.78125 L 6 -5.78125 C 6.101562 -5.976562 6.21875 -6.160156 6.34375 -6.328125 C 6.46875 -6.492188 6.613281 -6.632812 6.78125 -6.75 C 6.957031 -6.863281 7.15625 -6.953125 7.375 -7.015625 C 7.59375 -7.078125 7.835938 -7.109375 8.109375 -7.109375 C 8.460938 -7.109375 8.765625 -7.0625 9.015625 -6.96875 C 9.273438 -6.875 9.484375 -6.726562 9.640625 -6.53125 C 9.804688 -6.332031 9.925781 -6.078125 10 -5.765625 C 10.082031 -5.453125 10.125 -5.078125 10.125 -4.640625 L 10.125 0 L 8.984375 0 L 8.984375 -4.421875 C 8.984375 -4.765625 8.957031 -5.046875 8.90625 -5.265625 C 8.863281 -5.492188 8.789062 -5.675781 8.6875 -5.8125 C 8.59375 -5.957031 8.460938 -6.054688 8.296875 -6.109375 C 8.140625 -6.171875 7.941406 -6.203125 7.703125 -6.203125 C 7.460938 -6.203125 7.242188 -6.15625 7.046875 -6.0625 C 6.847656 -5.976562 6.675781 -5.84375 6.53125 -5.65625 C 6.394531 -5.476562 6.285156 -5.253906 6.203125 -4.984375 C 6.128906 -4.710938 6.09375 -4.398438 6.09375 -4.046875 L 6.09375 0 Z M 4.953125 0 \"/>\n",
       "</g>\n",
       "<g id=\"glyph-3-15\">\n",
       "<path d=\"M 1.765625 -3.515625 C 1.765625 -3.117188 1.796875 -2.753906 1.859375 -2.421875 C 1.921875 -2.085938 2.019531 -1.796875 2.15625 -1.546875 C 2.289062 -1.304688 2.46875 -1.117188 2.6875 -0.984375 C 2.914062 -0.847656 3.195312 -0.78125 3.53125 -0.78125 C 3.945312 -0.78125 4.289062 -0.890625 4.5625 -1.109375 C 4.84375 -1.335938 5.015625 -1.6875 5.078125 -2.15625 L 6.25 -2.078125 C 6.21875 -1.785156 6.132812 -1.503906 6 -1.234375 C 5.875 -0.972656 5.695312 -0.738281 5.46875 -0.53125 C 5.25 -0.332031 4.976562 -0.171875 4.65625 -0.046875 C 4.34375 0.0664062 3.976562 0.125 3.5625 0.125 C 3.019531 0.125 2.554688 0.0351562 2.171875 -0.140625 C 1.785156 -0.328125 1.472656 -0.582031 1.234375 -0.90625 C 1.003906 -1.238281 0.832031 -1.625 0.71875 -2.0625 C 0.613281 -2.5 0.5625 -2.976562 0.5625 -3.5 C 0.5625 -3.96875 0.597656 -4.378906 0.671875 -4.734375 C 0.753906 -5.097656 0.863281 -5.410156 1 -5.671875 C 1.144531 -5.941406 1.3125 -6.164062 1.5 -6.34375 C 1.6875 -6.53125 1.890625 -6.675781 2.109375 -6.78125 C 2.328125 -6.894531 2.554688 -6.976562 2.796875 -7.03125 C 3.046875 -7.082031 3.296875 -7.109375 3.546875 -7.109375 C 3.941406 -7.109375 4.289062 -7.050781 4.59375 -6.9375 C 4.894531 -6.832031 5.15625 -6.6875 5.375 -6.5 C 5.601562 -6.3125 5.785156 -6.085938 5.921875 -5.828125 C 6.054688 -5.578125 6.15625 -5.304688 6.21875 -5.015625 L 5.015625 -4.9375 C 4.960938 -5.320312 4.8125 -5.628906 4.5625 -5.859375 C 4.320312 -6.085938 3.972656 -6.203125 3.515625 -6.203125 C 3.191406 -6.203125 2.914062 -6.144531 2.6875 -6.03125 C 2.46875 -5.914062 2.289062 -5.75 2.15625 -5.53125 C 2.019531 -5.3125 1.921875 -5.035156 1.859375 -4.703125 C 1.796875 -4.367188 1.765625 -3.972656 1.765625 -3.515625 Z M 1.765625 -3.515625 \"/>\n",
       "</g>\n",
       "</g>\n",
       "<clipPath id=\"clip-0\">\n",
       "<path clip-rule=\"nonzero\" d=\"M 38.152344 23.957031 L 498.523438 23.957031 L 498.523438 472.847656 L 38.152344 472.847656 Z M 38.152344 23.957031 \"/>\n",
       "</clipPath>\n",
       "<clipPath id=\"clip-1\">\n",
       "<path clip-rule=\"nonzero\" d=\"M 38.152344 401 L 498.523438 401 L 498.523438 402 L 38.152344 402 Z M 38.152344 401 \"/>\n",
       "</clipPath>\n",
       "<clipPath id=\"clip-2\">\n",
       "<path clip-rule=\"nonzero\" d=\"M 38.152344 298 L 498.523438 298 L 498.523438 300 L 38.152344 300 Z M 38.152344 298 \"/>\n",
       "</clipPath>\n",
       "<clipPath id=\"clip-3\">\n",
       "<path clip-rule=\"nonzero\" d=\"M 38.152344 196 L 498.523438 196 L 498.523438 198 L 38.152344 198 Z M 38.152344 196 \"/>\n",
       "</clipPath>\n",
       "<clipPath id=\"clip-4\">\n",
       "<path clip-rule=\"nonzero\" d=\"M 38.152344 94 L 498.523438 94 L 498.523438 95 L 38.152344 95 Z M 38.152344 94 \"/>\n",
       "</clipPath>\n",
       "<clipPath id=\"clip-5\">\n",
       "<path clip-rule=\"nonzero\" d=\"M 144 23.957031 L 145 23.957031 L 145 472.847656 L 144 472.847656 Z M 144 23.957031 \"/>\n",
       "</clipPath>\n",
       "<clipPath id=\"clip-6\">\n",
       "<path clip-rule=\"nonzero\" d=\"M 299 23.957031 L 300 23.957031 L 300 472.847656 L 299 472.847656 Z M 299 23.957031 \"/>\n",
       "</clipPath>\n",
       "<clipPath id=\"clip-7\">\n",
       "<path clip-rule=\"nonzero\" d=\"M 454 23.957031 L 455 23.957031 L 455 472.847656 L 454 472.847656 Z M 454 23.957031 \"/>\n",
       "</clipPath>\n",
       "<clipPath id=\"clip-8\">\n",
       "<path clip-rule=\"nonzero\" d=\"M 38.152344 451 L 498.523438 451 L 498.523438 453 L 38.152344 453 Z M 38.152344 451 \"/>\n",
       "</clipPath>\n",
       "<clipPath id=\"clip-9\">\n",
       "<path clip-rule=\"nonzero\" d=\"M 38.152344 349 L 498.523438 349 L 498.523438 351 L 38.152344 351 Z M 38.152344 349 \"/>\n",
       "</clipPath>\n",
       "<clipPath id=\"clip-10\">\n",
       "<path clip-rule=\"nonzero\" d=\"M 38.152344 247 L 498.523438 247 L 498.523438 249 L 38.152344 249 Z M 38.152344 247 \"/>\n",
       "</clipPath>\n",
       "<clipPath id=\"clip-11\">\n",
       "<path clip-rule=\"nonzero\" d=\"M 38.152344 145 L 498.523438 145 L 498.523438 147 L 38.152344 147 Z M 38.152344 145 \"/>\n",
       "</clipPath>\n",
       "<clipPath id=\"clip-12\">\n",
       "<path clip-rule=\"nonzero\" d=\"M 38.152344 42 L 498.523438 42 L 498.523438 44 L 38.152344 44 Z M 38.152344 42 \"/>\n",
       "</clipPath>\n",
       "<clipPath id=\"clip-13\">\n",
       "<path clip-rule=\"nonzero\" d=\"M 66 23.957031 L 68 23.957031 L 68 472.847656 L 66 472.847656 Z M 66 23.957031 \"/>\n",
       "</clipPath>\n",
       "<clipPath id=\"clip-14\">\n",
       "<path clip-rule=\"nonzero\" d=\"M 221 23.957031 L 223 23.957031 L 223 472.847656 L 221 472.847656 Z M 221 23.957031 \"/>\n",
       "</clipPath>\n",
       "<clipPath id=\"clip-15\">\n",
       "<path clip-rule=\"nonzero\" d=\"M 376 23.957031 L 378 23.957031 L 378 472.847656 L 376 472.847656 Z M 376 23.957031 \"/>\n",
       "</clipPath>\n",
       "</defs>\n",
       "<rect x=\"-50.4\" y=\"-50.4\" width=\"604.8\" height=\"604.8\" fill=\"rgb(100%, 100%, 100%)\" fill-opacity=\"1\"/>\n",
       "<rect x=\"-50.4\" y=\"-50.4\" width=\"604.8\" height=\"604.8\" fill=\"rgb(100%, 100%, 100%)\" fill-opacity=\"1\"/>\n",
       "<path fill=\"none\" stroke-width=\"1.066978\" stroke-linecap=\"round\" stroke-linejoin=\"round\" stroke=\"rgb(100%, 100%, 100%)\" stroke-opacity=\"1\" stroke-miterlimit=\"10\" d=\"M 0 504 L 504 504 L 504 0 L 0 0 Z M 0 504 \"/>\n",
       "<g clip-path=\"url(#clip-0)\">\n",
       "<path fill-rule=\"nonzero\" fill=\"rgb(92.156863%, 92.156863%, 92.156863%)\" fill-opacity=\"1\" d=\"M 38.152344 472.847656 L 498.523438 472.847656 L 498.523438 23.957031 L 38.152344 23.957031 Z M 38.152344 472.847656 \"/>\n",
       "</g>\n",
       "<g clip-path=\"url(#clip-1)\">\n",
       "<path fill=\"none\" stroke-width=\"0.533489\" stroke-linecap=\"butt\" stroke-linejoin=\"round\" stroke=\"rgb(100%, 100%, 100%)\" stroke-opacity=\"1\" stroke-miterlimit=\"10\" d=\"M 38.152344 401.308594 L 498.519531 401.308594 \"/>\n",
       "</g>\n",
       "<g clip-path=\"url(#clip-2)\">\n",
       "<path fill=\"none\" stroke-width=\"0.533489\" stroke-linecap=\"butt\" stroke-linejoin=\"round\" stroke=\"rgb(100%, 100%, 100%)\" stroke-opacity=\"1\" stroke-miterlimit=\"10\" d=\"M 38.152344 299.03125 L 498.519531 299.03125 \"/>\n",
       "</g>\n",
       "<g clip-path=\"url(#clip-3)\">\n",
       "<path fill=\"none\" stroke-width=\"0.533489\" stroke-linecap=\"butt\" stroke-linejoin=\"round\" stroke=\"rgb(100%, 100%, 100%)\" stroke-opacity=\"1\" stroke-miterlimit=\"10\" d=\"M 38.152344 196.753906 L 498.519531 196.753906 \"/>\n",
       "</g>\n",
       "<g clip-path=\"url(#clip-4)\">\n",
       "<path fill=\"none\" stroke-width=\"0.533489\" stroke-linecap=\"butt\" stroke-linejoin=\"round\" stroke=\"rgb(100%, 100%, 100%)\" stroke-opacity=\"1\" stroke-miterlimit=\"10\" d=\"M 38.152344 94.476562 L 498.519531 94.476562 \"/>\n",
       "</g>\n",
       "<g clip-path=\"url(#clip-5)\">\n",
       "<path fill=\"none\" stroke-width=\"0.533489\" stroke-linecap=\"butt\" stroke-linejoin=\"round\" stroke=\"rgb(100%, 100%, 100%)\" stroke-opacity=\"1\" stroke-miterlimit=\"10\" d=\"M 144.332031 472.847656 L 144.332031 23.957031 \"/>\n",
       "</g>\n",
       "<g clip-path=\"url(#clip-6)\">\n",
       "<path fill=\"none\" stroke-width=\"0.533489\" stroke-linecap=\"butt\" stroke-linejoin=\"round\" stroke=\"rgb(100%, 100%, 100%)\" stroke-opacity=\"1\" stroke-miterlimit=\"10\" d=\"M 299.335938 472.847656 L 299.335938 23.957031 \"/>\n",
       "</g>\n",
       "<g clip-path=\"url(#clip-7)\">\n",
       "<path fill=\"none\" stroke-width=\"0.533489\" stroke-linecap=\"butt\" stroke-linejoin=\"round\" stroke=\"rgb(100%, 100%, 100%)\" stroke-opacity=\"1\" stroke-miterlimit=\"10\" d=\"M 454.34375 472.847656 L 454.34375 23.957031 \"/>\n",
       "</g>\n",
       "<g clip-path=\"url(#clip-8)\">\n",
       "<path fill=\"none\" stroke-width=\"1.066978\" stroke-linecap=\"butt\" stroke-linejoin=\"round\" stroke=\"rgb(100%, 100%, 100%)\" stroke-opacity=\"1\" stroke-miterlimit=\"10\" d=\"M 38.152344 452.445312 L 498.519531 452.445312 \"/>\n",
       "</g>\n",
       "<g clip-path=\"url(#clip-9)\">\n",
       "<path fill=\"none\" stroke-width=\"1.066978\" stroke-linecap=\"butt\" stroke-linejoin=\"round\" stroke=\"rgb(100%, 100%, 100%)\" stroke-opacity=\"1\" stroke-miterlimit=\"10\" d=\"M 38.152344 350.167969 L 498.519531 350.167969 \"/>\n",
       "</g>\n",
       "<g clip-path=\"url(#clip-10)\">\n",
       "<path fill=\"none\" stroke-width=\"1.066978\" stroke-linecap=\"butt\" stroke-linejoin=\"round\" stroke=\"rgb(100%, 100%, 100%)\" stroke-opacity=\"1\" stroke-miterlimit=\"10\" d=\"M 38.152344 247.894531 L 498.519531 247.894531 \"/>\n",
       "</g>\n",
       "<g clip-path=\"url(#clip-11)\">\n",
       "<path fill=\"none\" stroke-width=\"1.066978\" stroke-linecap=\"butt\" stroke-linejoin=\"round\" stroke=\"rgb(100%, 100%, 100%)\" stroke-opacity=\"1\" stroke-miterlimit=\"10\" d=\"M 38.152344 145.617188 L 498.519531 145.617188 \"/>\n",
       "</g>\n",
       "<g clip-path=\"url(#clip-12)\">\n",
       "<path fill=\"none\" stroke-width=\"1.066978\" stroke-linecap=\"butt\" stroke-linejoin=\"round\" stroke=\"rgb(100%, 100%, 100%)\" stroke-opacity=\"1\" stroke-miterlimit=\"10\" d=\"M 38.152344 43.339844 L 498.519531 43.339844 \"/>\n",
       "</g>\n",
       "<g clip-path=\"url(#clip-13)\">\n",
       "<path fill=\"none\" stroke-width=\"1.066978\" stroke-linecap=\"butt\" stroke-linejoin=\"round\" stroke=\"rgb(100%, 100%, 100%)\" stroke-opacity=\"1\" stroke-miterlimit=\"10\" d=\"M 66.828125 472.847656 L 66.828125 23.957031 \"/>\n",
       "</g>\n",
       "<g clip-path=\"url(#clip-14)\">\n",
       "<path fill=\"none\" stroke-width=\"1.066978\" stroke-linecap=\"butt\" stroke-linejoin=\"round\" stroke=\"rgb(100%, 100%, 100%)\" stroke-opacity=\"1\" stroke-miterlimit=\"10\" d=\"M 221.832031 472.847656 L 221.832031 23.957031 \"/>\n",
       "</g>\n",
       "<g clip-path=\"url(#clip-15)\">\n",
       "<path fill=\"none\" stroke-width=\"1.066978\" stroke-linecap=\"butt\" stroke-linejoin=\"round\" stroke=\"rgb(100%, 100%, 100%)\" stroke-opacity=\"1\" stroke-miterlimit=\"10\" d=\"M 376.839844 472.847656 L 376.839844 23.957031 \"/>\n",
       "</g>\n",
       "<path fill-rule=\"nonzero\" fill=\"rgb(34.901961%, 34.901961%, 34.901961%)\" fill-opacity=\"1\" d=\"M 59.078125 452.445312 L 74.578125 452.445312 L 74.578125 290.847656 L 59.078125 290.847656 Z M 59.078125 452.445312 \"/>\n",
       "<path fill-rule=\"nonzero\" fill=\"rgb(34.901961%, 34.901961%, 34.901961%)\" fill-opacity=\"1\" d=\"M 74.578125 452.445312 L 90.078125 452.445312 L 90.078125 44.363281 L 74.578125 44.363281 Z M 74.578125 452.445312 \"/>\n",
       "<path fill-rule=\"nonzero\" fill=\"rgb(34.901961%, 34.901961%, 34.901961%)\" fill-opacity=\"1\" d=\"M 90.078125 452.445312 L 105.578125 452.445312 L 105.578125 295.960938 L 90.078125 295.960938 Z M 90.078125 452.445312 \"/>\n",
       "<path fill-rule=\"nonzero\" fill=\"rgb(34.901961%, 34.901961%, 34.901961%)\" fill-opacity=\"1\" d=\"M 105.578125 452.445312 L 121.078125 452.445312 L 121.078125 343.007812 L 105.578125 343.007812 Z M 105.578125 452.445312 \"/>\n",
       "<path fill-rule=\"nonzero\" fill=\"rgb(34.901961%, 34.901961%, 34.901961%)\" fill-opacity=\"1\" d=\"M 121.078125 452.445312 L 136.578125 452.445312 L 136.578125 362.441406 L 121.078125 362.441406 Z M 121.078125 452.445312 \"/>\n",
       "<path fill-rule=\"nonzero\" fill=\"rgb(34.901961%, 34.901961%, 34.901961%)\" fill-opacity=\"1\" d=\"M 136.578125 452.445312 L 152.078125 452.445312 L 152.078125 363.464844 L 136.578125 363.464844 Z M 136.578125 452.445312 \"/>\n",
       "<path fill-rule=\"nonzero\" fill=\"rgb(34.901961%, 34.901961%, 34.901961%)\" fill-opacity=\"1\" d=\"M 152.082031 452.445312 L 167.582031 452.445312 L 167.582031 377.785156 L 152.082031 377.785156 Z M 152.082031 452.445312 \"/>\n",
       "<path fill-rule=\"nonzero\" fill=\"rgb(34.901961%, 34.901961%, 34.901961%)\" fill-opacity=\"1\" d=\"M 167.582031 452.445312 L 183.082031 452.445312 L 183.082031 393.125 L 167.582031 393.125 Z M 167.582031 452.445312 \"/>\n",
       "<path fill-rule=\"nonzero\" fill=\"rgb(34.901961%, 34.901961%, 34.901961%)\" fill-opacity=\"1\" d=\"M 183.082031 452.445312 L 198.582031 452.445312 L 198.582031 394.148438 L 183.082031 394.148438 Z M 183.082031 452.445312 \"/>\n",
       "<path fill-rule=\"nonzero\" fill=\"rgb(34.901961%, 34.901961%, 34.901961%)\" fill-opacity=\"1\" d=\"M 198.582031 452.445312 L 214.082031 452.445312 L 214.082031 399.261719 L 198.582031 399.261719 Z M 198.582031 452.445312 \"/>\n",
       "<path fill-rule=\"nonzero\" fill=\"rgb(34.901961%, 34.901961%, 34.901961%)\" fill-opacity=\"1\" d=\"M 214.082031 452.445312 L 229.582031 452.445312 L 229.582031 418.695312 L 214.082031 418.695312 Z M 214.082031 452.445312 \"/>\n",
       "<path fill-rule=\"nonzero\" fill=\"rgb(34.901961%, 34.901961%, 34.901961%)\" fill-opacity=\"1\" d=\"M 229.582031 452.445312 L 245.082031 452.445312 L 245.082031 423.808594 L 229.582031 423.808594 Z M 229.582031 452.445312 \"/>\n",
       "<path fill-rule=\"nonzero\" fill=\"rgb(34.901961%, 34.901961%, 34.901961%)\" fill-opacity=\"1\" d=\"M 245.085938 452.445312 L 260.585938 452.445312 L 260.585938 425.851562 L 245.085938 425.851562 Z M 245.085938 452.445312 \"/>\n",
       "<path fill-rule=\"nonzero\" fill=\"rgb(34.901961%, 34.901961%, 34.901961%)\" fill-opacity=\"1\" d=\"M 260.585938 452.445312 L 276.085938 452.445312 L 276.085938 436.082031 L 260.585938 436.082031 Z M 260.585938 452.445312 \"/>\n",
       "<path fill-rule=\"nonzero\" fill=\"rgb(34.901961%, 34.901961%, 34.901961%)\" fill-opacity=\"1\" d=\"M 276.085938 452.445312 L 291.585938 452.445312 L 291.585938 436.082031 L 276.085938 436.082031 Z M 276.085938 452.445312 \"/>\n",
       "<path fill-rule=\"nonzero\" fill=\"rgb(34.901961%, 34.901961%, 34.901961%)\" fill-opacity=\"1\" d=\"M 291.585938 452.445312 L 307.085938 452.445312 L 307.085938 433.011719 L 291.585938 433.011719 Z M 291.585938 452.445312 \"/>\n",
       "<path fill-rule=\"nonzero\" fill=\"rgb(34.901961%, 34.901961%, 34.901961%)\" fill-opacity=\"1\" d=\"M 307.085938 452.445312 L 322.585938 452.445312 L 322.585938 437.105469 L 307.085938 437.105469 Z M 307.085938 452.445312 \"/>\n",
       "<path fill-rule=\"nonzero\" fill=\"rgb(34.901961%, 34.901961%, 34.901961%)\" fill-opacity=\"1\" d=\"M 322.589844 452.445312 L 338.089844 452.445312 L 338.089844 441.195312 L 322.589844 441.195312 Z M 322.589844 452.445312 \"/>\n",
       "<path fill-rule=\"nonzero\" fill=\"rgb(34.901961%, 34.901961%, 34.901961%)\" fill-opacity=\"1\" d=\"M 338.089844 452.445312 L 353.589844 452.445312 L 353.589844 448.355469 L 338.089844 448.355469 Z M 338.089844 452.445312 \"/>\n",
       "<path fill-rule=\"nonzero\" fill=\"rgb(34.901961%, 34.901961%, 34.901961%)\" fill-opacity=\"1\" d=\"M 353.589844 452.445312 L 369.089844 452.445312 L 369.089844 447.332031 L 353.589844 447.332031 Z M 353.589844 452.445312 \"/>\n",
       "<path fill-rule=\"nonzero\" fill=\"rgb(34.901961%, 34.901961%, 34.901961%)\" fill-opacity=\"1\" d=\"M 369.089844 452.445312 L 384.589844 452.445312 L 384.589844 444.261719 L 369.089844 444.261719 Z M 369.089844 452.445312 \"/>\n",
       "<path fill-rule=\"nonzero\" fill=\"rgb(34.901961%, 34.901961%, 34.901961%)\" fill-opacity=\"1\" d=\"M 384.589844 452.445312 L 400.089844 452.445312 L 400.089844 450.398438 L 384.589844 450.398438 Z M 384.589844 452.445312 \"/>\n",
       "<path fill-rule=\"nonzero\" fill=\"rgb(34.901961%, 34.901961%, 34.901961%)\" fill-opacity=\"1\" d=\"M 400.089844 452.445312 L 415.589844 452.445312 L 415.589844 450.398438 L 400.089844 450.398438 Z M 400.089844 452.445312 \"/>\n",
       "<path fill-rule=\"nonzero\" fill=\"rgb(34.901961%, 34.901961%, 34.901961%)\" fill-opacity=\"1\" d=\"M 415.59375 452.445312 L 431.09375 452.445312 L 431.09375 451.421875 L 415.59375 451.421875 Z M 415.59375 452.445312 \"/>\n",
       "<path fill-rule=\"nonzero\" fill=\"rgb(34.901961%, 34.901961%, 34.901961%)\" fill-opacity=\"1\" d=\"M 431.09375 452.445312 L 446.59375 452.445312 L 446.59375 449.378906 L 431.09375 449.378906 Z M 431.09375 452.445312 \"/>\n",
       "<path fill-rule=\"nonzero\" fill=\"rgb(34.901961%, 34.901961%, 34.901961%)\" fill-opacity=\"1\" d=\"M 446.59375 452.445312 L 462.09375 452.445312 L 462.09375 433.011719 L 446.59375 433.011719 Z M 446.59375 452.445312 \"/>\n",
       "<path fill-rule=\"nonzero\" fill=\"rgb(34.901961%, 34.901961%, 34.901961%)\" fill-opacity=\"1\" d=\"M 462.09375 452.445312 L 477.59375 452.445312 L 477.59375 451.421875 L 462.09375 451.421875 Z M 462.09375 452.445312 \"/>\n",
       "<g fill=\"rgb(30.196078%, 30.196078%, 30.196078%)\" fill-opacity=\"1\">\n",
       "<use xlink:href=\"#glyph-0-0\" x=\"28.21875\" y=\"455.911133\"/>\n",
       "</g>\n",
       "<g fill=\"rgb(30.196078%, 30.196078%, 30.196078%)\" fill-opacity=\"1\">\n",
       "<use xlink:href=\"#glyph-0-1\" x=\"18.21875\" y=\"353.633789\"/>\n",
       "<use xlink:href=\"#glyph-0-0\" x=\"23.21875\" y=\"353.633789\"/>\n",
       "<use xlink:href=\"#glyph-0-0\" x=\"28.21875\" y=\"353.633789\"/>\n",
       "</g>\n",
       "<g fill=\"rgb(30.196078%, 30.196078%, 30.196078%)\" fill-opacity=\"1\">\n",
       "<use xlink:href=\"#glyph-0-2\" x=\"18.21875\" y=\"251.360352\"/>\n",
       "<use xlink:href=\"#glyph-0-0\" x=\"23.21875\" y=\"251.360352\"/>\n",
       "<use xlink:href=\"#glyph-0-0\" x=\"28.21875\" y=\"251.360352\"/>\n",
       "</g>\n",
       "<g fill=\"rgb(30.196078%, 30.196078%, 30.196078%)\" fill-opacity=\"1\">\n",
       "<use xlink:href=\"#glyph-0-3\" x=\"18.21875\" y=\"149.083008\"/>\n",
       "<use xlink:href=\"#glyph-0-0\" x=\"23.21875\" y=\"149.083008\"/>\n",
       "<use xlink:href=\"#glyph-0-0\" x=\"28.21875\" y=\"149.083008\"/>\n",
       "</g>\n",
       "<g fill=\"rgb(30.196078%, 30.196078%, 30.196078%)\" fill-opacity=\"1\">\n",
       "<use xlink:href=\"#glyph-0-4\" x=\"18.21875\" y=\"46.805664\"/>\n",
       "<use xlink:href=\"#glyph-0-0\" x=\"23.21875\" y=\"46.805664\"/>\n",
       "<use xlink:href=\"#glyph-0-0\" x=\"28.21875\" y=\"46.805664\"/>\n",
       "</g>\n",
       "<path fill=\"none\" stroke-width=\"1.066978\" stroke-linecap=\"butt\" stroke-linejoin=\"round\" stroke=\"rgb(20%, 20%, 20%)\" stroke-opacity=\"1\" stroke-miterlimit=\"10\" d=\"M 35.410156 452.445312 L 38.152344 452.445312 \"/>\n",
       "<path fill=\"none\" stroke-width=\"1.066978\" stroke-linecap=\"butt\" stroke-linejoin=\"round\" stroke=\"rgb(20%, 20%, 20%)\" stroke-opacity=\"1\" stroke-miterlimit=\"10\" d=\"M 35.410156 350.167969 L 38.152344 350.167969 \"/>\n",
       "<path fill=\"none\" stroke-width=\"1.066978\" stroke-linecap=\"butt\" stroke-linejoin=\"round\" stroke=\"rgb(20%, 20%, 20%)\" stroke-opacity=\"1\" stroke-miterlimit=\"10\" d=\"M 35.410156 247.894531 L 38.152344 247.894531 \"/>\n",
       "<path fill=\"none\" stroke-width=\"1.066978\" stroke-linecap=\"butt\" stroke-linejoin=\"round\" stroke=\"rgb(20%, 20%, 20%)\" stroke-opacity=\"1\" stroke-miterlimit=\"10\" d=\"M 35.410156 145.617188 L 38.152344 145.617188 \"/>\n",
       "<path fill=\"none\" stroke-width=\"1.066978\" stroke-linecap=\"butt\" stroke-linejoin=\"round\" stroke=\"rgb(20%, 20%, 20%)\" stroke-opacity=\"1\" stroke-miterlimit=\"10\" d=\"M 35.410156 43.339844 L 38.152344 43.339844 \"/>\n",
       "<path fill=\"none\" stroke-width=\"1.066978\" stroke-linecap=\"butt\" stroke-linejoin=\"round\" stroke=\"rgb(20%, 20%, 20%)\" stroke-opacity=\"1\" stroke-miterlimit=\"10\" d=\"M 66.828125 475.589844 L 66.828125 472.847656 \"/>\n",
       "<path fill=\"none\" stroke-width=\"1.066978\" stroke-linecap=\"butt\" stroke-linejoin=\"round\" stroke=\"rgb(20%, 20%, 20%)\" stroke-opacity=\"1\" stroke-miterlimit=\"10\" d=\"M 221.832031 475.589844 L 221.832031 472.847656 \"/>\n",
       "<path fill=\"none\" stroke-width=\"1.066978\" stroke-linecap=\"butt\" stroke-linejoin=\"round\" stroke=\"rgb(20%, 20%, 20%)\" stroke-opacity=\"1\" stroke-miterlimit=\"10\" d=\"M 376.839844 475.589844 L 376.839844 472.847656 \"/>\n",
       "<g fill=\"rgb(30.196078%, 30.196078%, 30.196078%)\" fill-opacity=\"1\">\n",
       "<use xlink:href=\"#glyph-0-0\" x=\"64.328125\" y=\"484.74707\"/>\n",
       "</g>\n",
       "<g fill=\"rgb(30.196078%, 30.196078%, 30.196078%)\" fill-opacity=\"1\">\n",
       "<use xlink:href=\"#glyph-0-1\" x=\"214.332031\" y=\"484.74707\"/>\n",
       "<use xlink:href=\"#glyph-0-0\" x=\"219.332031\" y=\"484.74707\"/>\n",
       "<use xlink:href=\"#glyph-0-0\" x=\"224.332031\" y=\"484.74707\"/>\n",
       "</g>\n",
       "<g fill=\"rgb(30.196078%, 30.196078%, 30.196078%)\" fill-opacity=\"1\">\n",
       "<use xlink:href=\"#glyph-0-2\" x=\"369.339844\" y=\"484.74707\"/>\n",
       "<use xlink:href=\"#glyph-0-0\" x=\"374.339844\" y=\"484.74707\"/>\n",
       "<use xlink:href=\"#glyph-0-0\" x=\"379.339844\" y=\"484.74707\"/>\n",
       "</g>\n",
       "<g fill=\"rgb(0%, 0%, 0%)\" fill-opacity=\"1\">\n",
       "<use xlink:href=\"#glyph-1-0\" x=\"205.835938\" y=\"496.477539\"/>\n",
       "<use xlink:href=\"#glyph-1-1\" x=\"211.835938\" y=\"496.477539\"/>\n",
       "<use xlink:href=\"#glyph-1-2\" x=\"213.835938\" y=\"496.477539\"/>\n",
       "<use xlink:href=\"#glyph-1-3\" x=\"222.835938\" y=\"496.477539\"/>\n",
       "<use xlink:href=\"#glyph-1-4\" x=\"228.835938\" y=\"496.477539\"/>\n",
       "<use xlink:href=\"#glyph-1-5\" x=\"231.835938\" y=\"496.477539\"/>\n",
       "<use xlink:href=\"#glyph-1-1\" x=\"239.835938\" y=\"496.477539\"/>\n",
       "<use xlink:href=\"#glyph-1-6\" x=\"241.835938\" y=\"496.477539\"/>\n",
       "<use xlink:href=\"#glyph-1-6\" x=\"244.835938\" y=\"496.477539\"/>\n",
       "<use xlink:href=\"#glyph-1-3\" x=\"247.835938\" y=\"496.477539\"/>\n",
       "<use xlink:href=\"#glyph-1-7\" x=\"253.835938\" y=\"496.477539\"/>\n",
       "<use xlink:href=\"#glyph-1-3\" x=\"257.835938\" y=\"496.477539\"/>\n",
       "<use xlink:href=\"#glyph-1-8\" x=\"263.835938\" y=\"496.477539\"/>\n",
       "<use xlink:href=\"#glyph-1-9\" x=\"269.835938\" y=\"496.477539\"/>\n",
       "<use xlink:href=\"#glyph-1-3\" x=\"275.835938\" y=\"496.477539\"/>\n",
       "<use xlink:href=\"#glyph-1-4\" x=\"281.835938\" y=\"496.477539\"/>\n",
       "<use xlink:href=\"#glyph-1-10\" x=\"284.835938\" y=\"496.477539\"/>\n",
       "<use xlink:href=\"#glyph-1-2\" x=\"288.835938\" y=\"496.477539\"/>\n",
       "<use xlink:href=\"#glyph-1-1\" x=\"297.835938\" y=\"496.477539\"/>\n",
       "<use xlink:href=\"#glyph-1-8\" x=\"299.835938\" y=\"496.477539\"/>\n",
       "<use xlink:href=\"#glyph-1-11\" x=\"305.835938\" y=\"496.477539\"/>\n",
       "<use xlink:href=\"#glyph-1-12\" x=\"311.835938\" y=\"496.477539\"/>\n",
       "<use xlink:href=\"#glyph-1-3\" x=\"314.835938\" y=\"496.477539\"/>\n",
       "<use xlink:href=\"#glyph-1-13\" x=\"320.835938\" y=\"496.477539\"/>\n",
       "<use xlink:href=\"#glyph-1-14\" x=\"326.835938\" y=\"496.477539\"/>\n",
       "</g>\n",
       "<g fill=\"rgb(0%, 0%, 0%)\" fill-opacity=\"1\">\n",
       "<use xlink:href=\"#glyph-2-0\" x=\"13.438477\" y=\"262.902344\"/>\n",
       "<use xlink:href=\"#glyph-2-1\" x=\"13.438477\" y=\"254.902344\"/>\n",
       "<use xlink:href=\"#glyph-2-2\" x=\"13.438477\" y=\"248.902344\"/>\n",
       "<use xlink:href=\"#glyph-2-3\" x=\"13.438477\" y=\"242.902344\"/>\n",
       "<use xlink:href=\"#glyph-2-4\" x=\"13.438477\" y=\"236.902344\"/>\n",
       "</g>\n",
       "<g fill=\"rgb(0%, 0%, 0%)\" fill-opacity=\"1\">\n",
       "<use xlink:href=\"#glyph-3-0\" x=\"38.152344\" y=\"15.429688\"/>\n",
       "<use xlink:href=\"#glyph-3-1\" x=\"48.152344\" y=\"15.429688\"/>\n",
       "<use xlink:href=\"#glyph-3-2\" x=\"51.152344\" y=\"15.429688\"/>\n",
       "<use xlink:href=\"#glyph-3-3\" x=\"58.152344\" y=\"15.429688\"/>\n",
       "<use xlink:href=\"#glyph-3-4\" x=\"62.152344\" y=\"15.429688\"/>\n",
       "<use xlink:href=\"#glyph-3-1\" x=\"66.152344\" y=\"15.429688\"/>\n",
       "<use xlink:href=\"#glyph-3-5\" x=\"69.152344\" y=\"15.429688\"/>\n",
       "<use xlink:href=\"#glyph-3-6\" x=\"76.152344\" y=\"15.429688\"/>\n",
       "<use xlink:href=\"#glyph-3-3\" x=\"83.152344\" y=\"15.429688\"/>\n",
       "<use xlink:href=\"#glyph-3-1\" x=\"87.152344\" y=\"15.429688\"/>\n",
       "<use xlink:href=\"#glyph-3-7\" x=\"90.152344\" y=\"15.429688\"/>\n",
       "<use xlink:href=\"#glyph-3-8\" x=\"97.152344\" y=\"15.429688\"/>\n",
       "<use xlink:href=\"#glyph-3-9\" x=\"104.152344\" y=\"15.429688\"/>\n",
       "<use xlink:href=\"#glyph-3-7\" x=\"108.152344\" y=\"15.429688\"/>\n",
       "<use xlink:href=\"#glyph-3-10\" x=\"115.152344\" y=\"15.429688\"/>\n",
       "<use xlink:href=\"#glyph-3-9\" x=\"119.152344\" y=\"15.429688\"/>\n",
       "<use xlink:href=\"#glyph-3-11\" x=\"123.152344\" y=\"15.429688\"/>\n",
       "<use xlink:href=\"#glyph-3-12\" x=\"132.152344\" y=\"15.429688\"/>\n",
       "<use xlink:href=\"#glyph-3-2\" x=\"139.152344\" y=\"15.429688\"/>\n",
       "<use xlink:href=\"#glyph-3-2\" x=\"146.152344\" y=\"15.429688\"/>\n",
       "<use xlink:href=\"#glyph-3-1\" x=\"153.152344\" y=\"15.429688\"/>\n",
       "<use xlink:href=\"#glyph-3-7\" x=\"156.152344\" y=\"15.429688\"/>\n",
       "<use xlink:href=\"#glyph-3-8\" x=\"163.152344\" y=\"15.429688\"/>\n",
       "<use xlink:href=\"#glyph-3-9\" x=\"170.152344\" y=\"15.429688\"/>\n",
       "<use xlink:href=\"#glyph-3-13\" x=\"173.152344\" y=\"15.429688\"/>\n",
       "<use xlink:href=\"#glyph-3-1\" x=\"181.152344\" y=\"15.429688\"/>\n",
       "<use xlink:href=\"#glyph-3-14\" x=\"184.152344\" y=\"15.429688\"/>\n",
       "<use xlink:href=\"#glyph-3-12\" x=\"195.152344\" y=\"15.429688\"/>\n",
       "<use xlink:href=\"#glyph-3-9\" x=\"202.152344\" y=\"15.429688\"/>\n",
       "<use xlink:href=\"#glyph-3-0\" x=\"206.152344\" y=\"15.429688\"/>\n",
       "<use xlink:href=\"#glyph-3-1\" x=\"216.152344\" y=\"15.429688\"/>\n",
       "<use xlink:href=\"#glyph-3-10\" x=\"219.152344\" y=\"15.429688\"/>\n",
       "<use xlink:href=\"#glyph-3-10\" x=\"222.152344\" y=\"15.429688\"/>\n",
       "<use xlink:href=\"#glyph-3-12\" x=\"226.152344\" y=\"15.429688\"/>\n",
       "<use xlink:href=\"#glyph-3-4\" x=\"233.152344\" y=\"15.429688\"/>\n",
       "<use xlink:href=\"#glyph-3-12\" x=\"237.152344\" y=\"15.429688\"/>\n",
       "<use xlink:href=\"#glyph-3-8\" x=\"244.152344\" y=\"15.429688\"/>\n",
       "<use xlink:href=\"#glyph-3-15\" x=\"251.152344\" y=\"15.429688\"/>\n",
       "<use xlink:href=\"#glyph-3-12\" x=\"258.152344\" y=\"15.429688\"/>\n",
       "<use xlink:href=\"#glyph-3-2\" x=\"265.152344\" y=\"15.429688\"/>\n",
       "</g>\n",
       "</svg>\n"
      ],
      "text/plain": [
       "plot without title"
      ]
     },
     "metadata": {
      "application/pdf": {
       "height": 420,
       "width": 420
      },
      "image/jpeg": {
       "height": 420,
       "width": 420
      },
      "image/png": {
       "height": 420,
       "width": 420
      },
      "image/svg+xml": {
       "height": 420,
       "isolated": true,
       "width": 420
      }
     },
     "output_type": "display_data"
    }
   ],
   "source": [
    "sessions_time_diff <- sessions |>\n",
    "    mutate(time_diff = (EHour - Hour) * 60 + (EMinute - Minute))\n",
    "\n",
    "\n",
    "time_stats <- sessions_time_diff |>\n",
    "    summarize(average_time = mean(time_diff, na.rm = TRUE),\n",
    "              median_time = median(time_diff, na.rm = TRUE),\n",
    "              sd_time = sd(time_diff, na.rm = TRUE))\n",
    "\n",
    "\n",
    "sessions_visualization <- sessions_time_diff |>\n",
    "    ggplot(aes(x = time_diff)) +\n",
    "    geom_histogram(binwidth = 10) +\n",
    "    labs(title = \"Distribution of Session Time Differences\",\n",
    "         x = \"Time Difference (minutes)\",\n",
    "         y = \"Count\")\n",
    "\n",
    "sessions_visualization\n",
    "time_stats\n",
    "\n",
    "# Skewed right distribution where most people had sessions that lasted less than 60 minutes"
   ]
  },
  {
   "cell_type": "markdown",
   "id": "aa9cc5a1",
   "metadata": {},
   "source": [
    "## Sessions Data Analysis\n",
    "\n",
    "# Distribution Plot:\n",
    "To create a distribution plot that visualizes the time differences in players' sessions, a new data frame was created with a column that calculates the time length of sessions by finding the difference between the start and ending hours, multiplying by 60, and adding the difference between the start and ending minutes. By using this column as the x-axis of a historgram with counts on the y-axis, the distribution of the length of player time sessions can be seen. The histogram depicts a skewed right distribution that has a mean play time of around 46 minutes, median time of 26 minutes, and standard deviation of 51 minutes. This large difference between the mean and median values of session time indicates that a majority of session times lie under 30 minutes, while large outlier session times are influencing the mean by increasing the overall average for the session times."
   ]
  },
  {
   "cell_type": "markdown",
   "id": "2d0936e6",
   "metadata": {},
   "source": []
  }
 ],
 "metadata": {
  "kernelspec": {
   "display_name": "R",
   "language": "R",
   "name": "ir"
  },
  "language_info": {
   "codemirror_mode": "r",
   "file_extension": ".r",
   "mimetype": "text/x-r-source",
   "name": "R",
   "pygments_lexer": "r",
   "version": "4.3.3"
  }
 },
 "nbformat": 4,
 "nbformat_minor": 5
}
