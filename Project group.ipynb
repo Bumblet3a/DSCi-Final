{
 "cells": [
  {
   "cell_type": "markdown",
   "id": "360b67e6-2ee4-4aac-bb5a-02008aad03f1",
   "metadata": {},
   "source": [
    "# "
   ]
  },
  {
   "cell_type": "code",
   "execution_count": 37,
   "id": "8bf32b3d-93d0-4cc2-b597-b1d25f99a5a3",
   "metadata": {},
   "outputs": [],
   "source": [
    "library(tidyverse)\n",
    "library(repr)\n",
    "library(tidymodels)\n",
    "options(repr.matrix.max.rows = 6)"
   ]
  },
  {
   "cell_type": "code",
   "execution_count": 7,
   "id": "4fe51c62-7bf1-448a-ab45-09dd6b6df629",
   "metadata": {},
   "outputs": [
    {
     "name": "stderr",
     "output_type": "stream",
     "text": [
      "\u001b[1mRows: \u001b[22m\u001b[34m196\u001b[39m \u001b[1mColumns: \u001b[22m\u001b[34m7\u001b[39m\n",
      "\u001b[36m──\u001b[39m \u001b[1mColumn specification\u001b[22m \u001b[36m────────────────────────────────────────────────────────\u001b[39m\n",
      "\u001b[1mDelimiter:\u001b[22m \",\"\n",
      "\u001b[31mchr\u001b[39m (4): experience, hashedEmail, name, gender\n",
      "\u001b[32mdbl\u001b[39m (2): played_hours, Age\n",
      "\u001b[33mlgl\u001b[39m (1): subscribe\n",
      "\n",
      "\u001b[36mℹ\u001b[39m Use `spec()` to retrieve the full column specification for this data.\n",
      "\u001b[36mℹ\u001b[39m Specify the column types or set `show_col_types = FALSE` to quiet this message.\n"
     ]
    },
    {
     "data": {
      "text/html": [
       "<table class=\"dataframe\">\n",
       "<caption>A tibble: 6 × 7</caption>\n",
       "<thead>\n",
       "\t<tr><th scope=col>experience</th><th scope=col>subscribe</th><th scope=col>hashedEmail</th><th scope=col>played_hours</th><th scope=col>name</th><th scope=col>gender</th><th scope=col>Age</th></tr>\n",
       "\t<tr><th scope=col>&lt;chr&gt;</th><th scope=col>&lt;lgl&gt;</th><th scope=col>&lt;chr&gt;</th><th scope=col>&lt;dbl&gt;</th><th scope=col>&lt;chr&gt;</th><th scope=col>&lt;chr&gt;</th><th scope=col>&lt;dbl&gt;</th></tr>\n",
       "</thead>\n",
       "<tbody>\n",
       "\t<tr><td>Pro    </td><td> TRUE</td><td>f6daba428a5e19a3d47574858c13550499be23603422e6a0ee9728f8b53e192d</td><td>30.3</td><td>Morgan   </td><td>Male  </td><td> 9</td></tr>\n",
       "\t<tr><td>Veteran</td><td> TRUE</td><td>f3c813577c458ba0dfef80996f8f32c93b6e8af1fa939732842f2312358a88e9</td><td> 3.8</td><td>Christian</td><td>Male  </td><td>17</td></tr>\n",
       "\t<tr><td>Veteran</td><td>FALSE</td><td>b674dd7ee0d24096d1c019615ce4d12b20fcbff12d79d3c5a9d2118eb7ccbb28</td><td> 0.0</td><td>Blake    </td><td>Male  </td><td>17</td></tr>\n",
       "\t<tr><td>Amateur</td><td> TRUE</td><td>23fe711e0e3b77f1da7aa221ab1192afe21648d47d2b4fa7a5a659ff443a0eb5</td><td> 0.7</td><td>Flora    </td><td>Female</td><td>21</td></tr>\n",
       "\t<tr><td>Regular</td><td> TRUE</td><td>7dc01f10bf20671ecfccdac23812b1b415acd42c2147cb0af4d48fcce2420f3e</td><td> 0.1</td><td>Kylie    </td><td>Male  </td><td>21</td></tr>\n",
       "\t<tr><td>Amateur</td><td> TRUE</td><td>f58aad5996a435f16b0284a3b267f973f9af99e7a89bee0430055a44fa92f977</td><td> 0.0</td><td>Adrian   </td><td>Female</td><td>17</td></tr>\n",
       "</tbody>\n",
       "</table>\n"
      ],
      "text/latex": [
       "A tibble: 6 × 7\n",
       "\\begin{tabular}{lllllll}\n",
       " experience & subscribe & hashedEmail & played\\_hours & name & gender & Age\\\\\n",
       " <chr> & <lgl> & <chr> & <dbl> & <chr> & <chr> & <dbl>\\\\\n",
       "\\hline\n",
       "\t Pro     &  TRUE & f6daba428a5e19a3d47574858c13550499be23603422e6a0ee9728f8b53e192d & 30.3 & Morgan    & Male   &  9\\\\\n",
       "\t Veteran &  TRUE & f3c813577c458ba0dfef80996f8f32c93b6e8af1fa939732842f2312358a88e9 &  3.8 & Christian & Male   & 17\\\\\n",
       "\t Veteran & FALSE & b674dd7ee0d24096d1c019615ce4d12b20fcbff12d79d3c5a9d2118eb7ccbb28 &  0.0 & Blake     & Male   & 17\\\\\n",
       "\t Amateur &  TRUE & 23fe711e0e3b77f1da7aa221ab1192afe21648d47d2b4fa7a5a659ff443a0eb5 &  0.7 & Flora     & Female & 21\\\\\n",
       "\t Regular &  TRUE & 7dc01f10bf20671ecfccdac23812b1b415acd42c2147cb0af4d48fcce2420f3e &  0.1 & Kylie     & Male   & 21\\\\\n",
       "\t Amateur &  TRUE & f58aad5996a435f16b0284a3b267f973f9af99e7a89bee0430055a44fa92f977 &  0.0 & Adrian    & Female & 17\\\\\n",
       "\\end{tabular}\n"
      ],
      "text/markdown": [
       "\n",
       "A tibble: 6 × 7\n",
       "\n",
       "| experience &lt;chr&gt; | subscribe &lt;lgl&gt; | hashedEmail &lt;chr&gt; | played_hours &lt;dbl&gt; | name &lt;chr&gt; | gender &lt;chr&gt; | Age &lt;dbl&gt; |\n",
       "|---|---|---|---|---|---|---|\n",
       "| Pro     |  TRUE | f6daba428a5e19a3d47574858c13550499be23603422e6a0ee9728f8b53e192d | 30.3 | Morgan    | Male   |  9 |\n",
       "| Veteran |  TRUE | f3c813577c458ba0dfef80996f8f32c93b6e8af1fa939732842f2312358a88e9 |  3.8 | Christian | Male   | 17 |\n",
       "| Veteran | FALSE | b674dd7ee0d24096d1c019615ce4d12b20fcbff12d79d3c5a9d2118eb7ccbb28 |  0.0 | Blake     | Male   | 17 |\n",
       "| Amateur |  TRUE | 23fe711e0e3b77f1da7aa221ab1192afe21648d47d2b4fa7a5a659ff443a0eb5 |  0.7 | Flora     | Female | 21 |\n",
       "| Regular |  TRUE | 7dc01f10bf20671ecfccdac23812b1b415acd42c2147cb0af4d48fcce2420f3e |  0.1 | Kylie     | Male   | 21 |\n",
       "| Amateur |  TRUE | f58aad5996a435f16b0284a3b267f973f9af99e7a89bee0430055a44fa92f977 |  0.0 | Adrian    | Female | 17 |\n",
       "\n"
      ],
      "text/plain": [
       "  experience subscribe\n",
       "1 Pro         TRUE    \n",
       "2 Veteran     TRUE    \n",
       "3 Veteran    FALSE    \n",
       "4 Amateur     TRUE    \n",
       "5 Regular     TRUE    \n",
       "6 Amateur     TRUE    \n",
       "  hashedEmail                                                      played_hours\n",
       "1 f6daba428a5e19a3d47574858c13550499be23603422e6a0ee9728f8b53e192d 30.3        \n",
       "2 f3c813577c458ba0dfef80996f8f32c93b6e8af1fa939732842f2312358a88e9  3.8        \n",
       "3 b674dd7ee0d24096d1c019615ce4d12b20fcbff12d79d3c5a9d2118eb7ccbb28  0.0        \n",
       "4 23fe711e0e3b77f1da7aa221ab1192afe21648d47d2b4fa7a5a659ff443a0eb5  0.7        \n",
       "5 7dc01f10bf20671ecfccdac23812b1b415acd42c2147cb0af4d48fcce2420f3e  0.1        \n",
       "6 f58aad5996a435f16b0284a3b267f973f9af99e7a89bee0430055a44fa92f977  0.0        \n",
       "  name      gender Age\n",
       "1 Morgan    Male    9 \n",
       "2 Christian Male   17 \n",
       "3 Blake     Male   17 \n",
       "4 Flora     Female 21 \n",
       "5 Kylie     Male   21 \n",
       "6 Adrian    Female 17 "
      ]
     },
     "metadata": {},
     "output_type": "display_data"
    },
    {
     "name": "stderr",
     "output_type": "stream",
     "text": [
      "\u001b[1mRows: \u001b[22m\u001b[34m1535\u001b[39m \u001b[1mColumns: \u001b[22m\u001b[34m5\u001b[39m\n",
      "\u001b[36m──\u001b[39m \u001b[1mColumn specification\u001b[22m \u001b[36m────────────────────────────────────────────────────────\u001b[39m\n",
      "\u001b[1mDelimiter:\u001b[22m \",\"\n",
      "\u001b[31mchr\u001b[39m (3): hashedEmail, start_time, end_time\n",
      "\u001b[32mdbl\u001b[39m (2): original_start_time, original_end_time\n",
      "\n",
      "\u001b[36mℹ\u001b[39m Use `spec()` to retrieve the full column specification for this data.\n",
      "\u001b[36mℹ\u001b[39m Specify the column types or set `show_col_types = FALSE` to quiet this message.\n"
     ]
    }
   ],
   "source": [
    "PLAYERS_DATA_URL = \"https://raw.githubusercontent.com/Bumblet3a/dsci-individual-project/refs/heads/main/players.csv\"\n",
    "SESSION_DATA_URL = \"https://raw.githubusercontent.com/Bumblet3a/dsci-individual-project/refs/heads/main/sessions.csv\"\n",
    "\n",
    "download.file(PLAYERS_DATA_URL, \"players.csv\")\n",
    "download.file(SESSION_DATA_URL, \"sessions.csv\")\n",
    "\n",
    "players <- read_csv(\"players.csv\")\n",
    "head(players)\n",
    "sessions <- read_csv(\"sessions.csv\")"
   ]
  },
  {
   "cell_type": "code",
   "execution_count": 62,
   "id": "ece27db2-889c-40cd-a057-fce1a18a6d44",
   "metadata": {},
   "outputs": [
    {
     "data": {
      "text/html": [
       "<table class=\"dataframe\">\n",
       "<caption>A data.frame: 1604 × 4</caption>\n",
       "<thead>\n",
       "\t<tr><th scope=col>Age</th><th scope=col>experience</th><th scope=col>subscribe</th><th scope=col>played_hours</th></tr>\n",
       "\t<tr><th scope=col>&lt;dbl&gt;</th><th scope=col>&lt;chr&gt;</th><th scope=col>&lt;lgl&gt;</th><th scope=col>&lt;dbl&gt;</th></tr>\n",
       "</thead>\n",
       "<tbody>\n",
       "\t<tr><td>20</td><td>Regular</td><td>TRUE</td><td>1.5</td></tr>\n",
       "\t<tr><td>20</td><td>Regular</td><td>TRUE</td><td>1.5</td></tr>\n",
       "\t<tr><td>17</td><td>Veteran</td><td>TRUE</td><td>0.0</td></tr>\n",
       "\t<tr><td>⋮</td><td>⋮</td><td>⋮</td><td>⋮</td></tr>\n",
       "\t<tr><td>23</td><td>Amateur </td><td>TRUE</td><td>56.1</td></tr>\n",
       "\t<tr><td>17</td><td>Amateur </td><td>TRUE</td><td> 0.1</td></tr>\n",
       "\t<tr><td>20</td><td>Beginner</td><td>TRUE</td><td> 1.1</td></tr>\n",
       "</tbody>\n",
       "</table>\n"
      ],
      "text/latex": [
       "A data.frame: 1604 × 4\n",
       "\\begin{tabular}{llll}\n",
       " Age & experience & subscribe & played\\_hours\\\\\n",
       " <dbl> & <chr> & <lgl> & <dbl>\\\\\n",
       "\\hline\n",
       "\t 20 & Regular & TRUE & 1.5\\\\\n",
       "\t 20 & Regular & TRUE & 1.5\\\\\n",
       "\t 17 & Veteran & TRUE & 0.0\\\\\n",
       "\t ⋮ & ⋮ & ⋮ & ⋮\\\\\n",
       "\t 23 & Amateur  & TRUE & 56.1\\\\\n",
       "\t 17 & Amateur  & TRUE &  0.1\\\\\n",
       "\t 20 & Beginner & TRUE &  1.1\\\\\n",
       "\\end{tabular}\n"
      ],
      "text/markdown": [
       "\n",
       "A data.frame: 1604 × 4\n",
       "\n",
       "| Age &lt;dbl&gt; | experience &lt;chr&gt; | subscribe &lt;lgl&gt; | played_hours &lt;dbl&gt; |\n",
       "|---|---|---|---|\n",
       "| 20 | Regular | TRUE | 1.5 |\n",
       "| 20 | Regular | TRUE | 1.5 |\n",
       "| 17 | Veteran | TRUE | 0.0 |\n",
       "| ⋮ | ⋮ | ⋮ | ⋮ |\n",
       "| 23 | Amateur  | TRUE | 56.1 |\n",
       "| 17 | Amateur  | TRUE |  0.1 |\n",
       "| 20 | Beginner | TRUE |  1.1 |\n",
       "\n"
      ],
      "text/plain": [
       "     Age experience subscribe played_hours\n",
       "1    20  Regular    TRUE      1.5         \n",
       "2    20  Regular    TRUE      1.5         \n",
       "3    17  Veteran    TRUE      0.0         \n",
       "⋮    ⋮   ⋮          ⋮         ⋮           \n",
       "1602 23  Amateur    TRUE      56.1        \n",
       "1603 17  Amateur    TRUE       0.1        \n",
       "1604 20  Beginner   TRUE       1.1        "
      ]
     },
     "metadata": {},
     "output_type": "display_data"
    }
   ],
   "source": [
    "player_sessions <- merge(sessions, players, all = TRUE)|>\n",
    "select(Age, experience, subscribe, played_hours)|>\n",
    "drop_na(Age:played_hours)\n",
    "player_sessions"
   ]
  },
  {
   "cell_type": "code",
   "execution_count": 73,
   "id": "4232a108-17c8-4f49-8e46-23ee76c09227",
   "metadata": {},
   "outputs": [
    {
     "name": "stderr",
     "output_type": "stream",
     "text": [
      "\n",
      "\n",
      "\u001b[36m──\u001b[39m \u001b[1mRecipe\u001b[22m \u001b[36m──────────────────────────────────────────────────────────────────────\u001b[39m\n",
      "\n",
      "\n",
      "\n",
      "── Inputs \n",
      "\n",
      "Number of variables by role\n",
      "\n",
      "outcome:   1\n",
      "predictor: 3\n",
      "\n",
      "\n",
      "\n",
      "── Operations \n",
      "\n",
      "\u001b[36m•\u001b[39m Scaling for: \u001b[34mAge\u001b[39m\n",
      "\n",
      "\u001b[36m•\u001b[39m Centering for: \u001b[34mAge\u001b[39m\n",
      "\n"
     ]
    },
    {
     "data": {
      "text/html": [
       "<table class=\"dataframe\">\n",
       "<caption>A tibble: 18 × 7</caption>\n",
       "<thead>\n",
       "\t<tr><th scope=col>neighbors</th><th scope=col>.metric</th><th scope=col>.estimator</th><th scope=col>mean</th><th scope=col>n</th><th scope=col>std_err</th><th scope=col>.config</th></tr>\n",
       "\t<tr><th scope=col>&lt;dbl&gt;</th><th scope=col>&lt;chr&gt;</th><th scope=col>&lt;chr&gt;</th><th scope=col>&lt;dbl&gt;</th><th scope=col>&lt;int&gt;</th><th scope=col>&lt;dbl&gt;</th><th scope=col>&lt;chr&gt;</th></tr>\n",
       "</thead>\n",
       "<tbody>\n",
       "\t<tr><td> 1</td><td>rmse</td><td>standard</td><td>109.20611</td><td>5</td><td>1.79856</td><td>Preprocessor1_Model1</td></tr>\n",
       "\t<tr><td> 1</td><td>rsq </td><td>standard</td><td>  0.09432</td><td>5</td><td>0.01801</td><td>Preprocessor1_Model1</td></tr>\n",
       "\t<tr><td>11</td><td>rmse</td><td>standard</td><td> 85.51235</td><td>5</td><td>2.49178</td><td>Preprocessor1_Model2</td></tr>\n",
       "\t<tr><td>⋮</td><td>⋮</td><td>⋮</td><td>⋮</td><td>⋮</td><td>⋮</td><td>⋮</td></tr>\n",
       "\t<tr><td>71</td><td>rsq </td><td>standard</td><td> 0.7433</td><td>5</td><td>0.02769</td><td>Preprocessor1_Model8</td></tr>\n",
       "\t<tr><td>81</td><td>rmse</td><td>standard</td><td>42.6988</td><td>5</td><td>2.34702</td><td>Preprocessor1_Model9</td></tr>\n",
       "\t<tr><td>81</td><td>rsq </td><td>standard</td><td> 0.7376</td><td>5</td><td>0.02789</td><td>Preprocessor1_Model9</td></tr>\n",
       "</tbody>\n",
       "</table>\n"
      ],
      "text/latex": [
       "A tibble: 18 × 7\n",
       "\\begin{tabular}{lllllll}\n",
       " neighbors & .metric & .estimator & mean & n & std\\_err & .config\\\\\n",
       " <dbl> & <chr> & <chr> & <dbl> & <int> & <dbl> & <chr>\\\\\n",
       "\\hline\n",
       "\t  1 & rmse & standard & 109.20611 & 5 & 1.79856 & Preprocessor1\\_Model1\\\\\n",
       "\t  1 & rsq  & standard &   0.09432 & 5 & 0.01801 & Preprocessor1\\_Model1\\\\\n",
       "\t 11 & rmse & standard &  85.51235 & 5 & 2.49178 & Preprocessor1\\_Model2\\\\\n",
       "\t ⋮ & ⋮ & ⋮ & ⋮ & ⋮ & ⋮ & ⋮\\\\\n",
       "\t 71 & rsq  & standard &  0.7433 & 5 & 0.02769 & Preprocessor1\\_Model8\\\\\n",
       "\t 81 & rmse & standard & 42.6988 & 5 & 2.34702 & Preprocessor1\\_Model9\\\\\n",
       "\t 81 & rsq  & standard &  0.7376 & 5 & 0.02789 & Preprocessor1\\_Model9\\\\\n",
       "\\end{tabular}\n"
      ],
      "text/markdown": [
       "\n",
       "A tibble: 18 × 7\n",
       "\n",
       "| neighbors &lt;dbl&gt; | .metric &lt;chr&gt; | .estimator &lt;chr&gt; | mean &lt;dbl&gt; | n &lt;int&gt; | std_err &lt;dbl&gt; | .config &lt;chr&gt; |\n",
       "|---|---|---|---|---|---|---|\n",
       "|  1 | rmse | standard | 109.20611 | 5 | 1.79856 | Preprocessor1_Model1 |\n",
       "|  1 | rsq  | standard |   0.09432 | 5 | 0.01801 | Preprocessor1_Model1 |\n",
       "| 11 | rmse | standard |  85.51235 | 5 | 2.49178 | Preprocessor1_Model2 |\n",
       "| ⋮ | ⋮ | ⋮ | ⋮ | ⋮ | ⋮ | ⋮ |\n",
       "| 71 | rsq  | standard |  0.7433 | 5 | 0.02769 | Preprocessor1_Model8 |\n",
       "| 81 | rmse | standard | 42.6988 | 5 | 2.34702 | Preprocessor1_Model9 |\n",
       "| 81 | rsq  | standard |  0.7376 | 5 | 0.02789 | Preprocessor1_Model9 |\n",
       "\n"
      ],
      "text/plain": [
       "   neighbors .metric .estimator mean      n std_err .config             \n",
       "1   1        rmse    standard   109.20611 5 1.79856 Preprocessor1_Model1\n",
       "2   1        rsq     standard     0.09432 5 0.01801 Preprocessor1_Model1\n",
       "3  11        rmse    standard    85.51235 5 2.49178 Preprocessor1_Model2\n",
       "⋮  ⋮         ⋮       ⋮          ⋮         ⋮ ⋮       ⋮                   \n",
       "16 71        rsq     standard    0.7433   5 0.02769 Preprocessor1_Model8\n",
       "17 81        rmse    standard   42.6988   5 2.34702 Preprocessor1_Model9\n",
       "18 81        rsq     standard    0.7376   5 0.02789 Preprocessor1_Model9"
      ]
     },
     "metadata": {},
     "output_type": "display_data"
    }
   ],
   "source": [
    "play_sessions_split <- initial_split(player_sessions, prop = 0.75, strata = played_hours)\n",
    "play_sessions_training <- training(play_sessions_split)\n",
    "play_sessions_testing <- testing(play_sessions_split)\n",
    "\n",
    "play_spec <- nearest_neighbor(weight_func = \"rectangular\", neighbors = tune())|>\n",
    "set_engine(\"kknn\")|>\n",
    "set_mode(\"regression\")\n",
    "\n",
    "play_recipe <- recipe(played_hours ~ ., data = play_sessions_training)|>\n",
    "step_scale(Age)|>\n",
    "step_center(Age)\n",
    "play_recipe\n",
    "\n",
    "play_vfold <- vfold_cv(play_sessions_training, v = 5, strata = played_hours)\n",
    "\n",
    "\n",
    "play_workflow <- workflow()|>\n",
    "add_recipe(play_recipe)|>\n",
    "add_model(play_spec)\n",
    "\n",
    "gridvals <- tibble(neighbors = seq(from = 1, to = 81, by = 10))\n",
    "\n",
    "play_results <- play_workflow|>\n",
    "tune_grid(resamples = play_vfold, grid = gridvals)|>\n",
    "collect_metrics()\n",
    "\n",
    "play_results"
   ]
  },
  {
   "cell_type": "code",
   "execution_count": 79,
   "id": "de2ed9aa-361f-4a3e-82d1-7c7352217a46",
   "metadata": {},
   "outputs": [
    {
     "data": {
      "text/html": [
       "<table class=\"dataframe\">\n",
       "<caption>A tibble: 1 × 7</caption>\n",
       "<thead>\n",
       "\t<tr><th scope=col>neighbors</th><th scope=col>.metric</th><th scope=col>.estimator</th><th scope=col>mean</th><th scope=col>n</th><th scope=col>std_err</th><th scope=col>.config</th></tr>\n",
       "\t<tr><th scope=col>&lt;dbl&gt;</th><th scope=col>&lt;chr&gt;</th><th scope=col>&lt;chr&gt;</th><th scope=col>&lt;dbl&gt;</th><th scope=col>&lt;int&gt;</th><th scope=col>&lt;dbl&gt;</th><th scope=col>&lt;chr&gt;</th></tr>\n",
       "</thead>\n",
       "<tbody>\n",
       "\t<tr><td>61</td><td>rmse</td><td>standard</td><td>41.87</td><td>5</td><td>2.184</td><td>Preprocessor1_Model7</td></tr>\n",
       "</tbody>\n",
       "</table>\n"
      ],
      "text/latex": [
       "A tibble: 1 × 7\n",
       "\\begin{tabular}{lllllll}\n",
       " neighbors & .metric & .estimator & mean & n & std\\_err & .config\\\\\n",
       " <dbl> & <chr> & <chr> & <dbl> & <int> & <dbl> & <chr>\\\\\n",
       "\\hline\n",
       "\t 61 & rmse & standard & 41.87 & 5 & 2.184 & Preprocessor1\\_Model7\\\\\n",
       "\\end{tabular}\n"
      ],
      "text/markdown": [
       "\n",
       "A tibble: 1 × 7\n",
       "\n",
       "| neighbors &lt;dbl&gt; | .metric &lt;chr&gt; | .estimator &lt;chr&gt; | mean &lt;dbl&gt; | n &lt;int&gt; | std_err &lt;dbl&gt; | .config &lt;chr&gt; |\n",
       "|---|---|---|---|---|---|---|\n",
       "| 61 | rmse | standard | 41.87 | 5 | 2.184 | Preprocessor1_Model7 |\n",
       "\n"
      ],
      "text/plain": [
       "  neighbors .metric .estimator mean  n std_err .config             \n",
       "1 61        rmse    standard   41.87 5 2.184   Preprocessor1_Model7"
      ]
     },
     "metadata": {},
     "output_type": "display_data"
    }
   ],
   "source": [
    "play_min <- play_results|>\n",
    "filter(.metric == \"rmse\")|>\n",
    "slice_min(mean, n = 1)\n",
    "play_min"
   ]
  },
  {
   "cell_type": "code",
   "execution_count": 87,
   "id": "0f00b068-df59-4d61-b45b-b77876bad2b0",
   "metadata": {},
   "outputs": [
    {
     "data": {
      "text/html": [
       "<table class=\"dataframe\">\n",
       "<caption>A tibble: 3 × 3</caption>\n",
       "<thead>\n",
       "\t<tr><th scope=col>.metric</th><th scope=col>.estimator</th><th scope=col>.estimate</th></tr>\n",
       "\t<tr><th scope=col>&lt;chr&gt;</th><th scope=col>&lt;chr&gt;</th><th scope=col>&lt;dbl&gt;</th></tr>\n",
       "</thead>\n",
       "<tbody>\n",
       "\t<tr><td>rmse</td><td>standard</td><td>35.5625</td></tr>\n",
       "\t<tr><td>rsq </td><td>standard</td><td> 0.8346</td></tr>\n",
       "\t<tr><td>mae </td><td>standard</td><td>20.2480</td></tr>\n",
       "</tbody>\n",
       "</table>\n"
      ],
      "text/latex": [
       "A tibble: 3 × 3\n",
       "\\begin{tabular}{lll}\n",
       " .metric & .estimator & .estimate\\\\\n",
       " <chr> & <chr> & <dbl>\\\\\n",
       "\\hline\n",
       "\t rmse & standard & 35.5625\\\\\n",
       "\t rsq  & standard &  0.8346\\\\\n",
       "\t mae  & standard & 20.2480\\\\\n",
       "\\end{tabular}\n"
      ],
      "text/markdown": [
       "\n",
       "A tibble: 3 × 3\n",
       "\n",
       "| .metric &lt;chr&gt; | .estimator &lt;chr&gt; | .estimate &lt;dbl&gt; |\n",
       "|---|---|---|\n",
       "| rmse | standard | 35.5625 |\n",
       "| rsq  | standard |  0.8346 |\n",
       "| mae  | standard | 20.2480 |\n",
       "\n"
      ],
      "text/plain": [
       "  .metric .estimator .estimate\n",
       "1 rmse    standard   35.5625  \n",
       "2 rsq     standard    0.8346  \n",
       "3 mae     standard   20.2480  "
      ]
     },
     "metadata": {},
     "output_type": "display_data"
    }
   ],
   "source": [
    "min <- play_min|>\n",
    "pull(neighbors)\n",
    "\n",
    "play_spec <- nearest_neighbor(weight_func = \"rectangular\", neighbors = min)|>\n",
    "set_engine(\"kknn\")|>\n",
    "set_mode(\"regression\")\n",
    "\n",
    "play_fit <- workflow()|>\n",
    "add_recipe(play_recipe)|>\n",
    "add_model(play_spec)|>\n",
    "fit(data = play_sessions_training)\n",
    "\n",
    "play_summ <- play_fit|>\n",
    "predict(play_sessions_testing)|>\n",
    "bind_cols(play_sessions_testing)|>\n",
    "metrics(truth = played_hours, estimate = .pred)\n",
    "play_summ"
   ]
  }
 ],
 "metadata": {
  "kernelspec": {
   "display_name": "R",
   "language": "R",
   "name": "ir"
  },
  "language_info": {
   "codemirror_mode": "r",
   "file_extension": ".r",
   "mimetype": "text/x-r-source",
   "name": "R",
   "pygments_lexer": "r",
   "version": "4.3.3"
  }
 },
 "nbformat": 4,
 "nbformat_minor": 5
}
