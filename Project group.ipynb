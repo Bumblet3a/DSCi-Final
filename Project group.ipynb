{
 "cells": [
  {
   "cell_type": "markdown",
   "id": "360b67e6-2ee4-4aac-bb5a-02008aad03f1",
   "metadata": {},
   "source": [
    "# "
   ]
  },
  {
   "cell_type": "code",
   "execution_count": 4,
   "id": "8bf32b3d-93d0-4cc2-b597-b1d25f99a5a3",
   "metadata": {
    "vscode": {
     "languageId": "r"
    }
   },
   "outputs": [
    {
     "name": "stderr",
     "output_type": "stream",
     "text": [
      "── \u001b[1mAttaching core tidyverse packages\u001b[22m ──────────────────────── tidyverse 2.0.0 ──\n",
      "\u001b[32m✔\u001b[39m \u001b[34mdplyr    \u001b[39m 1.1.4     \u001b[32m✔\u001b[39m \u001b[34mreadr    \u001b[39m 2.1.5\n",
      "\u001b[32m✔\u001b[39m \u001b[34mforcats  \u001b[39m 1.0.0     \u001b[32m✔\u001b[39m \u001b[34mstringr  \u001b[39m 1.5.1\n",
      "\u001b[32m✔\u001b[39m \u001b[34mggplot2  \u001b[39m 3.5.1     \u001b[32m✔\u001b[39m \u001b[34mtibble   \u001b[39m 3.2.1\n",
      "\u001b[32m✔\u001b[39m \u001b[34mlubridate\u001b[39m 1.9.3     \u001b[32m✔\u001b[39m \u001b[34mtidyr    \u001b[39m 1.3.1\n",
      "\u001b[32m✔\u001b[39m \u001b[34mpurrr    \u001b[39m 1.0.2     \n",
      "── \u001b[1mConflicts\u001b[22m ────────────────────────────────────────── tidyverse_conflicts() ──\n",
      "\u001b[31m✖\u001b[39m \u001b[34mdplyr\u001b[39m::\u001b[32mfilter()\u001b[39m masks \u001b[34mstats\u001b[39m::filter()\n",
      "\u001b[31m✖\u001b[39m \u001b[34mdplyr\u001b[39m::\u001b[32mlag()\u001b[39m    masks \u001b[34mstats\u001b[39m::lag()\n",
      "\u001b[36mℹ\u001b[39m Use the conflicted package (\u001b[3m\u001b[34m<http://conflicted.r-lib.org/>\u001b[39m\u001b[23m) to force all conflicts to become errors\n",
      "── \u001b[1mAttaching packages\u001b[22m ────────────────────────────────────── tidymodels 1.1.1 ──\n",
      "\n",
      "\u001b[32m✔\u001b[39m \u001b[34mbroom       \u001b[39m 1.0.6     \u001b[32m✔\u001b[39m \u001b[34mrsample     \u001b[39m 1.2.1\n",
      "\u001b[32m✔\u001b[39m \u001b[34mdials       \u001b[39m 1.3.0     \u001b[32m✔\u001b[39m \u001b[34mtune        \u001b[39m 1.1.2\n",
      "\u001b[32m✔\u001b[39m \u001b[34minfer       \u001b[39m 1.0.7     \u001b[32m✔\u001b[39m \u001b[34mworkflows   \u001b[39m 1.1.4\n",
      "\u001b[32m✔\u001b[39m \u001b[34mmodeldata   \u001b[39m 1.4.0     \u001b[32m✔\u001b[39m \u001b[34mworkflowsets\u001b[39m 1.0.1\n",
      "\u001b[32m✔\u001b[39m \u001b[34mparsnip     \u001b[39m 1.2.1     \u001b[32m✔\u001b[39m \u001b[34myardstick   \u001b[39m 1.3.1\n",
      "\u001b[32m✔\u001b[39m \u001b[34mrecipes     \u001b[39m 1.1.0     \n",
      "\n",
      "── \u001b[1mConflicts\u001b[22m ───────────────────────────────────────── tidymodels_conflicts() ──\n",
      "\u001b[31m✖\u001b[39m \u001b[34mscales\u001b[39m::\u001b[32mdiscard()\u001b[39m masks \u001b[34mpurrr\u001b[39m::discard()\n",
      "\u001b[31m✖\u001b[39m \u001b[34mdplyr\u001b[39m::\u001b[32mfilter()\u001b[39m   masks \u001b[34mstats\u001b[39m::filter()\n",
      "\u001b[31m✖\u001b[39m \u001b[34mrecipes\u001b[39m::\u001b[32mfixed()\u001b[39m  masks \u001b[34mstringr\u001b[39m::fixed()\n",
      "\u001b[31m✖\u001b[39m \u001b[34mdplyr\u001b[39m::\u001b[32mlag()\u001b[39m      masks \u001b[34mstats\u001b[39m::lag()\n",
      "\u001b[31m✖\u001b[39m \u001b[34myardstick\u001b[39m::\u001b[32mspec()\u001b[39m masks \u001b[34mreadr\u001b[39m::spec()\n",
      "\u001b[31m✖\u001b[39m \u001b[34mrecipes\u001b[39m::\u001b[32mstep()\u001b[39m   masks \u001b[34mstats\u001b[39m::step()\n",
      "\u001b[34m•\u001b[39m Learn how to get started at \u001b[32mhttps://www.tidymodels.org/start/\u001b[39m\n",
      "\n"
     ]
    }
   ],
   "source": [
    "library(tidyverse)\n",
    "library(repr)\n",
    "library(tidymodels)\n",
    "library(recipes)\n",
    "options(repr.matrix.max.rows = 6)"
   ]
  },
  {
   "cell_type": "code",
   "execution_count": 5,
   "id": "4fe51c62-7bf1-448a-ab45-09dd6b6df629",
   "metadata": {
    "vscode": {
     "languageId": "r"
    }
   },
   "outputs": [
    {
     "name": "stderr",
     "output_type": "stream",
     "text": [
      "\u001b[1mRows: \u001b[22m\u001b[34m196\u001b[39m \u001b[1mColumns: \u001b[22m\u001b[34m7\u001b[39m\n",
      "\u001b[36m──\u001b[39m \u001b[1mColumn specification\u001b[22m \u001b[36m────────────────────────────────────────────────────────\u001b[39m\n",
      "\u001b[1mDelimiter:\u001b[22m \",\"\n",
      "\u001b[31mchr\u001b[39m (4): experience, hashedEmail, name, gender\n",
      "\u001b[32mdbl\u001b[39m (2): played_hours, Age\n",
      "\u001b[33mlgl\u001b[39m (1): subscribe\n",
      "\n",
      "\u001b[36mℹ\u001b[39m Use `spec()` to retrieve the full column specification for this data.\n",
      "\u001b[36mℹ\u001b[39m Specify the column types or set `show_col_types = FALSE` to quiet this message.\n"
     ]
    },
    {
     "data": {
      "text/html": [
       "<table class=\"dataframe\">\n",
       "<caption>A tibble: 6 × 7</caption>\n",
       "<thead>\n",
       "\t<tr><th scope=col>experience</th><th scope=col>subscribe</th><th scope=col>hashedEmail</th><th scope=col>played_hours</th><th scope=col>name</th><th scope=col>gender</th><th scope=col>Age</th></tr>\n",
       "\t<tr><th scope=col>&lt;chr&gt;</th><th scope=col>&lt;lgl&gt;</th><th scope=col>&lt;chr&gt;</th><th scope=col>&lt;dbl&gt;</th><th scope=col>&lt;chr&gt;</th><th scope=col>&lt;chr&gt;</th><th scope=col>&lt;dbl&gt;</th></tr>\n",
       "</thead>\n",
       "<tbody>\n",
       "\t<tr><td>Pro    </td><td> TRUE</td><td>f6daba428a5e19a3d47574858c13550499be23603422e6a0ee9728f8b53e192d</td><td>30.3</td><td>Morgan   </td><td>Male  </td><td> 9</td></tr>\n",
       "\t<tr><td>Veteran</td><td> TRUE</td><td>f3c813577c458ba0dfef80996f8f32c93b6e8af1fa939732842f2312358a88e9</td><td> 3.8</td><td>Christian</td><td>Male  </td><td>17</td></tr>\n",
       "\t<tr><td>Veteran</td><td>FALSE</td><td>b674dd7ee0d24096d1c019615ce4d12b20fcbff12d79d3c5a9d2118eb7ccbb28</td><td> 0.0</td><td>Blake    </td><td>Male  </td><td>17</td></tr>\n",
       "\t<tr><td>Amateur</td><td> TRUE</td><td>23fe711e0e3b77f1da7aa221ab1192afe21648d47d2b4fa7a5a659ff443a0eb5</td><td> 0.7</td><td>Flora    </td><td>Female</td><td>21</td></tr>\n",
       "\t<tr><td>Regular</td><td> TRUE</td><td>7dc01f10bf20671ecfccdac23812b1b415acd42c2147cb0af4d48fcce2420f3e</td><td> 0.1</td><td>Kylie    </td><td>Male  </td><td>21</td></tr>\n",
       "\t<tr><td>Amateur</td><td> TRUE</td><td>f58aad5996a435f16b0284a3b267f973f9af99e7a89bee0430055a44fa92f977</td><td> 0.0</td><td>Adrian   </td><td>Female</td><td>17</td></tr>\n",
       "</tbody>\n",
       "</table>\n"
      ],
      "text/latex": [
       "A tibble: 6 × 7\n",
       "\\begin{tabular}{lllllll}\n",
       " experience & subscribe & hashedEmail & played\\_hours & name & gender & Age\\\\\n",
       " <chr> & <lgl> & <chr> & <dbl> & <chr> & <chr> & <dbl>\\\\\n",
       "\\hline\n",
       "\t Pro     &  TRUE & f6daba428a5e19a3d47574858c13550499be23603422e6a0ee9728f8b53e192d & 30.3 & Morgan    & Male   &  9\\\\\n",
       "\t Veteran &  TRUE & f3c813577c458ba0dfef80996f8f32c93b6e8af1fa939732842f2312358a88e9 &  3.8 & Christian & Male   & 17\\\\\n",
       "\t Veteran & FALSE & b674dd7ee0d24096d1c019615ce4d12b20fcbff12d79d3c5a9d2118eb7ccbb28 &  0.0 & Blake     & Male   & 17\\\\\n",
       "\t Amateur &  TRUE & 23fe711e0e3b77f1da7aa221ab1192afe21648d47d2b4fa7a5a659ff443a0eb5 &  0.7 & Flora     & Female & 21\\\\\n",
       "\t Regular &  TRUE & 7dc01f10bf20671ecfccdac23812b1b415acd42c2147cb0af4d48fcce2420f3e &  0.1 & Kylie     & Male   & 21\\\\\n",
       "\t Amateur &  TRUE & f58aad5996a435f16b0284a3b267f973f9af99e7a89bee0430055a44fa92f977 &  0.0 & Adrian    & Female & 17\\\\\n",
       "\\end{tabular}\n"
      ],
      "text/markdown": [
       "\n",
       "A tibble: 6 × 7\n",
       "\n",
       "| experience &lt;chr&gt; | subscribe &lt;lgl&gt; | hashedEmail &lt;chr&gt; | played_hours &lt;dbl&gt; | name &lt;chr&gt; | gender &lt;chr&gt; | Age &lt;dbl&gt; |\n",
       "|---|---|---|---|---|---|---|\n",
       "| Pro     |  TRUE | f6daba428a5e19a3d47574858c13550499be23603422e6a0ee9728f8b53e192d | 30.3 | Morgan    | Male   |  9 |\n",
       "| Veteran |  TRUE | f3c813577c458ba0dfef80996f8f32c93b6e8af1fa939732842f2312358a88e9 |  3.8 | Christian | Male   | 17 |\n",
       "| Veteran | FALSE | b674dd7ee0d24096d1c019615ce4d12b20fcbff12d79d3c5a9d2118eb7ccbb28 |  0.0 | Blake     | Male   | 17 |\n",
       "| Amateur |  TRUE | 23fe711e0e3b77f1da7aa221ab1192afe21648d47d2b4fa7a5a659ff443a0eb5 |  0.7 | Flora     | Female | 21 |\n",
       "| Regular |  TRUE | 7dc01f10bf20671ecfccdac23812b1b415acd42c2147cb0af4d48fcce2420f3e |  0.1 | Kylie     | Male   | 21 |\n",
       "| Amateur |  TRUE | f58aad5996a435f16b0284a3b267f973f9af99e7a89bee0430055a44fa92f977 |  0.0 | Adrian    | Female | 17 |\n",
       "\n"
      ],
      "text/plain": [
       "  experience subscribe\n",
       "1 Pro         TRUE    \n",
       "2 Veteran     TRUE    \n",
       "3 Veteran    FALSE    \n",
       "4 Amateur     TRUE    \n",
       "5 Regular     TRUE    \n",
       "6 Amateur     TRUE    \n",
       "  hashedEmail                                                      played_hours\n",
       "1 f6daba428a5e19a3d47574858c13550499be23603422e6a0ee9728f8b53e192d 30.3        \n",
       "2 f3c813577c458ba0dfef80996f8f32c93b6e8af1fa939732842f2312358a88e9  3.8        \n",
       "3 b674dd7ee0d24096d1c019615ce4d12b20fcbff12d79d3c5a9d2118eb7ccbb28  0.0        \n",
       "4 23fe711e0e3b77f1da7aa221ab1192afe21648d47d2b4fa7a5a659ff443a0eb5  0.7        \n",
       "5 7dc01f10bf20671ecfccdac23812b1b415acd42c2147cb0af4d48fcce2420f3e  0.1        \n",
       "6 f58aad5996a435f16b0284a3b267f973f9af99e7a89bee0430055a44fa92f977  0.0        \n",
       "  name      gender Age\n",
       "1 Morgan    Male    9 \n",
       "2 Christian Male   17 \n",
       "3 Blake     Male   17 \n",
       "4 Flora     Female 21 \n",
       "5 Kylie     Male   21 \n",
       "6 Adrian    Female 17 "
      ]
     },
     "metadata": {},
     "output_type": "display_data"
    },
    {
     "name": "stderr",
     "output_type": "stream",
     "text": [
      "\u001b[1mRows: \u001b[22m\u001b[34m1535\u001b[39m \u001b[1mColumns: \u001b[22m\u001b[34m5\u001b[39m\n",
      "\u001b[36m──\u001b[39m \u001b[1mColumn specification\u001b[22m \u001b[36m────────────────────────────────────────────────────────\u001b[39m\n",
      "\u001b[1mDelimiter:\u001b[22m \",\"\n",
      "\u001b[31mchr\u001b[39m (3): hashedEmail, start_time, end_time\n",
      "\u001b[32mdbl\u001b[39m (2): original_start_time, original_end_time\n",
      "\n",
      "\u001b[36mℹ\u001b[39m Use `spec()` to retrieve the full column specification for this data.\n",
      "\u001b[36mℹ\u001b[39m Specify the column types or set `show_col_types = FALSE` to quiet this message.\n"
     ]
    }
   ],
   "source": [
    "PLAYERS_DATA_URL = \"https://raw.githubusercontent.com/Bumblet3a/dsci-individual-project/refs/heads/main/players.csv\"\n",
    "SESSION_DATA_URL = \"https://raw.githubusercontent.com/Bumblet3a/dsci-individual-project/refs/heads/main/sessions.csv\"\n",
    "\n",
    "download.file(PLAYERS_DATA_URL, \"players.csv\")\n",
    "download.file(SESSION_DATA_URL, \"sessions.csv\")\n",
    "\n",
    "players <- read_csv(\"players.csv\")\n",
    "head(players)\n",
    "sessions_data <- read_csv(\"sessions.csv\")"
   ]
  },
  {
   "cell_type": "code",
   "execution_count": 7,
   "id": "bcaf93db-5a5d-4636-b73b-f1a982c44370",
   "metadata": {
    "vscode": {
     "languageId": "r"
    }
   },
   "outputs": [
    {
     "data": {
      "text/html": [
       "<table class=\"dataframe\">\n",
       "<caption>A data.frame: 1604 × 4</caption>\n",
       "<thead>\n",
       "\t<tr><th scope=col>Age</th><th scope=col>experience</th><th scope=col>subscribe</th><th scope=col>played_hours</th></tr>\n",
       "\t<tr><th scope=col>&lt;dbl&gt;</th><th scope=col>&lt;chr&gt;</th><th scope=col>&lt;lgl&gt;</th><th scope=col>&lt;dbl&gt;</th></tr>\n",
       "</thead>\n",
       "<tbody>\n",
       "\t<tr><td>20</td><td>Regular</td><td>TRUE</td><td>1.5</td></tr>\n",
       "\t<tr><td>20</td><td>Regular</td><td>TRUE</td><td>1.5</td></tr>\n",
       "\t<tr><td>17</td><td>Veteran</td><td>TRUE</td><td>0.0</td></tr>\n",
       "\t<tr><td>⋮</td><td>⋮</td><td>⋮</td><td>⋮</td></tr>\n",
       "\t<tr><td>23</td><td>Amateur </td><td>TRUE</td><td>56.1</td></tr>\n",
       "\t<tr><td>17</td><td>Amateur </td><td>TRUE</td><td> 0.1</td></tr>\n",
       "\t<tr><td>20</td><td>Beginner</td><td>TRUE</td><td> 1.1</td></tr>\n",
       "</tbody>\n",
       "</table>\n"
      ],
      "text/latex": [
       "A data.frame: 1604 × 4\n",
       "\\begin{tabular}{llll}\n",
       " Age & experience & subscribe & played\\_hours\\\\\n",
       " <dbl> & <chr> & <lgl> & <dbl>\\\\\n",
       "\\hline\n",
       "\t 20 & Regular & TRUE & 1.5\\\\\n",
       "\t 20 & Regular & TRUE & 1.5\\\\\n",
       "\t 17 & Veteran & TRUE & 0.0\\\\\n",
       "\t ⋮ & ⋮ & ⋮ & ⋮\\\\\n",
       "\t 23 & Amateur  & TRUE & 56.1\\\\\n",
       "\t 17 & Amateur  & TRUE &  0.1\\\\\n",
       "\t 20 & Beginner & TRUE &  1.1\\\\\n",
       "\\end{tabular}\n"
      ],
      "text/markdown": [
       "\n",
       "A data.frame: 1604 × 4\n",
       "\n",
       "| Age &lt;dbl&gt; | experience &lt;chr&gt; | subscribe &lt;lgl&gt; | played_hours &lt;dbl&gt; |\n",
       "|---|---|---|---|\n",
       "| 20 | Regular | TRUE | 1.5 |\n",
       "| 20 | Regular | TRUE | 1.5 |\n",
       "| 17 | Veteran | TRUE | 0.0 |\n",
       "| ⋮ | ⋮ | ⋮ | ⋮ |\n",
       "| 23 | Amateur  | TRUE | 56.1 |\n",
       "| 17 | Amateur  | TRUE |  0.1 |\n",
       "| 20 | Beginner | TRUE |  1.1 |\n",
       "\n"
      ],
      "text/plain": [
       "     Age experience subscribe played_hours\n",
       "1    20  Regular    TRUE      1.5         \n",
       "2    20  Regular    TRUE      1.5         \n",
       "3    17  Veteran    TRUE      0.0         \n",
       "⋮    ⋮   ⋮          ⋮         ⋮           \n",
       "1602 23  Amateur    TRUE      56.1        \n",
       "1603 17  Amateur    TRUE       0.1        \n",
       "1604 20  Beginner   TRUE       1.1        "
      ]
     },
     "metadata": {},
     "output_type": "display_data"
    }
   ],
   "source": [
    "player_sessions <- merge(sessions_data, players, all = TRUE)|>\n",
    "select(Age, experience, subscribe, played_hours)|>\n",
    "drop_na(Age:played_hours)\n",
    "player_sessions"
   ]
  },
  {
   "cell_type": "code",
   "execution_count": 8,
   "id": "ea883f69-ba6f-4718-a710-0d47b0da7ce9",
   "metadata": {
    "vscode": {
     "languageId": "r"
    }
   },
   "outputs": [
    {
     "data": {
      "text/html": [
       "<table class=\"dataframe\">\n",
       "<caption>A data.frame: 1604 × 4</caption>\n",
       "<thead>\n",
       "\t<tr><th scope=col>Age</th><th scope=col>experience</th><th scope=col>subscribe</th><th scope=col>played_hours</th></tr>\n",
       "\t<tr><th scope=col>&lt;dbl[,1]&gt;</th><th scope=col>&lt;chr&gt;</th><th scope=col>&lt;lgl&gt;</th><th scope=col>&lt;dbl[,1]&gt;</th></tr>\n",
       "</thead>\n",
       "<tbody>\n",
       "\t<tr><td> 0.1270154</td><td>Regular</td><td>TRUE</td><td>-1.122151</td></tr>\n",
       "\t<tr><td> 0.1270154</td><td>Regular</td><td>TRUE</td><td>-1.122151</td></tr>\n",
       "\t<tr><td>-0.5043878</td><td>Veteran</td><td>TRUE</td><td>-1.140283</td></tr>\n",
       "\t<tr><td>⋮</td><td>⋮</td><td>⋮</td><td>⋮</td></tr>\n",
       "\t<tr><td> 0.7584187</td><td>Amateur </td><td>TRUE</td><td>-0.4621379</td></tr>\n",
       "\t<tr><td>-0.5043878</td><td>Amateur </td><td>TRUE</td><td>-1.1390740</td></tr>\n",
       "\t<tr><td> 0.1270154</td><td>Beginner</td><td>TRUE</td><td>-1.1269858</td></tr>\n",
       "</tbody>\n",
       "</table>\n"
      ],
      "text/latex": [
       "A data.frame: 1604 × 4\n",
       "\\begin{tabular}{llll}\n",
       " Age & experience & subscribe & played\\_hours\\\\\n",
       " <dbl{[},1{]}> & <chr> & <lgl> & <dbl{[},1{]}>\\\\\n",
       "\\hline\n",
       "\t  0.1270154 & Regular & TRUE & -1.122151\\\\\n",
       "\t  0.1270154 & Regular & TRUE & -1.122151\\\\\n",
       "\t -0.5043878 & Veteran & TRUE & -1.140283\\\\\n",
       "\t ⋮ & ⋮ & ⋮ & ⋮\\\\\n",
       "\t  0.7584187 & Amateur  & TRUE & -0.4621379\\\\\n",
       "\t -0.5043878 & Amateur  & TRUE & -1.1390740\\\\\n",
       "\t  0.1270154 & Beginner & TRUE & -1.1269858\\\\\n",
       "\\end{tabular}\n"
      ],
      "text/markdown": [
       "\n",
       "A data.frame: 1604 × 4\n",
       "\n",
       "| Age &lt;dbl[,1]&gt; | experience &lt;chr&gt; | subscribe &lt;lgl&gt; | played_hours &lt;dbl[,1]&gt; |\n",
       "|---|---|---|---|\n",
       "|  0.1270154 | Regular | TRUE | -1.122151 |\n",
       "|  0.1270154 | Regular | TRUE | -1.122151 |\n",
       "| -0.5043878 | Veteran | TRUE | -1.140283 |\n",
       "| ⋮ | ⋮ | ⋮ | ⋮ |\n",
       "|  0.7584187 | Amateur  | TRUE | -0.4621379 |\n",
       "| -0.5043878 | Amateur  | TRUE | -1.1390740 |\n",
       "|  0.1270154 | Beginner | TRUE | -1.1269858 |\n",
       "\n"
      ],
      "text/plain": [
       "     Age        experience subscribe played_hours\n",
       "1     0.1270154 Regular    TRUE      -1.122151   \n",
       "2     0.1270154 Regular    TRUE      -1.122151   \n",
       "3    -0.5043878 Veteran    TRUE      -1.140283   \n",
       "⋮    ⋮          ⋮          ⋮         ⋮           \n",
       "1602  0.7584187 Amateur    TRUE      -0.4621379  \n",
       "1603 -0.5043878 Amateur    TRUE      -1.1390740  \n",
       "1604  0.1270154 Beginner   TRUE      -1.1269858  "
      ]
     },
     "metadata": {},
     "output_type": "display_data"
    }
   ],
   "source": [
    "players_scaled <- player_sessions|>\n",
    "mutate(Age = scale(Age, center = TRUE),\n",
    "       played_hours = scale(played_hours, center = TRUE))\n",
    "players_scaled"
   ]
  },
  {
   "cell_type": "code",
   "execution_count": 9,
   "id": "ece27db2-889c-40cd-a057-fce1a18a6d44",
   "metadata": {
    "vscode": {
     "languageId": "r"
    }
   },
   "outputs": [],
   "source": [
    "\n",
    "players_split <- initial_split(players_scaled, prop = 0.75, strata = subscribe)\n",
    "players_testing <- testing(players_split)\n",
    "players_training <- training(players_split)"
   ]
  },
  {
   "cell_type": "code",
   "execution_count": 18,
   "id": "349ee930-3f7c-483d-bf8b-f04ae4584355",
   "metadata": {
    "vscode": {
     "languageId": "r"
    }
   },
   "outputs": [
    {
     "name": "stderr",
     "output_type": "stream",
     "text": [
      "→ \u001b[31m\u001b[1mA\u001b[22m\u001b[39m | \u001b[31merror\u001b[39m:   \u001b[1m\u001b[22mFailed to compute `rmse()`.\n",
      "               \u001b[1mCaused by error:\u001b[22m\n",
      "               \u001b[1m\u001b[22m\u001b[33m!\u001b[39m `truth` should be a numeric vector, not a numeric matrix.\n",
      "\n",
      "There were issues with some computations   \u001b[1m\u001b[31mA\u001b[39m\u001b[22m: x1\n",
      "\n",
      "There were issues with some computations   \u001b[1m\u001b[31mA\u001b[39m\u001b[22m: x2\n",
      "\n",
      "There were issues with some computations   \u001b[1m\u001b[31mA\u001b[39m\u001b[22m: x5\n",
      "\n",
      "\n",
      "\n",
      "Warning message:\n",
      "“All models failed. Run `show_notes(.Last.tune.result)` for more information.”\n"
     ]
    },
    {
     "ename": "ERROR",
     "evalue": "\u001b[1m\u001b[33mError\u001b[39m in `estimate_tune_results()`:\u001b[22m\n\u001b[33m!\u001b[39m All models failed. Run `show_notes(.Last.tune.result)` for more information.\n",
     "output_type": "error",
     "traceback": [
      "\u001b[1m\u001b[33mError\u001b[39m in `estimate_tune_results()`:\u001b[22m\n\u001b[33m!\u001b[39m All models failed. Run `show_notes(.Last.tune.result)` for more information.\nTraceback:\n",
      "1. collect_metrics(tune_grid(play_workflow, resamples = play_vfold, \n .     grid = gridvals))",
      "2. collect_metrics.tune_results(tune_grid(play_workflow, resamples = play_vfold, \n .     grid = gridvals))",
      "3. estimate_tune_results(x)",
      "4. rlang::abort(\"All models failed. Run `show_notes(.Last.tune.result)` for more information.\")",
      "5. signal_abort(cnd, .file)"
     ]
    }
   ],
   "source": [
    "\n",
    "players_model <- nearest_neighbor(weight_func = \"rectangular\",\n",
    "                  neighbors = tune()) |>\n",
    "                set_engine(\"kknn\") |>\n",
    "                set_mode(\"regression\")\n",
    "\n",
    "\n",
    "play_recipe <- recipe(played_hours ~ ., data = players_training) |>\n",
    " step_scale(Age) |>\n",
    " step_center(Age)\n",
    "\n",
    "\n",
    "play_vfold <- vfold_cv(players_training, v = 5, strata = played_hours)\n",
    "\n",
    "\n",
    "play_workflow <- workflow() |>\n",
    "add_recipe(play_recipe) |>\n",
    "add_model(players_model)\n",
    "\n",
    "\n",
    "gridvals <- tibble(neighbors = seq(from = 1, to = 81, by = 10))\n",
    "\n",
    "\n",
    "play_results <- tune_grid(\n",
    "  play_workflow,\n",
    "  resamples = play_vfold,\n",
    "  grid = gridvals) |>\n",
    "  collect_metrics()\n",
    "\n",
    "play_results\n"
   ]
  },
  {
   "cell_type": "code",
   "execution_count": 19,
   "id": "95f5b80a-a5f3-45aa-8d54-fa2f468d2512",
   "metadata": {
    "vscode": {
     "languageId": "r"
    }
   },
   "outputs": [
    {
     "ename": "ERROR",
     "evalue": "Error in eval(expr, envir, enclos): object 'play_results' not found\n",
     "output_type": "error",
     "traceback": [
      "Error in eval(expr, envir, enclos): object 'play_results' not found\nTraceback:\n",
      "1. slice_min(filter(play_results, .metric == \"rmse\"), mean, n = 1)",
      "2. filter(play_results, .metric == \"rmse\")"
     ]
    }
   ],
   "source": [
    "play_min <- play_results|>\n",
    "filter(.metric == \"rmse\")|>\n",
    "slice_min(mean, n = 1)\n",
    "play_min"
   ]
  },
  {
   "cell_type": "code",
   "execution_count": null,
   "id": "709a759a-3575-4102-ae4e-6055209eee88",
   "metadata": {
    "vscode": {
     "languageId": "r"
    }
   },
   "outputs": [],
   "source": [
    "players_pred_accuracy <- players_prediction|>\n",
    "metrics(truth = subscribe, estimate = .pred_class)\n",
    "players_pred_accuracy"
   ]
  },
  {
   "cell_type": "code",
   "execution_count": null,
   "id": "7253af2b-3378-4ae2-ad22-775493a71aa5",
   "metadata": {
    "vscode": {
     "languageId": "r"
    }
   },
   "outputs": [],
   "source": [
    "players_mat <- players_prediction|>\n",
    "conf_mat(truth = subscribe, estimate = .pred_class)\n",
    "players_mat"
   ]
  },
  {
   "cell_type": "code",
   "execution_count": null,
   "id": "4232a108-17c8-4f49-8e46-23ee76c09227",
   "metadata": {
    "vscode": {
     "languageId": "r"
    }
   },
   "outputs": [],
   "source": [
    "players_vfold <- vfold_cv(players_training, v = 5, strata = subscribe)\n",
    "\n",
    "\n",
    "players_resample <- workflow()|>\n",
    "add_recipe(players_recipe)|>\n",
    "add_model(players_model)|>\n",
    "fit_resamples(resamples = players_vfold)|>\n",
    "collect_metrics()\n",
    "players_resample"
   ]
  },
  {
   "cell_type": "code",
   "execution_count": null,
   "id": "067bd48a-ae93-4831-8b10-97922478d51d",
   "metadata": {
    "vscode": {
     "languageId": "r"
    }
   },
   "outputs": [],
   "source": [
    "players_tune <-  nearest_neighbor(weight_func = \"rectangular\", neighbors = tune())|>\n",
    "set_engine(\"kknn\")|>\n",
    "set_mode(\"regression\")\n",
    "\n",
    "play_fit <- workflow()|>\n",
    "add_recipe(play_recipe)|>\n",
    "add_model(play_spec)|>\n",
    "fit(data = play_sessions_training)\n",
    "\n",
    "players_tune_results <- workflow()|>\n",
    "add_recipe(players_recipe)|>\n",
    "add_model(players_tune)|>\n",
    "tune_grid(resamples = players_vfold, grid = players_grid)|>\n",
    "collect_metrics()\n",
    "players_tune_results"
   ]
  },
  {
   "cell_type": "code",
   "execution_count": null,
   "id": "8ab70e34-9a74-4394-86fd-bf8873b754ae",
   "metadata": {
    "vscode": {
     "languageId": "r"
    }
   },
   "outputs": [],
   "source": [
    "sessions <- sessions_data |>\n",
    "    separate(start_time, into = c(\"Date\", \"Time\"), sep = \" \") |>\n",
    "    separate(Date, into = c(\"Day\", \"Month\", \"Year\"), sep = \"/\") |>\n",
    "    separate(end_time, into = c(\"EDate\", \"ETime\"), sep = \" \") |>\n",
    "    separate(EDate, into = c(\"EDay\", \"EMonth\", \"EYear\"), sep = \"/\") |>\n",
    "    mutate(Day = as.numeric(Day), EDay = as.numeric(EDay),\n",
    "           Month = as.numeric(Month), EMonth = as.numeric(EMonth), \n",
    "           Year = as.numeric(Year), EYear = as.numeric(EYear)) |>\n",
    "    separate(Time, into = c(\"Hour\", \"Minute\"), sep = \":\") |>\n",
    "    separate(ETime, into = c(\"EHour\", \"EMinute\"), sep = \":\") |>\n",
    "    mutate(Hour = as.numeric(Hour), EHour = as.numeric(EHour),\n",
    "           Minute = as.numeric(Minute), EMinute = as.numeric(EMinute)) |>\n",
    "\n",
    "    #Filter out rows that contain sessions that lasted more than a day(these data points are probably outliers)\n",
    "\n",
    "    filter(Day==EDay & Month==EMonth & Year==EYear)\n",
    "\n",
    "\n",
    "\n",
    "sessions"
   ]
  },
  {
   "cell_type": "code",
   "execution_count": null,
   "id": "7b7e5870",
   "metadata": {
    "vscode": {
     "languageId": "r"
    }
   },
   "outputs": [],
   "source": [
    "sessions_time_diff <- sessions |>\n",
    "    mutate(time_diff = (EHour - Hour) * 60 + (EMinute - Minute))\n",
    "\n",
    "\n",
    "time_stats <- sessions_time_diff |>\n",
    "    summarize(average_time = mean(time_diff, na.rm = TRUE),\n",
    "              median_time = median(time_diff, na.rm = TRUE),\n",
    "              sd_time = sd(time_diff, na.rm = TRUE))\n",
    "\n",
    "\n",
    "sessions_visualization <- sessions_time_diff |>\n",
    "    ggplot(aes(x = time_diff)) +\n",
    "    geom_histogram(binwidth = 10) +\n",
    "    labs(title = \"Distribution of Session Time Differences\",\n",
    "         x = \"Time Difference (minutes)\",\n",
    "         y = \"Count\")\n",
    "\n",
    "sessions_visualization\n",
    "time_stats\n",
    "\n",
    "# Skewed right distribution where most people had sessions that lasted less than 60 minutes"
   ]
  },
  {
   "cell_type": "markdown",
   "id": "aa9cc5a1",
   "metadata": {},
   "source": [
    "## Sessions Data Analysis\n",
    "\n",
    "# Distribution Plot:\n",
    "To create a distribution plot that visualizes the time differences in players' sessions, a new data frame was created with a column that calculates the time length of sessions by finding the difference between the start and ending hours, multiplying by 60, and adding the difference between the start and ending minutes. By using this column as the x-axis of a historgram with counts on the y-axis, the distribution of the length of player time sessions can be seen. The histogram depicts a skewed right distribution that has a mean play time of around 46 minutes, median time of 26 minutes, and standard deviation of 51 minutes. This large difference between the mean and median values of session time indicates that a majority of session times lie under 30 minutes, while large outlier session times are influencing the mean by increasing the overall average for the session times."
   ]
  },
  {
   "cell_type": "markdown",
   "id": "2d0936e6",
   "metadata": {},
   "source": []
  }
 ],
 "metadata": {
  "kernelspec": {
   "display_name": "R",
   "language": "R",
   "name": "ir"
  },
  "language_info": {
   "codemirror_mode": "r",
   "file_extension": ".r",
   "mimetype": "text/x-r-source",
   "name": "R",
   "pygments_lexer": "r",
   "version": "4.3.3"
  }
 },
 "nbformat": 4,
 "nbformat_minor": 5
}
