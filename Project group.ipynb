{
 "cells": [
  {
   "cell_type": "markdown",
   "id": "360b67e6-2ee4-4aac-bb5a-02008aad03f1",
   "metadata": {},
   "source": [
    "# "
   ]
  },
  {
   "cell_type": "code",
   "execution_count": 6,
   "id": "8bf32b3d-93d0-4cc2-b597-b1d25f99a5a3",
   "metadata": {
    "vscode": {
     "languageId": "r"
    }
   },
   "outputs": [
    {
     "name": "stderr",
     "output_type": "stream",
     "text": [
      "── \u001b[1mAttaching core tidyverse packages\u001b[22m ──────────────────────── tidyverse 2.0.0 ──\n",
      "\u001b[32m✔\u001b[39m \u001b[34mdplyr    \u001b[39m 1.1.4     \u001b[32m✔\u001b[39m \u001b[34mreadr    \u001b[39m 2.1.5\n",
      "\u001b[32m✔\u001b[39m \u001b[34mforcats  \u001b[39m 1.0.0     \u001b[32m✔\u001b[39m \u001b[34mstringr  \u001b[39m 1.5.1\n",
      "\u001b[32m✔\u001b[39m \u001b[34mggplot2  \u001b[39m 3.5.1     \u001b[32m✔\u001b[39m \u001b[34mtibble   \u001b[39m 3.2.1\n",
      "\u001b[32m✔\u001b[39m \u001b[34mlubridate\u001b[39m 1.9.4     \u001b[32m✔\u001b[39m \u001b[34mtidyr    \u001b[39m 1.3.1\n",
      "\u001b[32m✔\u001b[39m \u001b[34mpurrr    \u001b[39m 1.0.4     \n",
      "── \u001b[1mConflicts\u001b[22m ────────────────────────────────────────── tidyverse_conflicts() ──\n",
      "\u001b[31m✖\u001b[39m \u001b[34mdplyr\u001b[39m::\u001b[32mfilter()\u001b[39m masks \u001b[34mstats\u001b[39m::filter()\n",
      "\u001b[31m✖\u001b[39m \u001b[34mdplyr\u001b[39m::\u001b[32mlag()\u001b[39m    masks \u001b[34mstats\u001b[39m::lag()\n",
      "\u001b[36mℹ\u001b[39m Use the conflicted package (\u001b[3m\u001b[34m<http://conflicted.r-lib.org/>\u001b[39m\u001b[23m) to force all conflicts to become errors\n",
      "── \u001b[1mAttaching packages\u001b[22m ────────────────────────────────────── tidymodels 1.3.0 ──\n",
      "\n",
      "\u001b[32m✔\u001b[39m \u001b[34mbroom       \u001b[39m 1.0.8     \u001b[32m✔\u001b[39m \u001b[34mrsample     \u001b[39m 1.3.0\n",
      "\u001b[32m✔\u001b[39m \u001b[34mdials       \u001b[39m 1.4.0     \u001b[32m✔\u001b[39m \u001b[34mtune        \u001b[39m 1.3.0\n",
      "\u001b[32m✔\u001b[39m \u001b[34minfer       \u001b[39m 1.0.7     \u001b[32m✔\u001b[39m \u001b[34mworkflows   \u001b[39m 1.2.0\n",
      "\u001b[32m✔\u001b[39m \u001b[34mmodeldata   \u001b[39m 1.4.0     \u001b[32m✔\u001b[39m \u001b[34mworkflowsets\u001b[39m 1.1.0\n",
      "\u001b[32m✔\u001b[39m \u001b[34mparsnip     \u001b[39m 1.3.1     \u001b[32m✔\u001b[39m \u001b[34myardstick   \u001b[39m 1.3.2\n",
      "\u001b[32m✔\u001b[39m \u001b[34mrecipes     \u001b[39m 1.2.1     \n",
      "\n",
      "── \u001b[1mConflicts\u001b[22m ───────────────────────────────────────── tidymodels_conflicts() ──\n",
      "\u001b[31m✖\u001b[39m \u001b[34mscales\u001b[39m::\u001b[32mdiscard()\u001b[39m masks \u001b[34mpurrr\u001b[39m::discard()\n",
      "\u001b[31m✖\u001b[39m \u001b[34mdplyr\u001b[39m::\u001b[32mfilter()\u001b[39m   masks \u001b[34mstats\u001b[39m::filter()\n",
      "\u001b[31m✖\u001b[39m \u001b[34mrecipes\u001b[39m::\u001b[32mfixed()\u001b[39m  masks \u001b[34mstringr\u001b[39m::fixed()\n",
      "\u001b[31m✖\u001b[39m \u001b[34mdplyr\u001b[39m::\u001b[32mlag()\u001b[39m      masks \u001b[34mstats\u001b[39m::lag()\n",
      "\u001b[31m✖\u001b[39m \u001b[34myardstick\u001b[39m::\u001b[32mspec()\u001b[39m masks \u001b[34mreadr\u001b[39m::spec()\n",
      "\u001b[31m✖\u001b[39m \u001b[34mrecipes\u001b[39m::\u001b[32mstep()\u001b[39m   masks \u001b[34mstats\u001b[39m::step()\n",
      "\n"
     ]
    }
   ],
   "source": [
    "library(tidyverse)\n",
    "library(repr)\n",
    "library(tidymodels)\n",
    "library(recipes)\n",
    "options(repr.matrix.max.rows = 6)"
   ]
  },
  {
   "cell_type": "code",
   "execution_count": 28,
   "id": "4fe51c62-7bf1-448a-ab45-09dd6b6df629",
   "metadata": {
    "vscode": {
     "languageId": "r"
    }
   },
   "outputs": [
    {
     "name": "stderr",
     "output_type": "stream",
     "text": [
      "\u001b[1mRows: \u001b[22m\u001b[34m196\u001b[39m \u001b[1mColumns: \u001b[22m\u001b[34m7\u001b[39m\n",
      "\u001b[36m──\u001b[39m \u001b[1mColumn specification\u001b[22m \u001b[36m────────────────────────────────────────────────────────\u001b[39m\n",
      "\u001b[1mDelimiter:\u001b[22m \",\"\n",
      "\u001b[31mchr\u001b[39m (4): experience, hashedEmail, name, gender\n",
      "\u001b[32mdbl\u001b[39m (2): played_hours, Age\n",
      "\u001b[33mlgl\u001b[39m (1): subscribe\n",
      "\n",
      "\u001b[36mℹ\u001b[39m Use `spec()` to retrieve the full column specification for this data.\n",
      "\u001b[36mℹ\u001b[39m Specify the column types or set `show_col_types = FALSE` to quiet this message.\n"
     ]
    },
    {
     "data": {
      "text/html": [
       "<table class=\"dataframe\">\n",
       "<caption>A tibble: 6 × 7</caption>\n",
       "<thead>\n",
       "\t<tr><th scope=col>experience</th><th scope=col>subscribe</th><th scope=col>hashedEmail</th><th scope=col>played_hours</th><th scope=col>name</th><th scope=col>gender</th><th scope=col>Age</th></tr>\n",
       "\t<tr><th scope=col>&lt;chr&gt;</th><th scope=col>&lt;lgl&gt;</th><th scope=col>&lt;chr&gt;</th><th scope=col>&lt;dbl&gt;</th><th scope=col>&lt;chr&gt;</th><th scope=col>&lt;chr&gt;</th><th scope=col>&lt;dbl&gt;</th></tr>\n",
       "</thead>\n",
       "<tbody>\n",
       "\t<tr><td>Pro    </td><td> TRUE</td><td>f6daba428a5e19a3d47574858c13550499be23603422e6a0ee9728f8b53e192d</td><td>30.3</td><td>Morgan   </td><td>Male  </td><td> 9</td></tr>\n",
       "\t<tr><td>Veteran</td><td> TRUE</td><td>f3c813577c458ba0dfef80996f8f32c93b6e8af1fa939732842f2312358a88e9</td><td> 3.8</td><td>Christian</td><td>Male  </td><td>17</td></tr>\n",
       "\t<tr><td>Veteran</td><td>FALSE</td><td>b674dd7ee0d24096d1c019615ce4d12b20fcbff12d79d3c5a9d2118eb7ccbb28</td><td> 0.0</td><td>Blake    </td><td>Male  </td><td>17</td></tr>\n",
       "\t<tr><td>Amateur</td><td> TRUE</td><td>23fe711e0e3b77f1da7aa221ab1192afe21648d47d2b4fa7a5a659ff443a0eb5</td><td> 0.7</td><td>Flora    </td><td>Female</td><td>21</td></tr>\n",
       "\t<tr><td>Regular</td><td> TRUE</td><td>7dc01f10bf20671ecfccdac23812b1b415acd42c2147cb0af4d48fcce2420f3e</td><td> 0.1</td><td>Kylie    </td><td>Male  </td><td>21</td></tr>\n",
       "\t<tr><td>Amateur</td><td> TRUE</td><td>f58aad5996a435f16b0284a3b267f973f9af99e7a89bee0430055a44fa92f977</td><td> 0.0</td><td>Adrian   </td><td>Female</td><td>17</td></tr>\n",
       "</tbody>\n",
       "</table>\n"
      ],
      "text/latex": [
       "A tibble: 6 × 7\n",
       "\\begin{tabular}{lllllll}\n",
       " experience & subscribe & hashedEmail & played\\_hours & name & gender & Age\\\\\n",
       " <chr> & <lgl> & <chr> & <dbl> & <chr> & <chr> & <dbl>\\\\\n",
       "\\hline\n",
       "\t Pro     &  TRUE & f6daba428a5e19a3d47574858c13550499be23603422e6a0ee9728f8b53e192d & 30.3 & Morgan    & Male   &  9\\\\\n",
       "\t Veteran &  TRUE & f3c813577c458ba0dfef80996f8f32c93b6e8af1fa939732842f2312358a88e9 &  3.8 & Christian & Male   & 17\\\\\n",
       "\t Veteran & FALSE & b674dd7ee0d24096d1c019615ce4d12b20fcbff12d79d3c5a9d2118eb7ccbb28 &  0.0 & Blake     & Male   & 17\\\\\n",
       "\t Amateur &  TRUE & 23fe711e0e3b77f1da7aa221ab1192afe21648d47d2b4fa7a5a659ff443a0eb5 &  0.7 & Flora     & Female & 21\\\\\n",
       "\t Regular &  TRUE & 7dc01f10bf20671ecfccdac23812b1b415acd42c2147cb0af4d48fcce2420f3e &  0.1 & Kylie     & Male   & 21\\\\\n",
       "\t Amateur &  TRUE & f58aad5996a435f16b0284a3b267f973f9af99e7a89bee0430055a44fa92f977 &  0.0 & Adrian    & Female & 17\\\\\n",
       "\\end{tabular}\n"
      ],
      "text/markdown": [
       "\n",
       "A tibble: 6 × 7\n",
       "\n",
       "| experience &lt;chr&gt; | subscribe &lt;lgl&gt; | hashedEmail &lt;chr&gt; | played_hours &lt;dbl&gt; | name &lt;chr&gt; | gender &lt;chr&gt; | Age &lt;dbl&gt; |\n",
       "|---|---|---|---|---|---|---|\n",
       "| Pro     |  TRUE | f6daba428a5e19a3d47574858c13550499be23603422e6a0ee9728f8b53e192d | 30.3 | Morgan    | Male   |  9 |\n",
       "| Veteran |  TRUE | f3c813577c458ba0dfef80996f8f32c93b6e8af1fa939732842f2312358a88e9 |  3.8 | Christian | Male   | 17 |\n",
       "| Veteran | FALSE | b674dd7ee0d24096d1c019615ce4d12b20fcbff12d79d3c5a9d2118eb7ccbb28 |  0.0 | Blake     | Male   | 17 |\n",
       "| Amateur |  TRUE | 23fe711e0e3b77f1da7aa221ab1192afe21648d47d2b4fa7a5a659ff443a0eb5 |  0.7 | Flora     | Female | 21 |\n",
       "| Regular |  TRUE | 7dc01f10bf20671ecfccdac23812b1b415acd42c2147cb0af4d48fcce2420f3e |  0.1 | Kylie     | Male   | 21 |\n",
       "| Amateur |  TRUE | f58aad5996a435f16b0284a3b267f973f9af99e7a89bee0430055a44fa92f977 |  0.0 | Adrian    | Female | 17 |\n",
       "\n"
      ],
      "text/plain": [
       "  experience subscribe\n",
       "1 Pro         TRUE    \n",
       "2 Veteran     TRUE    \n",
       "3 Veteran    FALSE    \n",
       "4 Amateur     TRUE    \n",
       "5 Regular     TRUE    \n",
       "6 Amateur     TRUE    \n",
       "  hashedEmail                                                      played_hours\n",
       "1 f6daba428a5e19a3d47574858c13550499be23603422e6a0ee9728f8b53e192d 30.3        \n",
       "2 f3c813577c458ba0dfef80996f8f32c93b6e8af1fa939732842f2312358a88e9  3.8        \n",
       "3 b674dd7ee0d24096d1c019615ce4d12b20fcbff12d79d3c5a9d2118eb7ccbb28  0.0        \n",
       "4 23fe711e0e3b77f1da7aa221ab1192afe21648d47d2b4fa7a5a659ff443a0eb5  0.7        \n",
       "5 7dc01f10bf20671ecfccdac23812b1b415acd42c2147cb0af4d48fcce2420f3e  0.1        \n",
       "6 f58aad5996a435f16b0284a3b267f973f9af99e7a89bee0430055a44fa92f977  0.0        \n",
       "  name      gender Age\n",
       "1 Morgan    Male    9 \n",
       "2 Christian Male   17 \n",
       "3 Blake     Male   17 \n",
       "4 Flora     Female 21 \n",
       "5 Kylie     Male   21 \n",
       "6 Adrian    Female 17 "
      ]
     },
     "metadata": {},
     "output_type": "display_data"
    },
    {
     "name": "stderr",
     "output_type": "stream",
     "text": [
      "\u001b[1mRows: \u001b[22m\u001b[34m1535\u001b[39m \u001b[1mColumns: \u001b[22m\u001b[34m5\u001b[39m\n",
      "\u001b[36m──\u001b[39m \u001b[1mColumn specification\u001b[22m \u001b[36m────────────────────────────────────────────────────────\u001b[39m\n",
      "\u001b[1mDelimiter:\u001b[22m \",\"\n",
      "\u001b[31mchr\u001b[39m (3): hashedEmail, start_time, end_time\n",
      "\u001b[32mdbl\u001b[39m (2): original_start_time, original_end_time\n",
      "\n",
      "\u001b[36mℹ\u001b[39m Use `spec()` to retrieve the full column specification for this data.\n",
      "\u001b[36mℹ\u001b[39m Specify the column types or set `show_col_types = FALSE` to quiet this message.\n"
     ]
    }
   ],
   "source": [
    "PLAYERS_DATA_URL = \"https://raw.githubusercontent.com/Bumblet3a/dsci-individual-project/refs/heads/main/players.csv\"\n",
    "SESSION_DATA_URL = \"https://raw.githubusercontent.com/Bumblet3a/dsci-individual-project/refs/heads/main/sessions.csv\"\n",
    "\n",
    "download.file(PLAYERS_DATA_URL, \"players.csv\")\n",
    "download.file(SESSION_DATA_URL, \"sessions.csv\")\n",
    "\n",
    "players <- read_csv(\"players.csv\")\n",
    "head(players)\n",
    "sessions_data <- read_csv(\"sessions.csv\")"
   ]
  },
  {
   "cell_type": "code",
   "execution_count": 11,
   "id": "bcaf93db-5a5d-4636-b73b-f1a982c44370",
   "metadata": {
    "vscode": {
     "languageId": "r"
    }
   },
   "outputs": [
    {
     "data": {
      "text/html": [
       "<table class=\"dataframe\">\n",
       "<caption>A data.frame: 1604 × 4</caption>\n",
       "<thead>\n",
       "\t<tr><th scope=col>Age</th><th scope=col>experience</th><th scope=col>subscribe</th><th scope=col>played_hours</th></tr>\n",
       "\t<tr><th scope=col>&lt;dbl&gt;</th><th scope=col>&lt;chr&gt;</th><th scope=col>&lt;lgl&gt;</th><th scope=col>&lt;dbl&gt;</th></tr>\n",
       "</thead>\n",
       "<tbody>\n",
       "\t<tr><td>20</td><td>Regular</td><td>TRUE</td><td>1.5</td></tr>\n",
       "\t<tr><td>20</td><td>Regular</td><td>TRUE</td><td>1.5</td></tr>\n",
       "\t<tr><td>17</td><td>Veteran</td><td>TRUE</td><td>0.0</td></tr>\n",
       "\t<tr><td>⋮</td><td>⋮</td><td>⋮</td><td>⋮</td></tr>\n",
       "\t<tr><td>23</td><td>Amateur </td><td>TRUE</td><td>56.1</td></tr>\n",
       "\t<tr><td>17</td><td>Amateur </td><td>TRUE</td><td> 0.1</td></tr>\n",
       "\t<tr><td>20</td><td>Beginner</td><td>TRUE</td><td> 1.1</td></tr>\n",
       "</tbody>\n",
       "</table>\n"
      ],
      "text/latex": [
       "A data.frame: 1604 × 4\n",
       "\\begin{tabular}{llll}\n",
       " Age & experience & subscribe & played\\_hours\\\\\n",
       " <dbl> & <chr> & <lgl> & <dbl>\\\\\n",
       "\\hline\n",
       "\t 20 & Regular & TRUE & 1.5\\\\\n",
       "\t 20 & Regular & TRUE & 1.5\\\\\n",
       "\t 17 & Veteran & TRUE & 0.0\\\\\n",
       "\t ⋮ & ⋮ & ⋮ & ⋮\\\\\n",
       "\t 23 & Amateur  & TRUE & 56.1\\\\\n",
       "\t 17 & Amateur  & TRUE &  0.1\\\\\n",
       "\t 20 & Beginner & TRUE &  1.1\\\\\n",
       "\\end{tabular}\n"
      ],
      "text/markdown": [
       "\n",
       "A data.frame: 1604 × 4\n",
       "\n",
       "| Age &lt;dbl&gt; | experience &lt;chr&gt; | subscribe &lt;lgl&gt; | played_hours &lt;dbl&gt; |\n",
       "|---|---|---|---|\n",
       "| 20 | Regular | TRUE | 1.5 |\n",
       "| 20 | Regular | TRUE | 1.5 |\n",
       "| 17 | Veteran | TRUE | 0.0 |\n",
       "| ⋮ | ⋮ | ⋮ | ⋮ |\n",
       "| 23 | Amateur  | TRUE | 56.1 |\n",
       "| 17 | Amateur  | TRUE |  0.1 |\n",
       "| 20 | Beginner | TRUE |  1.1 |\n",
       "\n"
      ],
      "text/plain": [
       "     Age experience subscribe played_hours\n",
       "1    20  Regular    TRUE      1.5         \n",
       "2    20  Regular    TRUE      1.5         \n",
       "3    17  Veteran    TRUE      0.0         \n",
       "⋮    ⋮   ⋮          ⋮         ⋮           \n",
       "1602 23  Amateur    TRUE      56.1        \n",
       "1603 17  Amateur    TRUE       0.1        \n",
       "1604 20  Beginner   TRUE       1.1        "
      ]
     },
     "metadata": {},
     "output_type": "display_data"
    }
   ],
   "source": [
    "player_sessions <- merge(sessions, players, all = TRUE)|>\n",
    "select(Age, experience, subscribe, played_hours)|>\n",
    "drop_na(Age:played_hours)\n",
    "player_sessions"
   ]
  },
  {
   "cell_type": "code",
   "execution_count": 12,
   "id": "ea883f69-ba6f-4718-a710-0d47b0da7ce9",
   "metadata": {
    "vscode": {
     "languageId": "r"
    }
   },
   "outputs": [
    {
     "data": {
      "text/html": [
       "<table class=\"dataframe\">\n",
       "<caption>A data.frame: 1604 × 4</caption>\n",
       "<thead>\n",
       "\t<tr><th scope=col>Age</th><th scope=col>experience</th><th scope=col>subscribe</th><th scope=col>played_hours</th></tr>\n",
       "\t<tr><th scope=col>&lt;dbl[,1]&gt;</th><th scope=col>&lt;chr&gt;</th><th scope=col>&lt;lgl&gt;</th><th scope=col>&lt;dbl[,1]&gt;</th></tr>\n",
       "</thead>\n",
       "<tbody>\n",
       "\t<tr><td> 0.1270154</td><td>Regular</td><td>TRUE</td><td>-1.122151</td></tr>\n",
       "\t<tr><td> 0.1270154</td><td>Regular</td><td>TRUE</td><td>-1.122151</td></tr>\n",
       "\t<tr><td>-0.5043878</td><td>Veteran</td><td>TRUE</td><td>-1.140283</td></tr>\n",
       "\t<tr><td>⋮</td><td>⋮</td><td>⋮</td><td>⋮</td></tr>\n",
       "\t<tr><td> 0.7584187</td><td>Amateur </td><td>TRUE</td><td>-0.4621379</td></tr>\n",
       "\t<tr><td>-0.5043878</td><td>Amateur </td><td>TRUE</td><td>-1.1390740</td></tr>\n",
       "\t<tr><td> 0.1270154</td><td>Beginner</td><td>TRUE</td><td>-1.1269858</td></tr>\n",
       "</tbody>\n",
       "</table>\n"
      ],
      "text/latex": [
       "A data.frame: 1604 × 4\n",
       "\\begin{tabular}{llll}\n",
       " Age & experience & subscribe & played\\_hours\\\\\n",
       " <dbl{[},1{]}> & <chr> & <lgl> & <dbl{[},1{]}>\\\\\n",
       "\\hline\n",
       "\t  0.1270154 & Regular & TRUE & -1.122151\\\\\n",
       "\t  0.1270154 & Regular & TRUE & -1.122151\\\\\n",
       "\t -0.5043878 & Veteran & TRUE & -1.140283\\\\\n",
       "\t ⋮ & ⋮ & ⋮ & ⋮\\\\\n",
       "\t  0.7584187 & Amateur  & TRUE & -0.4621379\\\\\n",
       "\t -0.5043878 & Amateur  & TRUE & -1.1390740\\\\\n",
       "\t  0.1270154 & Beginner & TRUE & -1.1269858\\\\\n",
       "\\end{tabular}\n"
      ],
      "text/markdown": [
       "\n",
       "A data.frame: 1604 × 4\n",
       "\n",
       "| Age &lt;dbl[,1]&gt; | experience &lt;chr&gt; | subscribe &lt;lgl&gt; | played_hours &lt;dbl[,1]&gt; |\n",
       "|---|---|---|---|\n",
       "|  0.1270154 | Regular | TRUE | -1.122151 |\n",
       "|  0.1270154 | Regular | TRUE | -1.122151 |\n",
       "| -0.5043878 | Veteran | TRUE | -1.140283 |\n",
       "| ⋮ | ⋮ | ⋮ | ⋮ |\n",
       "|  0.7584187 | Amateur  | TRUE | -0.4621379 |\n",
       "| -0.5043878 | Amateur  | TRUE | -1.1390740 |\n",
       "|  0.1270154 | Beginner | TRUE | -1.1269858 |\n",
       "\n"
      ],
      "text/plain": [
       "     Age        experience subscribe played_hours\n",
       "1     0.1270154 Regular    TRUE      -1.122151   \n",
       "2     0.1270154 Regular    TRUE      -1.122151   \n",
       "3    -0.5043878 Veteran    TRUE      -1.140283   \n",
       "⋮    ⋮          ⋮          ⋮         ⋮           \n",
       "1602  0.7584187 Amateur    TRUE      -0.4621379  \n",
       "1603 -0.5043878 Amateur    TRUE      -1.1390740  \n",
       "1604  0.1270154 Beginner   TRUE      -1.1269858  "
      ]
     },
     "metadata": {},
     "output_type": "display_data"
    }
   ],
   "source": [
    "players_scaled <- player_sessions|>\n",
    "mutate(Age = scale(Age, center = TRUE),\n",
    "       played_hours = scale(played_hours, center = TRUE))\n",
    "players_scaled"
   ]
  },
  {
   "cell_type": "code",
   "execution_count": 13,
   "id": "ece27db2-889c-40cd-a057-fce1a18a6d44",
   "metadata": {
    "vscode": {
     "languageId": "r"
    }
   },
   "outputs": [],
   "source": [
    "\n",
    "players_split <- initial_split(players_scaled, prop = 0.75, strata = subscribe)\n",
    "players_testing <- testing(players_split)\n",
    "players_training <- training(players_split)"
   ]
  },
  {
   "cell_type": "code",
   "execution_count": 26,
   "id": "349ee930-3f7c-483d-bf8b-f04ae4584355",
   "metadata": {
    "vscode": {
     "languageId": "r"
    }
   },
   "outputs": [
    {
     "name": "stderr",
     "output_type": "stream",
     "text": [
      "→ \u001b[31m\u001b[1mA\u001b[22m\u001b[39m | \u001b[31merror\u001b[39m:   \u001b[1m\u001b[22mFailed to compute `rmse()`.\n",
      "               \u001b[1mCaused by error:\u001b[22m\n",
      "               \u001b[1m\u001b[22m\u001b[33m!\u001b[39m `truth` should be a numeric vector, not a numeric matrix.\n",
      "\n",
      "There were issues with some computations   \u001b[1m\u001b[31mA\u001b[39m\u001b[22m: x1\n",
      "\n",
      "There were issues with some computations   \u001b[1m\u001b[31mA\u001b[39m\u001b[22m: x5\n",
      "\n",
      "There were issues with some computations   \u001b[1m\u001b[31mA\u001b[39m\u001b[22m: x5\n",
      "\n",
      "\n",
      "\n",
      "Warning message:\n",
      "\"All models failed. Run `show_notes(.Last.tune.result)` for more information.\"\n"
     ]
    },
    {
     "ename": "ERROR",
     "evalue": "\u001b[1m\u001b[33mError\u001b[39m in `estimate_tune_results()`:\u001b[22m\n\u001b[33m!\u001b[39m All models failed. Run `show_notes(.Last.tune.result)` for more information.\n",
     "output_type": "error",
     "traceback": [
      "\u001b[1m\u001b[33mError\u001b[39m in `estimate_tune_results()`:\u001b[22m\n\u001b[33m!\u001b[39m All models failed. Run `show_notes(.Last.tune.result)` for more information.\nTraceback:\n",
      "1. collect_metrics.tune_results(tune_grid(play_workflow, resamples = play_vfold, \n .     grid = gridvals))",
      "2. estimate_tune_results(x)",
      "3. rlang::abort(\"All models failed. Run `show_notes(.Last.tune.result)` for more information.\")",
      "4. signal_abort(cnd, .file)",
      "5. signalCondition(cnd)"
     ]
    }
   ],
   "source": [
    "\n",
    "\n",
    "\n",
    "players_model <- nearest_neighbor(\n",
    "  weight_func = \"rectangular\",\n",
    "  neighbors = tune()\n",
    ") |>\n",
    "  set_engine(\"kknn\") |>\n",
    "  set_mode(\"regression\")\n",
    "\n",
    "\n",
    "play_recipe <- recipe(played_hours ~ ., data = players_training) |>\n",
    "  step_scale(Age) |>\n",
    "  step_center(Age)\n",
    "\n",
    "\n",
    "play_vfold <- vfold_cv(players_training, v = 5, strata = played_hours)\n",
    "\n",
    "\n",
    "play_workflow <- workflow() |>\n",
    "  add_recipe(play_recipe) |>\n",
    "  add_model(players_model)\n",
    "\n",
    "\n",
    "gridvals <- tibble(neighbors = seq(from = 1, to = 81, by = 10))\n",
    "\n",
    "\n",
    "play_results <- tune_grid(\n",
    "  play_workflow,\n",
    "  resamples = play_vfold,\n",
    "  grid = gridvals\n",
    ") |>\n",
    "  collect_metrics()\n",
    "\n",
    "play_results\n"
   ]
  },
  {
   "cell_type": "code",
   "execution_count": 16,
   "id": "95f5b80a-a5f3-45aa-8d54-fa2f468d2512",
   "metadata": {
    "vscode": {
     "languageId": "r"
    }
   },
   "outputs": [
    {
     "ename": "ERROR",
     "evalue": "Error: object 'play_results' not found\n",
     "output_type": "error",
     "traceback": [
      "Error: object 'play_results' not found\nTraceback:\n",
      "1. filter(play_results, .metric == \"rmse\")",
      "2. .handleSimpleError(function (cnd) \n . {\n .     watcher$capture_plot_and_output()\n .     cnd <- sanitize_call(cnd)\n .     watcher$push(cnd)\n .     switch(on_error, continue = invokeRestart(\"eval_continue\"), \n .         stop = invokeRestart(\"eval_stop\"), error = NULL)\n . }, \"object 'play_results' not found\", base::quote(eval(expr, \n .     envir)))"
     ]
    }
   ],
   "source": [
    "play_min <- play_results|>\n",
    "filter(.metric == \"rmse\")|>\n",
    "slice_min(mean, n = 1)\n",
    "play_min"
   ]
  },
  {
   "cell_type": "code",
   "execution_count": 8,
   "id": "709a759a-3575-4102-ae4e-6055209eee88",
   "metadata": {
    "vscode": {
     "languageId": "r"
    }
   },
   "outputs": [
    {
     "data": {
      "text/html": [
       "<table class=\"dataframe\">\n",
       "<caption>A tibble: 3 × 3</caption>\n",
       "<thead>\n",
       "\t<tr><th scope=col>.metric</th><th scope=col>.estimator</th><th scope=col>.estimate</th></tr>\n",
       "\t<tr><th scope=col>&lt;chr&gt;</th><th scope=col>&lt;chr&gt;</th><th scope=col>&lt;dbl&gt;</th></tr>\n",
       "</thead>\n",
       "<tbody>\n",
       "\t<tr><td>rmse</td><td>standard</td><td>35.5625</td></tr>\n",
       "\t<tr><td>rsq </td><td>standard</td><td> 0.8346</td></tr>\n",
       "\t<tr><td>mae </td><td>standard</td><td>20.2480</td></tr>\n",
       "</tbody>\n",
       "</table>\n"
      ],
      "text/latex": [
       "A tibble: 3 × 3\n",
       "\\begin{tabular}{lll}\n",
       " .metric & .estimator & .estimate\\\\\n",
       " <chr> & <chr> & <dbl>\\\\\n",
       "\\hline\n",
       "\t rmse & standard & 35.5625\\\\\n",
       "\t rsq  & standard &  0.8346\\\\\n",
       "\t mae  & standard & 20.2480\\\\\n",
       "\\end{tabular}\n"
      ],
      "text/markdown": [
       "\n",
       "A tibble: 3 × 3\n",
       "\n",
       "| .metric &lt;chr&gt; | .estimator &lt;chr&gt; | .estimate &lt;dbl&gt; |\n",
       "|---|---|---|\n",
       "| rmse | standard | 35.5625 |\n",
       "| rsq  | standard |  0.8346 |\n",
       "| mae  | standard | 20.2480 |\n",
       "\n"
      ],
      "text/plain": [
       "  .metric .estimator .estimate\n",
       "1 rmse    standard   35.5625  \n",
       "2 rsq     standard    0.8346  \n",
       "3 mae     standard   20.2480  "
      ]
     },
     "metadata": {},
     "output_type": "display_data"
    }
   ],
   "source": [
    "players_pred_accuracy <- players_prediction|>\n",
    "metrics(truth = subscribe, estimate = .pred_class)\n",
    "players_pred_accuracy"
   ]
  },
  {
   "cell_type": "code",
   "execution_count": 12,
   "id": "7253af2b-3378-4ae2-ad22-775493a71aa5",
   "metadata": {
    "vscode": {
     "languageId": "r"
    }
   },
   "outputs": [
    {
     "data": {
      "text/plain": [
       "          Truth\n",
       "Prediction FALSE TRUE\n",
       "     FALSE     2    0\n",
       "     TRUE     11   36"
      ]
     },
     "metadata": {},
     "output_type": "display_data"
    }
   ],
   "source": [
    "players_mat <- players_prediction|>\n",
    "conf_mat(truth = subscribe, estimate = .pred_class)\n",
    "players_mat"
   ]
  },
  {
   "cell_type": "code",
   "execution_count": 26,
   "id": "4232a108-17c8-4f49-8e46-23ee76c09227",
   "metadata": {
    "vscode": {
     "languageId": "r"
    }
   },
   "outputs": [
    {
     "data": {
      "text/html": [
       "<table class=\"dataframe\">\n",
       "<caption>A tibble: 2 × 6</caption>\n",
       "<thead>\n",
       "\t<tr><th scope=col>.metric</th><th scope=col>.estimator</th><th scope=col>mean</th><th scope=col>n</th><th scope=col>std_err</th><th scope=col>.config</th></tr>\n",
       "\t<tr><th scope=col>&lt;chr&gt;</th><th scope=col>&lt;chr&gt;</th><th scope=col>&lt;dbl&gt;</th><th scope=col>&lt;int&gt;</th><th scope=col>&lt;dbl&gt;</th><th scope=col>&lt;chr&gt;</th></tr>\n",
       "</thead>\n",
       "<tbody>\n",
       "\t<tr><td>accuracy</td><td>binary</td><td>0.7301970</td><td>5</td><td>0.02929188</td><td>Preprocessor1_Model1</td></tr>\n",
       "\t<tr><td>roc_auc </td><td>binary</td><td>0.6044952</td><td>5</td><td>0.06408316</td><td>Preprocessor1_Model1</td></tr>\n",
       "</tbody>\n",
       "</table>\n"
      ],
      "text/latex": [
       "A tibble: 2 × 6\n",
       "\\begin{tabular}{llllll}\n",
       " .metric & .estimator & mean & n & std\\_err & .config\\\\\n",
       " <chr> & <chr> & <dbl> & <int> & <dbl> & <chr>\\\\\n",
       "\\hline\n",
       "\t accuracy & binary & 0.7301970 & 5 & 0.02929188 & Preprocessor1\\_Model1\\\\\n",
       "\t roc\\_auc  & binary & 0.6044952 & 5 & 0.06408316 & Preprocessor1\\_Model1\\\\\n",
       "\\end{tabular}\n"
      ],
      "text/markdown": [
       "\n",
       "A tibble: 2 × 6\n",
       "\n",
       "| .metric &lt;chr&gt; | .estimator &lt;chr&gt; | mean &lt;dbl&gt; | n &lt;int&gt; | std_err &lt;dbl&gt; | .config &lt;chr&gt; |\n",
       "|---|---|---|---|---|---|\n",
       "| accuracy | binary | 0.7301970 | 5 | 0.02929188 | Preprocessor1_Model1 |\n",
       "| roc_auc  | binary | 0.6044952 | 5 | 0.06408316 | Preprocessor1_Model1 |\n",
       "\n"
      ],
      "text/plain": [
       "  .metric  .estimator mean      n std_err    .config             \n",
       "1 accuracy binary     0.7301970 5 0.02929188 Preprocessor1_Model1\n",
       "2 roc_auc  binary     0.6044952 5 0.06408316 Preprocessor1_Model1"
      ]
     },
     "metadata": {},
     "output_type": "display_data"
    }
   ],
   "source": [
    "players_vfold <- vfold_cv(players_training, v = 5, strata = subscribe)\n",
    "\n",
    "\n",
    "players_resample <- workflow()|>\n",
    "add_recipe(players_recipe)|>\n",
    "add_model(players_model)|>\n",
    "fit_resamples(resamples = players_vfold)|>\n",
    "collect_metrics()\n",
    "players_resample"
   ]
  },
  {
   "cell_type": "code",
   "execution_count": 34,
   "id": "067bd48a-ae93-4831-8b10-97922478d51d",
   "metadata": {
    "vscode": {
     "languageId": "r"
    }
   },
   "outputs": [
    {
     "data": {
      "text/html": [
       "<table class=\"dataframe\">\n",
       "<caption>A tibble: 20 × 7</caption>\n",
       "<thead>\n",
       "\t<tr><th scope=col>neighbors</th><th scope=col>.metric</th><th scope=col>.estimator</th><th scope=col>mean</th><th scope=col>n</th><th scope=col>std_err</th><th scope=col>.config</th></tr>\n",
       "\t<tr><th scope=col>&lt;dbl&gt;</th><th scope=col>&lt;chr&gt;</th><th scope=col>&lt;chr&gt;</th><th scope=col>&lt;dbl&gt;</th><th scope=col>&lt;int&gt;</th><th scope=col>&lt;dbl&gt;</th><th scope=col>&lt;chr&gt;</th></tr>\n",
       "</thead>\n",
       "<tbody>\n",
       "\t<tr><td>1</td><td>accuracy</td><td>binary</td><td>0.6055008</td><td>5</td><td>0.04521082</td><td>Preprocessor1_Model01</td></tr>\n",
       "\t<tr><td>1</td><td>roc_auc </td><td>binary</td><td>0.5507035</td><td>5</td><td>0.04927219</td><td>Preprocessor1_Model01</td></tr>\n",
       "\t<tr><td>2</td><td>accuracy</td><td>binary</td><td>0.6192939</td><td>5</td><td>0.04031851</td><td>Preprocessor1_Model02</td></tr>\n",
       "\t<tr><td>⋮</td><td>⋮</td><td>⋮</td><td>⋮</td><td>⋮</td><td>⋮</td><td>⋮</td></tr>\n",
       "\t<tr><td> 9</td><td>roc_auc </td><td>binary</td><td>0.6117308</td><td>5</td><td>0.07812870</td><td>Preprocessor1_Model09</td></tr>\n",
       "\t<tr><td>10</td><td>accuracy</td><td>binary</td><td>0.7235140</td><td>5</td><td>0.02129237</td><td>Preprocessor1_Model10</td></tr>\n",
       "\t<tr><td>10</td><td>roc_auc </td><td>binary</td><td>0.5866844</td><td>5</td><td>0.07853797</td><td>Preprocessor1_Model10</td></tr>\n",
       "</tbody>\n",
       "</table>\n"
      ],
      "text/latex": [
       "A tibble: 20 × 7\n",
       "\\begin{tabular}{lllllll}\n",
       " neighbors & .metric & .estimator & mean & n & std\\_err & .config\\\\\n",
       " <dbl> & <chr> & <chr> & <dbl> & <int> & <dbl> & <chr>\\\\\n",
       "\\hline\n",
       "\t 1 & accuracy & binary & 0.6055008 & 5 & 0.04521082 & Preprocessor1\\_Model01\\\\\n",
       "\t 1 & roc\\_auc  & binary & 0.5507035 & 5 & 0.04927219 & Preprocessor1\\_Model01\\\\\n",
       "\t 2 & accuracy & binary & 0.6192939 & 5 & 0.04031851 & Preprocessor1\\_Model02\\\\\n",
       "\t ⋮ & ⋮ & ⋮ & ⋮ & ⋮ & ⋮ & ⋮\\\\\n",
       "\t  9 & roc\\_auc  & binary & 0.6117308 & 5 & 0.07812870 & Preprocessor1\\_Model09\\\\\n",
       "\t 10 & accuracy & binary & 0.7235140 & 5 & 0.02129237 & Preprocessor1\\_Model10\\\\\n",
       "\t 10 & roc\\_auc  & binary & 0.5866844 & 5 & 0.07853797 & Preprocessor1\\_Model10\\\\\n",
       "\\end{tabular}\n"
      ],
      "text/markdown": [
       "\n",
       "A tibble: 20 × 7\n",
       "\n",
       "| neighbors &lt;dbl&gt; | .metric &lt;chr&gt; | .estimator &lt;chr&gt; | mean &lt;dbl&gt; | n &lt;int&gt; | std_err &lt;dbl&gt; | .config &lt;chr&gt; |\n",
       "|---|---|---|---|---|---|---|\n",
       "| 1 | accuracy | binary | 0.6055008 | 5 | 0.04521082 | Preprocessor1_Model01 |\n",
       "| 1 | roc_auc  | binary | 0.5507035 | 5 | 0.04927219 | Preprocessor1_Model01 |\n",
       "| 2 | accuracy | binary | 0.6192939 | 5 | 0.04031851 | Preprocessor1_Model02 |\n",
       "| ⋮ | ⋮ | ⋮ | ⋮ | ⋮ | ⋮ | ⋮ |\n",
       "|  9 | roc_auc  | binary | 0.6117308 | 5 | 0.07812870 | Preprocessor1_Model09 |\n",
       "| 10 | accuracy | binary | 0.7235140 | 5 | 0.02129237 | Preprocessor1_Model10 |\n",
       "| 10 | roc_auc  | binary | 0.5866844 | 5 | 0.07853797 | Preprocessor1_Model10 |\n",
       "\n"
      ],
      "text/plain": [
       "   neighbors .metric  .estimator mean      n std_err    .config              \n",
       "1  1         accuracy binary     0.6055008 5 0.04521082 Preprocessor1_Model01\n",
       "2  1         roc_auc  binary     0.5507035 5 0.04927219 Preprocessor1_Model01\n",
       "3  2         accuracy binary     0.6192939 5 0.04031851 Preprocessor1_Model02\n",
       "⋮  ⋮         ⋮        ⋮          ⋮         ⋮ ⋮          ⋮                    \n",
       "18  9        roc_auc  binary     0.6117308 5 0.07812870 Preprocessor1_Model09\n",
       "19 10        accuracy binary     0.7235140 5 0.02129237 Preprocessor1_Model10\n",
       "20 10        roc_auc  binary     0.5866844 5 0.07853797 Preprocessor1_Model10"
      ]
     },
     "metadata": {},
     "output_type": "display_data"
    }
   ],
   "source": [
    "players_tune <-  nearest_neighbor(weight_func = \"rectangular\", neighbors = tune())|>\n",
    "set_engine(\"kknn\")|>\n",
    "set_mode(\"regression\")\n",
    "\n",
    "play_fit <- workflow()|>\n",
    "add_recipe(play_recipe)|>\n",
    "add_model(play_spec)|>\n",
    "fit(data = play_sessions_training)\n",
    "\n",
    "players_tune_results <- workflow()|>\n",
    "add_recipe(players_recipe)|>\n",
    "add_model(players_tune)|>\n",
    "tune_grid(resamples = players_vfold, grid = players_grid)|>\n",
    "collect_metrics()\n",
    "players_tune_results"
   ]
  },
  {
   "cell_type": "code",
   "execution_count": 32,
   "id": "8ab70e34-9a74-4394-86fd-bf8873b754ae",
   "metadata": {
    "vscode": {
     "languageId": "r"
    }
   },
   "outputs": [
    {
     "data": {
      "text/html": [
       "<table class=\"dataframe\">\n",
       "<caption>A tibble: 1441 × 13</caption>\n",
       "<thead>\n",
       "\t<tr><th scope=col>hashedEmail</th><th scope=col>Day</th><th scope=col>Month</th><th scope=col>Year</th><th scope=col>Hour</th><th scope=col>Minute</th><th scope=col>EDay</th><th scope=col>EMonth</th><th scope=col>EYear</th><th scope=col>EHour</th><th scope=col>EMinute</th><th scope=col>original_start_time</th><th scope=col>original_end_time</th></tr>\n",
       "\t<tr><th scope=col>&lt;chr&gt;</th><th scope=col>&lt;dbl&gt;</th><th scope=col>&lt;dbl&gt;</th><th scope=col>&lt;dbl&gt;</th><th scope=col>&lt;dbl&gt;</th><th scope=col>&lt;dbl&gt;</th><th scope=col>&lt;dbl&gt;</th><th scope=col>&lt;dbl&gt;</th><th scope=col>&lt;dbl&gt;</th><th scope=col>&lt;dbl&gt;</th><th scope=col>&lt;dbl&gt;</th><th scope=col>&lt;dbl&gt;</th><th scope=col>&lt;dbl&gt;</th></tr>\n",
       "</thead>\n",
       "<tbody>\n",
       "\t<tr><td>bfce39c89d6549f2bb94d8064d3ce69dc3d7e72b38f431d8aa0c4bf95ccee6bf</td><td>30</td><td>6</td><td>2024</td><td>18</td><td>12</td><td>30</td><td>6</td><td>2024</td><td>18</td><td>24</td><td>1.71977e+12</td><td>1.71977e+12</td></tr>\n",
       "\t<tr><td>36d9cbb4c6bc0c1a6911436d2da0d09ec625e43e6552f575d4acc9cf487c4686</td><td>17</td><td>6</td><td>2024</td><td>23</td><td>33</td><td>17</td><td>6</td><td>2024</td><td>23</td><td>46</td><td>1.71867e+12</td><td>1.71867e+12</td></tr>\n",
       "\t<tr><td>f8f5477f5a2e53616ae37421b1c660b971192bd8ff77e3398304c7ae42581fdc</td><td>25</td><td>7</td><td>2024</td><td>17</td><td>34</td><td>25</td><td>7</td><td>2024</td><td>17</td><td>57</td><td>1.72193e+12</td><td>1.72193e+12</td></tr>\n",
       "\t<tr><td>⋮</td><td>⋮</td><td>⋮</td><td>⋮</td><td>⋮</td><td>⋮</td><td>⋮</td><td>⋮</td><td>⋮</td><td>⋮</td><td>⋮</td><td>⋮</td><td>⋮</td></tr>\n",
       "\t<tr><td>fd6563a4e0f6f4273580e5fedbd8dda64990447aea5a33cbb5e894a3867ca44d</td><td>28</td><td>7</td><td>2024</td><td>15</td><td>36</td><td>28</td><td>7</td><td>2024</td><td>15</td><td>57</td><td>1.72218e+12</td><td>1.72218e+12</td></tr>\n",
       "\t<tr><td>fd6563a4e0f6f4273580e5fedbd8dda64990447aea5a33cbb5e894a3867ca44d</td><td>25</td><td>7</td><td>2024</td><td> 6</td><td>15</td><td>25</td><td>7</td><td>2024</td><td> 6</td><td>22</td><td>1.72189e+12</td><td>1.72189e+12</td></tr>\n",
       "\t<tr><td>36d9cbb4c6bc0c1a6911436d2da0d09ec625e43e6552f575d4acc9cf487c4686</td><td>20</td><td>5</td><td>2024</td><td> 2</td><td>26</td><td>20</td><td>5</td><td>2024</td><td> 2</td><td>45</td><td>1.71617e+12</td><td>1.71617e+12</td></tr>\n",
       "</tbody>\n",
       "</table>\n"
      ],
      "text/latex": [
       "A tibble: 1441 × 13\n",
       "\\begin{tabular}{lllllllllllll}\n",
       " hashedEmail & Day & Month & Year & Hour & Minute & EDay & EMonth & EYear & EHour & EMinute & original\\_start\\_time & original\\_end\\_time\\\\\n",
       " <chr> & <dbl> & <dbl> & <dbl> & <dbl> & <dbl> & <dbl> & <dbl> & <dbl> & <dbl> & <dbl> & <dbl> & <dbl>\\\\\n",
       "\\hline\n",
       "\t bfce39c89d6549f2bb94d8064d3ce69dc3d7e72b38f431d8aa0c4bf95ccee6bf & 30 & 6 & 2024 & 18 & 12 & 30 & 6 & 2024 & 18 & 24 & 1.71977e+12 & 1.71977e+12\\\\\n",
       "\t 36d9cbb4c6bc0c1a6911436d2da0d09ec625e43e6552f575d4acc9cf487c4686 & 17 & 6 & 2024 & 23 & 33 & 17 & 6 & 2024 & 23 & 46 & 1.71867e+12 & 1.71867e+12\\\\\n",
       "\t f8f5477f5a2e53616ae37421b1c660b971192bd8ff77e3398304c7ae42581fdc & 25 & 7 & 2024 & 17 & 34 & 25 & 7 & 2024 & 17 & 57 & 1.72193e+12 & 1.72193e+12\\\\\n",
       "\t ⋮ & ⋮ & ⋮ & ⋮ & ⋮ & ⋮ & ⋮ & ⋮ & ⋮ & ⋮ & ⋮ & ⋮ & ⋮\\\\\n",
       "\t fd6563a4e0f6f4273580e5fedbd8dda64990447aea5a33cbb5e894a3867ca44d & 28 & 7 & 2024 & 15 & 36 & 28 & 7 & 2024 & 15 & 57 & 1.72218e+12 & 1.72218e+12\\\\\n",
       "\t fd6563a4e0f6f4273580e5fedbd8dda64990447aea5a33cbb5e894a3867ca44d & 25 & 7 & 2024 &  6 & 15 & 25 & 7 & 2024 &  6 & 22 & 1.72189e+12 & 1.72189e+12\\\\\n",
       "\t 36d9cbb4c6bc0c1a6911436d2da0d09ec625e43e6552f575d4acc9cf487c4686 & 20 & 5 & 2024 &  2 & 26 & 20 & 5 & 2024 &  2 & 45 & 1.71617e+12 & 1.71617e+12\\\\\n",
       "\\end{tabular}\n"
      ],
      "text/markdown": [
       "\n",
       "A tibble: 1441 × 13\n",
       "\n",
       "| hashedEmail &lt;chr&gt; | Day &lt;dbl&gt; | Month &lt;dbl&gt; | Year &lt;dbl&gt; | Hour &lt;dbl&gt; | Minute &lt;dbl&gt; | EDay &lt;dbl&gt; | EMonth &lt;dbl&gt; | EYear &lt;dbl&gt; | EHour &lt;dbl&gt; | EMinute &lt;dbl&gt; | original_start_time &lt;dbl&gt; | original_end_time &lt;dbl&gt; |\n",
       "|---|---|---|---|---|---|---|---|---|---|---|---|---|\n",
       "| bfce39c89d6549f2bb94d8064d3ce69dc3d7e72b38f431d8aa0c4bf95ccee6bf | 30 | 6 | 2024 | 18 | 12 | 30 | 6 | 2024 | 18 | 24 | 1.71977e+12 | 1.71977e+12 |\n",
       "| 36d9cbb4c6bc0c1a6911436d2da0d09ec625e43e6552f575d4acc9cf487c4686 | 17 | 6 | 2024 | 23 | 33 | 17 | 6 | 2024 | 23 | 46 | 1.71867e+12 | 1.71867e+12 |\n",
       "| f8f5477f5a2e53616ae37421b1c660b971192bd8ff77e3398304c7ae42581fdc | 25 | 7 | 2024 | 17 | 34 | 25 | 7 | 2024 | 17 | 57 | 1.72193e+12 | 1.72193e+12 |\n",
       "| ⋮ | ⋮ | ⋮ | ⋮ | ⋮ | ⋮ | ⋮ | ⋮ | ⋮ | ⋮ | ⋮ | ⋮ | ⋮ |\n",
       "| fd6563a4e0f6f4273580e5fedbd8dda64990447aea5a33cbb5e894a3867ca44d | 28 | 7 | 2024 | 15 | 36 | 28 | 7 | 2024 | 15 | 57 | 1.72218e+12 | 1.72218e+12 |\n",
       "| fd6563a4e0f6f4273580e5fedbd8dda64990447aea5a33cbb5e894a3867ca44d | 25 | 7 | 2024 |  6 | 15 | 25 | 7 | 2024 |  6 | 22 | 1.72189e+12 | 1.72189e+12 |\n",
       "| 36d9cbb4c6bc0c1a6911436d2da0d09ec625e43e6552f575d4acc9cf487c4686 | 20 | 5 | 2024 |  2 | 26 | 20 | 5 | 2024 |  2 | 45 | 1.71617e+12 | 1.71617e+12 |\n",
       "\n"
      ],
      "text/plain": [
       "     hashedEmail                                                      Day Month\n",
       "1    bfce39c89d6549f2bb94d8064d3ce69dc3d7e72b38f431d8aa0c4bf95ccee6bf 30  6    \n",
       "2    36d9cbb4c6bc0c1a6911436d2da0d09ec625e43e6552f575d4acc9cf487c4686 17  6    \n",
       "3    f8f5477f5a2e53616ae37421b1c660b971192bd8ff77e3398304c7ae42581fdc 25  7    \n",
       "⋮    ⋮                                                                ⋮   ⋮    \n",
       "1439 fd6563a4e0f6f4273580e5fedbd8dda64990447aea5a33cbb5e894a3867ca44d 28  7    \n",
       "1440 fd6563a4e0f6f4273580e5fedbd8dda64990447aea5a33cbb5e894a3867ca44d 25  7    \n",
       "1441 36d9cbb4c6bc0c1a6911436d2da0d09ec625e43e6552f575d4acc9cf487c4686 20  5    \n",
       "     Year Hour Minute EDay EMonth EYear EHour EMinute original_start_time\n",
       "1    2024 18   12     30   6      2024  18    24      1.71977e+12        \n",
       "2    2024 23   33     17   6      2024  23    46      1.71867e+12        \n",
       "3    2024 17   34     25   7      2024  17    57      1.72193e+12        \n",
       "⋮    ⋮    ⋮    ⋮      ⋮    ⋮      ⋮     ⋮     ⋮       ⋮                  \n",
       "1439 2024 15   36     28   7      2024  15    57      1.72218e+12        \n",
       "1440 2024  6   15     25   7      2024   6    22      1.72189e+12        \n",
       "1441 2024  2   26     20   5      2024   2    45      1.71617e+12        \n",
       "     original_end_time\n",
       "1    1.71977e+12      \n",
       "2    1.71867e+12      \n",
       "3    1.72193e+12      \n",
       "⋮    ⋮                \n",
       "1439 1.72218e+12      \n",
       "1440 1.72189e+12      \n",
       "1441 1.71617e+12      "
      ]
     },
     "metadata": {},
     "output_type": "display_data"
    }
   ],
   "source": [
    "sessions <- sessions_data |>\n",
    "    separate(start_time, into = c(\"Date\", \"Time\"), sep = \" \") |>\n",
    "    separate(Date, into = c(\"Day\", \"Month\", \"Year\"), sep = \"/\") |>\n",
    "    separate(end_time, into = c(\"EDate\", \"ETime\"), sep = \" \") |>\n",
    "    separate(EDate, into = c(\"EDay\", \"EMonth\", \"EYear\"), sep = \"/\") |>\n",
    "    mutate(Day = as.numeric(Day), EDay = as.numeric(EDay),\n",
    "           Month = as.numeric(Month), EMonth = as.numeric(EMonth), \n",
    "           Year = as.numeric(Year), EYear = as.numeric(EYear)) |>\n",
    "    separate(Time, into = c(\"Hour\", \"Minute\"), sep = \":\") |>\n",
    "    separate(ETime, into = c(\"EHour\", \"EMinute\"), sep = \":\") |>\n",
    "    mutate(Hour = as.numeric(Hour), EHour = as.numeric(EHour),\n",
    "           Minute = as.numeric(Minute), EMinute = as.numeric(EMinute)) |>\n",
    "\n",
    "    #Filter out rows that contain sessions that lasted more than a day(these data points are probably outliers)\n",
    "\n",
    "    filter(Day==EDay & Month==EMonth & Year==EYear)\n",
    "\n",
    "\n",
    "\n",
    "sessions"
   ]
  },
  {
   "cell_type": "code",
   "execution_count": 38,
   "id": "7b7e5870",
   "metadata": {
    "vscode": {
     "languageId": "r"
    }
   },
   "outputs": [
    {
     "data": {
      "text/html": [
       "<table class=\"dataframe\">\n",
       "<caption>A tibble: 1 × 3</caption>\n",
       "<thead>\n",
       "\t<tr><th scope=col>average_time</th><th scope=col>median_time</th><th scope=col>sd_time</th></tr>\n",
       "\t<tr><th scope=col>&lt;dbl&gt;</th><th scope=col>&lt;dbl&gt;</th><th scope=col>&lt;dbl&gt;</th></tr>\n",
       "</thead>\n",
       "<tbody>\n",
       "\t<tr><td>46.85982</td><td>26</td><td>51.73255</td></tr>\n",
       "</tbody>\n",
       "</table>\n"
      ],
      "text/latex": [
       "A tibble: 1 × 3\n",
       "\\begin{tabular}{lll}\n",
       " average\\_time & median\\_time & sd\\_time\\\\\n",
       " <dbl> & <dbl> & <dbl>\\\\\n",
       "\\hline\n",
       "\t 46.85982 & 26 & 51.73255\\\\\n",
       "\\end{tabular}\n"
      ],
      "text/markdown": [
       "\n",
       "A tibble: 1 × 3\n",
       "\n",
       "| average_time &lt;dbl&gt; | median_time &lt;dbl&gt; | sd_time &lt;dbl&gt; |\n",
       "|---|---|---|\n",
       "| 46.85982 | 26 | 51.73255 |\n",
       "\n"
      ],
      "text/plain": [
       "  average_time median_time sd_time \n",
       "1 46.85982     26          51.73255"
      ]
     },
     "metadata": {},
     "output_type": "display_data"
    },
    {
     "data": {
      "image/png": "[encoded data removed]",
      "text/plain": [
       "plot without title"
      ]
     },
     "metadata": {
      "image/png": {
       "height": 420,
       "width": 420
      }
     },
     "output_type": "display_data"
    }
   ],
   "source": [
    "sessions_time_diff <- sessions |>\n",
    "    mutate(time_diff = (EHour - Hour) * 60 + (EMinute - Minute))\n",
    "\n",
    "\n",
    "time_stats <- sessions_time_diff |>\n",
    "    summarize(average_time = mean(time_diff, na.rm = TRUE),\n",
    "              median_time = median(time_diff, na.rm = TRUE),\n",
    "              sd_time = sd(time_diff, na.rm = TRUE))\n",
    "\n",
    "\n",
    "sessions_visualization <- sessions_time_diff |>\n",
    "    ggplot(aes(x = time_diff)) +\n",
    "    geom_histogram(binwidth = 10) +\n",
    "    labs(title = \"Distribution of Session Time Differences\",\n",
    "         x = \"Time Difference (minutes)\",\n",
    "         y = \"Count\")\n",
    "\n",
    "sessions_visualization\n",
    "time_stats\n",
    "\n",
    "# Skewed right distribution where most people had sessions that lasted less than 60 minutes"
   ]
  },
  {
   "cell_type": "markdown",
   "id": "aa9cc5a1",
   "metadata": {},
   "source": [
    "## Sessions Data Analysis\n",
    "\n",
    "# Distribution Plot:\n",
    "To create a distribution plot that visualizes the time differences in players' sessions, a new data frame was created with a column that calculates the time length of sessions by finding the difference between the start and ending hours, multiplying by 60, and adding the difference between the start and ending minutes. By using this column as the x-axis of a historgram with counts on the y-axis, the distribution of the length of player time sessions can be seen. The histogram depicts a skewed right distribution that has a mean play time of around 46 minutes, median time of 26 minutes, and standard deviation of 51 minutes. This large difference between the mean and median values of session time indicates that a majority of session times lie under 30 minutes, while large outlier session times are influencing the mean by increasing the overall average for the session times."
   ]
  },
  {
   "cell_type": "markdown",
   "id": "2d0936e6",
   "metadata": {},
   "source": []
  }
 ],
 "metadata": {
  "kernelspec": {
   "display_name": "R",
   "language": "R",
   "name": "ir"
  },
  "language_info": {
   "codemirror_mode": "r",
   "file_extension": ".r",
   "mimetype": "text/x-r-source",
   "name": "R",
   "pygments_lexer": "r",
   "version": "4.4.3"
  }
 },
 "nbformat": 4,
 "nbformat_minor": 5
}
